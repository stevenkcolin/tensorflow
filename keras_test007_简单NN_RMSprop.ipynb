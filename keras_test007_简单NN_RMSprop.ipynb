{
  "nbformat": 4,
  "nbformat_minor": 0,
  "metadata": {
    "colab": {
      "name": "keras_test007_简单NN_RMSprop.ipynb",
      "version": "0.3.2",
      "provenance": [],
      "private_outputs": true,
      "collapsed_sections": [],
      "toc_visible": true,
      "include_colab_link": true
    },
    "kernelspec": {
      "name": "python3",
      "display_name": "Python 3"
    },
    "accelerator": "GPU"
  },
  "cells": [
    {
      "cell_type": "markdown",
      "metadata": {
        "id": "view-in-github",
        "colab_type": "text"
      },
      "source": [
        "<a href=\"https://colab.research.google.com/github/stevenkcolin/tensorflow/blob/master/keras_test007_%E7%AE%80%E5%8D%95NN_RMSprop.ipynb\" target=\"_parent\"><img src=\"https://colab.research.google.com/assets/colab-badge.svg\" alt=\"Open In Colab\"/></a>"
      ]
    },
    {
      "metadata": {
        "id": "_1qMXRJk_Sm9",
        "colab_type": "text"
      },
      "cell_type": "markdown",
      "source": [
        "## 从0开始Keras\n",
        "\n",
        "#### Step1: 导入数据，这里我们选择了最有名的mnist，就是0-9的图片集合啦"
      ]
    },
    {
      "metadata": {
        "id": "1E559Se8-fvk",
        "colab_type": "code",
        "colab": {}
      },
      "cell_type": "code",
      "source": [
        "import numpy as np\n",
        "from keras.datasets import mnist\n",
        "\n",
        "np.random.seed(1671) \n",
        "\n",
        "(X_train, y_train),(X_test,y_test) = mnist.load_data()\n",
        "# print(X_train,y_train)\n",
        "# print(X_test,y_test)"
      ],
      "execution_count": 0,
      "outputs": []
    },
    {
      "metadata": {
        "id": "BZ7RcH6qB2Xs",
        "colab_type": "text"
      },
      "cell_type": "markdown",
      "source": [
        "### Step 2：数据预处理"
      ]
    },
    {
      "metadata": {
        "id": "kIEmMQf-AVvI",
        "colab_type": "code",
        "colab": {}
      },
      "cell_type": "code",
      "source": [
        "# 数据预处理\n",
        "RESHAPED = 784\n",
        "X_train  = X_train.reshape(60000,RESHAPED)\n",
        "X_test = X_test.reshape(10000,RESHAPED)\n",
        "X_train = X_train.astype('float32')\n",
        "X_test = X_test.astype('float32')\n",
        "\n",
        "# print(\"X_train is: \",X_train)\n",
        "# print(\"X_test is: \",X_test)"
      ],
      "execution_count": 0,
      "outputs": []
    },
    {
      "metadata": {
        "id": "kvwsQC5YB6Ny",
        "colab_type": "code",
        "colab": {}
      },
      "cell_type": "code",
      "source": [
        "from keras.utils import np_utils\n",
        "NB_CLASSES = 10 # 这里10就代表我们想要的结果是对应的0-9这10个数字\n",
        "\n",
        "X_train /=255\n",
        "X_test /=255\n",
        "\n",
        "# print(X_train.shape[0],'train samples')\n",
        "# print(X_test.shape[0],'test samples')\n",
        "\n",
        "y_train = np_utils.to_categorical(y_train,NB_CLASSES)\n",
        "y_test = np_utils.to_categorical(y_test,NB_CLASSES)\n",
        "\n",
        "# print(\"y_train is: \",y_train)\n",
        "# print(\"y_test is: \",y_test)"
      ],
      "execution_count": 0,
      "outputs": []
    },
    {
      "metadata": {
        "id": "LNcjv0CRDRKU",
        "colab_type": "text"
      },
      "cell_type": "markdown",
      "source": [
        "### step 3 开始定义我们可爱的神经网络了"
      ]
    },
    {
      "metadata": {
        "id": "KypSGMyWDQT7",
        "colab_type": "code",
        "colab": {}
      },
      "cell_type": "code",
      "source": [
        "from keras.models import Sequential \n",
        "from keras.layers.core import Dense, Activation\n",
        "N_HIDDEN = 128\n",
        "from keras.layers.core import Dropout\n",
        "DROPOUT = 0.3\n",
        "\n",
        "from keras import regularizers\n",
        "\n",
        "\n",
        "model = Sequential()\n",
        "\n",
        "model.add(Dense(N_HIDDEN,input_shape=(RESHAPED,))) #前面我们定义了reshaped = 784, 代表28*28的图片，nb_classes=10代表0-9.这里的意思就是输入为784的矩阵，输出是10\n",
        "model.add(Activation('relu'))\n",
        "model.add(Dropout(DROPOUT))\n",
        "\n",
        "# 从下面的图可以看到，没有regularization的图片误差比较大。\n",
        "# 添加regularizer.l2(0.01) \n",
        "# model.add(Dense(64,input_dim=64,kernel_regularizer=regularizers.l2(0.01))) \n",
        "\n",
        "\n",
        "\n",
        "model.add(Dense(N_HIDDEN))\n",
        "model.add(Activation('relu'))\n",
        "model.add(Dropout(DROPOUT))\n",
        "\n",
        "model.add(Dense(NB_CLASSES))\n",
        "model.add(Activation('softmax'))\n",
        "\n",
        "# model.summary()\n"
      ],
      "execution_count": 0,
      "outputs": []
    },
    {
      "metadata": {
        "id": "wOWRy_SMMlAx",
        "colab_type": "text"
      },
      "cell_type": "markdown",
      "source": [
        "### Step 5: 开始训练模型\n"
      ]
    },
    {
      "metadata": {
        "id": "gXctpF2iu4sM",
        "colab_type": "text"
      },
      "cell_type": "markdown",
      "source": [
        "## RMSprop（）\n",
        "## Adam（）"
      ]
    },
    {
      "metadata": {
        "id": "on4cvnufMK52",
        "colab_type": "code",
        "colab": {}
      },
      "cell_type": "code",
      "source": [
        "from keras.optimizers import SGD\n",
        "from keras.optimizers import RMSprop\n",
        "from keras.optimizers import Adam\n",
        "# OPTIMIZER = SGD()\n",
        "OPTIMIZER = RMSprop()\n",
        "# OPTIMIZER = Adam()\n",
        "model.compile(loss='categorical_crossentropy', optimizer=OPTIMIZER, metrics=['accuracy']) #设计模型的编译方式\n"
      ],
      "execution_count": 0,
      "outputs": []
    },
    {
      "metadata": {
        "id": "dF4BpDSHMod6",
        "colab_type": "code",
        "colab": {}
      },
      "cell_type": "code",
      "source": [
        "BATCH_SIZE = 128 \n",
        "NB_EPOCH = 20 #训练次数20次\n",
        "VERBOSE = 1 #log的输出方式\n",
        "VALIDATION_SPLIT = 0.2 # 用于验证的比例是20%\n",
        "\n",
        "history = model.fit(X_train,y_train,\n",
        "                    batch_size=BATCH_SIZE,\n",
        "                    epochs=NB_EPOCH,\n",
        "                    verbose=VERBOSE,\n",
        "                    validation_split=VALIDATION_SPLIT)"
      ],
      "execution_count": 0,
      "outputs": []
    },
    {
      "metadata": {
        "id": "XVCd6iiAQFJb",
        "colab_type": "text"
      },
      "cell_type": "markdown",
      "source": [
        "### Step 6：输出train sets & validation sets\n"
      ]
    },
    {
      "metadata": {
        "id": "iYbtJwbAsyud",
        "colab_type": "code",
        "colab": {}
      },
      "cell_type": "code",
      "source": [
        "import matplotlib.pyplot as plt\n",
        "loss = history.history['loss']\n",
        "val_loss = history.history['val_loss']\n",
        "epochs = range(1, len(loss) + 1)\n",
        "plt.plot(epochs, loss, color='red', label='Training loss')\n",
        "plt.plot(epochs, val_loss, color='green', label='Validation loss')\n",
        "plt.title('Training and validation loss')\n",
        "plt.xlabel('Epochs')\n",
        "plt.ylabel('Loss')\n",
        "plt.legend()\n",
        "plt.show()"
      ],
      "execution_count": 0,
      "outputs": []
    },
    {
      "metadata": {
        "id": "6wZJFtIztQFZ",
        "colab_type": "code",
        "colab": {}
      },
      "cell_type": "code",
      "source": [
        "acc = history.history['acc']\n",
        "val_acc = history.history['val_acc']\n",
        "plt.plot(epochs, acc, color='red', label='Training acc')\n",
        "plt.plot(epochs, val_acc, color='green', label='Validation acc')\n",
        "plt.title('Training and validation accuracy')\n",
        "plt.xlabel('Epochs')\n",
        "plt.ylabel('Loss')\n",
        "plt.legend()\n",
        "plt.show()"
      ],
      "execution_count": 0,
      "outputs": []
    },
    {
      "metadata": {
        "id": "PoUqyvA6tmvV",
        "colab_type": "text"
      },
      "cell_type": "markdown",
      "source": [
        "# Step 7: 输出测试结果"
      ]
    },
    {
      "metadata": {
        "id": "ySfxZmkPQIWq",
        "colab_type": "code",
        "colab": {}
      },
      "cell_type": "code",
      "source": [
        "score = model.evaluate(X_test,y_test,verbose=VERBOSE)\n",
        "print (\"Test Score: \",score[0])\n",
        "print (\"Test Accuracy: \", score[1])"
      ],
      "execution_count": 0,
      "outputs": []
    },
    {
      "metadata": {
        "id": "z8WOlgUrwT5Z",
        "colab_type": "code",
        "colab": {}
      },
      "cell_type": "code",
      "source": [
        "# predictions = model.predict(X_test)\n",
        "# print(predictions.shape)"
      ],
      "execution_count": 0,
      "outputs": []
    },
    {
      "metadata": {
        "id": "8tsPswizzGo4",
        "colab_type": "code",
        "colab": {}
      },
      "cell_type": "code",
      "source": [
        "!ls -lt"
      ],
      "execution_count": 0,
      "outputs": []
    }
  ]
}