{
  "nbformat": 4,
  "nbformat_minor": 0,
  "metadata": {
    "colab": {
      "name": "3_regularization.ipynb",
      "version": "0.3.2",
      "provenance": [],
      "collapsed_sections": [],
      "include_colab_link": true
    },
    "kernelspec": {
      "name": "python2",
      "display_name": "Python 2"
    }
  },
  "cells": [
    {
      "cell_type": "markdown",
      "metadata": {
        "id": "view-in-github",
        "colab_type": "text"
      },
      "source": [
        "<a href=\"https://colab.research.google.com/github/stevenkcolin/tensorflow/blob/master/3_regularization.ipynb\" target=\"_parent\"><img src=\"https://colab.research.google.com/assets/colab-badge.svg\" alt=\"Open In Colab\"/></a>"
      ]
    },
    {
      "metadata": {
        "colab_type": "text",
        "id": "kR-4eNdK6lYS"
      },
      "cell_type": "markdown",
      "source": [
        "Deep Learning\n",
        "=============\n",
        "\n",
        "Assignment 3\n",
        "------------\n",
        "\n",
        "Previously in `2_fullyconnected.ipynb`, you trained a logistic regression and a neural network model.\n",
        "\n",
        "The goal of this assignment is to explore regularization techniques."
      ]
    },
    {
      "metadata": {
        "id": "oE-5yumhQw-6",
        "colab_type": "code",
        "colab": {
          "base_uri": "https://localhost:8080/",
          "height": 136
        },
        "outputId": "07502eb4-dbaa-4739-a487-fe7150d3d312"
      },
      "cell_type": "code",
      "source": [
        "!ls -lt"
      ],
      "execution_count": 63,
      "outputs": [
        {
          "output_type": "stream",
          "text": [
            "total 924428\n",
            "-rw-r--r--  1 root   root 690800441 Jan 28 16:06 notMNIST.pickle\n",
            "drwxrwxr-x 12 133040 5000      4096 Jan 28 15:53 notMNIST_small\n",
            "drwxrwxr-x 12 133040 5000      4096 Jan 28 15:53 notMNIST_large\n",
            "-rw-r--r--  1 root   root   8458043 Jan 28 15:46 notMNIST_small.tar.gz\n",
            "-rw-r--r--  1 root   root 247336696 Jan 28 15:46 notMNIST_large.tar.gz\n",
            "drwxr-xr-x  1 root   root      4096 Jan  8 17:15 sample_data\n"
          ],
          "name": "stdout"
        }
      ]
    },
    {
      "metadata": {
        "cellView": "both",
        "colab_type": "code",
        "id": "JLpLa8Jt7Vu4",
        "colab": {}
      },
      "cell_type": "code",
      "source": [
        "# These are all the modules we'll be using later. Make sure you can import them\n",
        "# before proceeding further.\n",
        "from __future__ import print_function\n",
        "import numpy as np\n",
        "import tensorflow as tf\n",
        "from six.moves import cPickle as pickle"
      ],
      "execution_count": 0,
      "outputs": []
    },
    {
      "metadata": {
        "id": "EmdlUCe-Qobd",
        "colab_type": "code",
        "colab": {}
      },
      "cell_type": "code",
      "source": [
        "# Some personnal imports\n",
        "import matplotlib.pyplot as plt\n",
        "%matplotlib inline"
      ],
      "execution_count": 0,
      "outputs": []
    },
    {
      "metadata": {
        "colab_type": "text",
        "id": "1HrCK6e17WzV"
      },
      "cell_type": "markdown",
      "source": [
        "First reload the data we generated in _notmnist.ipynb_."
      ]
    },
    {
      "metadata": {
        "cellView": "both",
        "colab_type": "code",
        "id": "y3-cj1bpmuxc",
        "outputId": "5887f662-ec9e-490d-c7ca-6a5756224735",
        "colab": {
          "base_uri": "https://localhost:8080/",
          "height": 68
        }
      },
      "cell_type": "code",
      "source": [
        "pickle_file = 'notMNIST.pickle'\n",
        "\n",
        "with open(pickle_file, 'rb') as f:\n",
        "  save = pickle.load(f)\n",
        "  train_dataset = save['train_dataset']\n",
        "  train_labels = save['train_labels']\n",
        "  valid_dataset = save['valid_dataset']\n",
        "  valid_labels = save['valid_labels']\n",
        "  test_dataset = save['test_dataset']\n",
        "  test_labels = save['test_labels']\n",
        "  del save  # hint to help gc free up memory\n",
        "  print('Training set', train_dataset.shape, train_labels.shape)\n",
        "  print('Validation set', valid_dataset.shape, valid_labels.shape)\n",
        "  print('Test set', test_dataset.shape, test_labels.shape)"
      ],
      "execution_count": 66,
      "outputs": [
        {
          "output_type": "stream",
          "text": [
            "Training set (200000, 28, 28) (200000,)\n",
            "Validation set (10000, 28, 28) (10000,)\n",
            "Test set (10000, 28, 28) (10000,)\n"
          ],
          "name": "stdout"
        }
      ]
    },
    {
      "metadata": {
        "colab_type": "text",
        "id": "L7aHrm6nGDMB"
      },
      "cell_type": "markdown",
      "source": [
        "Reformat into a shape that's more adapted to the models we're going to train:\n",
        "- data as a flat matrix,\n",
        "- labels as float 1-hot encodings."
      ]
    },
    {
      "metadata": {
        "cellView": "both",
        "colab_type": "code",
        "id": "IRSyYiIIGIzS",
        "outputId": "b57955f8-a1d7-43d1-f579-00f21e487e6b",
        "colab": {
          "base_uri": "https://localhost:8080/",
          "height": 68
        }
      },
      "cell_type": "code",
      "source": [
        "image_size = 28\n",
        "num_labels = 10\n",
        "\n",
        "def reformat(dataset, labels):\n",
        "  dataset = dataset.reshape((-1, image_size * image_size)).astype(np.float32)\n",
        "  # Map 2 to [0.0, 1.0, 0.0 ...], 3 to [0.0, 0.0, 1.0 ...]\n",
        "  labels = (np.arange(num_labels) == labels[:,None]).astype(np.float32)\n",
        "  return dataset, labels\n",
        "train_dataset, train_labels = reformat(train_dataset, train_labels)\n",
        "valid_dataset, valid_labels = reformat(valid_dataset, valid_labels)\n",
        "test_dataset, test_labels = reformat(test_dataset, test_labels)\n",
        "print('Training set', train_dataset.shape, train_labels.shape)\n",
        "print('Validation set', valid_dataset.shape, valid_labels.shape)\n",
        "print('Test set', test_dataset.shape, test_labels.shape)"
      ],
      "execution_count": 67,
      "outputs": [
        {
          "output_type": "stream",
          "text": [
            "Training set (200000, 784) (200000, 10)\n",
            "Validation set (10000, 784) (10000, 10)\n",
            "Test set (10000, 784) (10000, 10)\n"
          ],
          "name": "stdout"
        }
      ]
    },
    {
      "metadata": {
        "cellView": "both",
        "colab_type": "code",
        "id": "RajPLaL_ZW6w",
        "colab": {}
      },
      "cell_type": "code",
      "source": [
        "def accuracy(predictions, labels):\n",
        "  return (100.0 * np.sum(np.argmax(predictions, 1) == np.argmax(labels, 1))\n",
        "          / predictions.shape[0])"
      ],
      "execution_count": 0,
      "outputs": []
    },
    {
      "metadata": {
        "colab_type": "text",
        "id": "sgLbUAQ1CW-1"
      },
      "cell_type": "markdown",
      "source": [
        "---\n",
        "Problem 1\n",
        "---------\n",
        "\n",
        "Introduce and tune L2 regularization for both logistic and neural network models. Remember that L2 amounts to adding a penalty on the norm of the weights to the loss. In TensorFlow, you can compute the L2 loss for a tensor `t` using `nn.l2_loss(t)`. The right amount of regularization should improve your validation / test accuracy.\n",
        "\n",
        "---"
      ]
    },
    {
      "metadata": {
        "id": "H1z-zyuCQobx",
        "colab_type": "text"
      },
      "cell_type": "markdown",
      "source": [
        "Let's start with the logistic model:"
      ]
    },
    {
      "metadata": {
        "id": "N1GSfYVNQoby",
        "colab_type": "code",
        "colab": {}
      },
      "cell_type": "code",
      "source": [
        "batch_size = 128\n",
        "\n",
        "graph = tf.Graph()\n",
        "with graph.as_default():\n",
        "\n",
        "  # Input data. For the training data, we use a placeholder that will be fed\n",
        "  # at run time with a training minibatch.\n",
        "  tf_train_dataset = tf.placeholder(tf.float32,\n",
        "                                    shape=(batch_size, image_size * image_size))\n",
        "  tf_train_labels = tf.placeholder(tf.float32, shape=(batch_size, num_labels))\n",
        "  tf_valid_dataset = tf.constant(valid_dataset)\n",
        "  tf_test_dataset = tf.constant(test_dataset)\n",
        "  beta_regul = tf.placeholder(tf.float32)\n",
        "  \n",
        "  # Variables.\n",
        "  weights = tf.Variable(\n",
        "    tf.truncated_normal([image_size * image_size, num_labels]))\n",
        "  biases = tf.Variable(tf.zeros([num_labels]))\n",
        "  \n",
        "  # Training computation.\n",
        "  logits = tf.matmul(tf_train_dataset, weights) + biases\n",
        "  loss = tf.reduce_mean(\n",
        "    tf.nn.softmax_cross_entropy_with_logits(logits=logits, labels=tf_train_labels)) + beta_regul * tf.nn.l2_loss(weights)\n",
        "  \n",
        "  # Optimizer.\n",
        "  optimizer = tf.train.GradientDescentOptimizer(0.5).minimize(loss)\n",
        "  \n",
        "  # Predictions for the training, validation, and test data.\n",
        "  train_prediction = tf.nn.softmax(logits)\n",
        "  valid_prediction = tf.nn.softmax(\n",
        "    tf.matmul(tf_valid_dataset, weights) + biases)\n",
        "  test_prediction = tf.nn.softmax(tf.matmul(tf_test_dataset, weights) + biases)"
      ],
      "execution_count": 0,
      "outputs": []
    },
    {
      "metadata": {
        "id": "rk_cHRNkQob1",
        "colab_type": "code",
        "colab": {
          "base_uri": "https://localhost:8080/",
          "height": 408
        },
        "outputId": "3f0f8d3a-fb68-442b-f343-3856f41ac1c6"
      },
      "cell_type": "code",
      "source": [
        "num_steps = 3001\n",
        "\n",
        "with tf.Session(graph=graph) as session:\n",
        "  tf.initialize_all_variables().run()\n",
        "  print(\"Initialized\")\n",
        "  for step in range(num_steps):\n",
        "    # Pick an offset within the training data, which has been randomized.\n",
        "    # Note: we could use better randomization across epochs.\n",
        "    offset = (step * batch_size) % (train_labels.shape[0] - batch_size)\n",
        "    # Generate a minibatch.\n",
        "    batch_data = train_dataset[offset:(offset + batch_size), :]\n",
        "    batch_labels = train_labels[offset:(offset + batch_size), :]\n",
        "    # Prepare a dictionary telling the session where to feed the minibatch.\n",
        "    # The key of the dictionary is the placeholder node of the graph to be fed,\n",
        "    # and the value is the numpy array to feed to it.\n",
        "    feed_dict = {tf_train_dataset : batch_data, tf_train_labels : batch_labels, beta_regul : 1e-3}\n",
        "    _, l, predictions = session.run(\n",
        "      [optimizer, loss, train_prediction], feed_dict=feed_dict)\n",
        "    if (step % 500 == 0):\n",
        "      print(\"Minibatch loss at step %d: %f\" % (step, l))\n",
        "      print(\"Minibatch accuracy: %.1f%%\" % accuracy(predictions, batch_labels))\n",
        "      print(\"Validation accuracy: %.1f%%\" % accuracy(\n",
        "        valid_prediction.eval(), valid_labels))\n",
        "  print(\"Test accuracy: %.1f%%\" % accuracy(test_prediction.eval(), test_labels))"
      ],
      "execution_count": 70,
      "outputs": [
        {
          "output_type": "stream",
          "text": [
            "Initialized\n",
            "Minibatch loss at step 0: 19.418594\n",
            "Minibatch accuracy: 3.9%\n",
            "Validation accuracy: 11.3%\n",
            "Minibatch loss at step 500: 2.627025\n",
            "Minibatch accuracy: 77.3%\n",
            "Validation accuracy: 76.2%\n",
            "Minibatch loss at step 1000: 1.802911\n",
            "Minibatch accuracy: 77.3%\n",
            "Validation accuracy: 78.2%\n",
            "Minibatch loss at step 1500: 1.406310\n",
            "Minibatch accuracy: 78.9%\n",
            "Validation accuracy: 79.7%\n",
            "Minibatch loss at step 2000: 0.821989\n",
            "Minibatch accuracy: 84.4%\n",
            "Validation accuracy: 81.6%\n",
            "Minibatch loss at step 2500: 0.762916\n",
            "Minibatch accuracy: 82.0%\n",
            "Validation accuracy: 81.4%\n",
            "Minibatch loss at step 3000: 0.845265\n",
            "Minibatch accuracy: 78.9%\n",
            "Validation accuracy: 81.9%\n",
            "Test accuracy: 88.3%\n"
          ],
          "name": "stdout"
        }
      ]
    },
    {
      "metadata": {
        "id": "U_1I9RpZQob6",
        "colab_type": "text"
      },
      "cell_type": "markdown",
      "source": [
        "The L2 regularization introduces a new meta parameter that should be tuned. Since I do not have any idea of what should be the right value for this meta parameter, I will plot the accuracy by the meta parameter value (in a logarithmic scale)."
      ]
    },
    {
      "metadata": {
        "id": "DLi5Ms6fQob7",
        "colab_type": "code",
        "colab": {}
      },
      "cell_type": "code",
      "source": [
        "num_steps = 3001\n",
        "regul_val = [pow(10, i) for i in np.arange(-4, -2, 0.1)]\n",
        "accuracy_val = []\n",
        "\n",
        "for regul in regul_val:\n",
        "  with tf.Session(graph=graph) as session:\n",
        "    tf.initialize_all_variables().run()\n",
        "    for step in range(num_steps):\n",
        "    # Pick an offset within the training data, which has been randomized.\n",
        "    # Note: we could use better randomization across epochs.\n",
        "      offset = (step * batch_size) % (train_labels.shape[0] - batch_size)\n",
        "    # Generate a minibatch.\n",
        "      batch_data = train_dataset[offset:(offset + batch_size), :]\n",
        "      batch_labels = train_labels[offset:(offset + batch_size), :]\n",
        "    # Prepare a dictionary telling the session where to feed the minibatch.\n",
        "    # The key of the dictionary is the placeholder node of the graph to be fed,\n",
        "    # and the value is the numpy array to feed to it.\n",
        "      feed_dict = {tf_train_dataset : batch_data, tf_train_labels : batch_labels, beta_regul : regul}\n",
        "      _, l, predictions = session.run(\n",
        "        [optimizer, loss, train_prediction], feed_dict=feed_dict)\n",
        "    accuracy_val.append(accuracy(test_prediction.eval(), test_labels))"
      ],
      "execution_count": 0,
      "outputs": []
    },
    {
      "metadata": {
        "id": "icN8Oc7iQob_",
        "colab_type": "code",
        "colab": {
          "base_uri": "https://localhost:8080/",
          "height": 284
        },
        "outputId": "ac2c2dbd-32a9-45dd-a517-430cc70be100"
      },
      "cell_type": "code",
      "source": [
        "plt.semilogx(regul_val, accuracy_val)\n",
        "plt.grid(True)\n",
        "plt.title('Test accuracy by regularization (logistic)')\n",
        "plt.show()"
      ],
      "execution_count": 72,
      "outputs": [
        {
          "output_type": "display_data",
          "data": {
            "image/png": "[encoded data removed]",
            "text/plain": [
              "<Figure size 432x288 with 1 Axes>"
            ]
          },
          "metadata": {
            "tags": []
          }
        }
      ]
    },
    {
      "metadata": {
        "id": "L21VsgB-QocE",
        "colab_type": "text"
      },
      "cell_type": "markdown",
      "source": [
        "Let's see if the same technique will improve the prediction of the 1-layer neural network:"
      ]
    },
    {
      "metadata": {
        "id": "Y2fEp5TFQocF",
        "colab_type": "code",
        "colab": {}
      },
      "cell_type": "code",
      "source": [
        "batch_size = 128\n",
        "num_hidden_nodes = 1024\n",
        "\n",
        "graph = tf.Graph()\n",
        "with graph.as_default():\n",
        "\n",
        "  # Input data. For the training data, we use a placeholder that will be fed\n",
        "  # at run time with a training minibatch.\n",
        "  tf_train_dataset = tf.placeholder(tf.float32,\n",
        "                                    shape=(batch_size, image_size * image_size))\n",
        "  tf_train_labels = tf.placeholder(tf.float32, shape=(batch_size, num_labels))\n",
        "  tf_valid_dataset = tf.constant(valid_dataset)\n",
        "  tf_test_dataset = tf.constant(test_dataset)\n",
        "  beta_regul = tf.placeholder(tf.float32)\n",
        "  \n",
        "  # Variables.\n",
        "  weights1 = tf.Variable(\n",
        "    tf.truncated_normal([image_size * image_size, num_hidden_nodes]))\n",
        "  biases1 = tf.Variable(tf.zeros([num_hidden_nodes]))\n",
        "  weights2 = tf.Variable(\n",
        "    tf.truncated_normal([num_hidden_nodes, num_labels]))\n",
        "  biases2 = tf.Variable(tf.zeros([num_labels]))\n",
        "  \n",
        "  # Training computation.\n",
        "  lay1_train = tf.nn.relu(tf.matmul(tf_train_dataset, weights1) + biases1)\n",
        "  logits = tf.matmul(lay1_train, weights2) + biases2\n",
        "  loss = tf.reduce_mean(\n",
        "    tf.nn.softmax_cross_entropy_with_logits(logits=logits, labels=tf_train_labels)) + \\\n",
        "      beta_regul * (tf.nn.l2_loss(weights1) + tf.nn.l2_loss(weights2))\n",
        "  \n",
        "  # Optimizer.\n",
        "  optimizer = tf.train.GradientDescentOptimizer(0.5).minimize(loss)\n",
        "  \n",
        "  # Predictions for the training, validation, and test data.\n",
        "  train_prediction = tf.nn.softmax(logits)\n",
        "  lay1_valid = tf.nn.relu(tf.matmul(tf_valid_dataset, weights1) + biases1)\n",
        "  valid_prediction = tf.nn.softmax(tf.matmul(lay1_valid, weights2) + biases2)\n",
        "  lay1_test = tf.nn.relu(tf.matmul(tf_test_dataset, weights1) + biases1)\n",
        "  test_prediction = tf.nn.softmax(tf.matmul(lay1_test, weights2) + biases2)"
      ],
      "execution_count": 0,
      "outputs": []
    },
    {
      "metadata": {
        "scrolled": false,
        "id": "lbWrUcB5QocI",
        "colab_type": "code",
        "colab": {
          "base_uri": "https://localhost:8080/",
          "height": 408
        },
        "outputId": "0149cf29-2b1a-40a2-93d7-245b0f7bfbc1"
      },
      "cell_type": "code",
      "source": [
        "num_steps = 3001\n",
        "\n",
        "with tf.Session(graph=graph) as session:\n",
        "  tf.initialize_all_variables().run()\n",
        "  print(\"Initialized\")\n",
        "  for step in range(num_steps):\n",
        "    # Pick an offset within the training data, which has been randomized.\n",
        "    # Note: we could use better randomization across epochs.\n",
        "    offset = (step * batch_size) % (train_labels.shape[0] - batch_size)\n",
        "    # Generate a minibatch.\n",
        "    batch_data = train_dataset[offset:(offset + batch_size), :]\n",
        "    batch_labels = train_labels[offset:(offset + batch_size), :]\n",
        "    # Prepare a dictionary telling the session where to feed the minibatch.\n",
        "    # The key of the dictionary is the placeholder node of the graph to be fed,\n",
        "    # and the value is the numpy array to feed to it.\n",
        "    feed_dict = {tf_train_dataset : batch_data, tf_train_labels : batch_labels, beta_regul : 1e-3}\n",
        "    _, l, predictions = session.run(\n",
        "      [optimizer, loss, train_prediction], feed_dict=feed_dict)\n",
        "    if (step % 500 == 0):\n",
        "      print(\"Minibatch loss at step %d: %f\" % (step, l))\n",
        "      print(\"Minibatch accuracy: %.1f%%\" % accuracy(predictions, batch_labels))\n",
        "      print(\"Validation accuracy: %.1f%%\" % accuracy(\n",
        "        valid_prediction.eval(), valid_labels))\n",
        "  print(\"Test accuracy: %.1f%%\" % accuracy(test_prediction.eval(), test_labels))"
      ],
      "execution_count": 74,
      "outputs": [
        {
          "output_type": "stream",
          "text": [
            "Initialized\n",
            "Minibatch loss at step 0: 617.500061\n",
            "Minibatch accuracy: 6.2%\n",
            "Validation accuracy: 29.5%\n",
            "Minibatch loss at step 500: 194.213608\n",
            "Minibatch accuracy: 82.0%\n",
            "Validation accuracy: 80.0%\n",
            "Minibatch loss at step 1000: 115.878586\n",
            "Minibatch accuracy: 79.7%\n",
            "Validation accuracy: 81.5%\n",
            "Minibatch loss at step 1500: 68.543327\n",
            "Minibatch accuracy: 84.4%\n",
            "Validation accuracy: 83.0%\n",
            "Minibatch loss at step 2000: 41.113152\n",
            "Minibatch accuracy: 89.8%\n",
            "Validation accuracy: 85.4%\n",
            "Minibatch loss at step 2500: 25.226456\n",
            "Minibatch accuracy: 85.9%\n",
            "Validation accuracy: 86.6%\n",
            "Minibatch loss at step 3000: 15.529140\n",
            "Minibatch accuracy: 89.1%\n",
            "Validation accuracy: 87.2%\n",
            "Test accuracy: 92.9%\n"
          ],
          "name": "stdout"
        }
      ]
    },
    {
      "metadata": {
        "id": "6GNCPPCuQocN",
        "colab_type": "text"
      },
      "cell_type": "markdown",
      "source": [
        "Finally something above 90%! I will also plot the final accuracy by the L2 parameter to find the best value."
      ]
    },
    {
      "metadata": {
        "colab_type": "text",
        "id": "na8xX2yHZzNF"
      },
      "cell_type": "markdown",
      "source": [
        "---\n",
        "Problem 2\n",
        "---------\n",
        "Let's demonstrate an extreme case of overfitting. Restrict your training data to just a few batches. What happens?\n",
        "\n",
        "---"
      ]
    },
    {
      "metadata": {
        "id": "vE7s_ccUeExm",
        "colab_type": "text"
      },
      "cell_type": "markdown",
      "source": [
        "$ layer_1 = ReLU(w_1 X + b_1)$   \n",
        "\n",
        "$ logits = layer_1w_2 + b_2$     \n",
        "\n",
        "$ loss = softmax(logits, y)$  \n",
        "$ optimizer = GradientDescent(loss) $"
      ]
    },
    {
      "metadata": {
        "id": "6B6IZ57zQoca",
        "colab_type": "code",
        "colab": {}
      },
      "cell_type": "code",
      "source": [
        "batch_size = 128\n",
        "num_hidden_nodes = 1024\n",
        "\n",
        "graph = tf.Graph()\n",
        "with graph.as_default():\n",
        "\n",
        "  # Input data. For the training data, we use a placeholder that will be fed\n",
        "  # at run time with a training minibatch.\n",
        "  tf_train_dataset = tf.placeholder(tf.float32,\n",
        "                                    shape=(batch_size, image_size * image_size))\n",
        "  tf_train_labels = tf.placeholder(tf.float32, shape=(batch_size, num_labels))\n",
        "  tf_valid_dataset = tf.constant(valid_dataset)\n",
        "  tf_test_dataset = tf.constant(test_dataset)\n",
        "  beta_regul = tf.placeholder(tf.float32)\n",
        "  \n",
        "  # Variables.\n",
        "  weights1 = tf.Variable(\n",
        "    tf.truncated_normal([image_size * image_size, num_hidden_nodes]))\n",
        "  biases1 = tf.Variable(tf.zeros([num_hidden_nodes]))\n",
        "  weights2 = tf.Variable(\n",
        "    tf.truncated_normal([num_hidden_nodes, num_labels]))\n",
        "  biases2 = tf.Variable(tf.zeros([num_labels]))\n",
        "  \n",
        "  # Training computation.\n",
        "\n",
        "  lay1_train = tf.nn.relu(tf.matmul(tf_train_dataset, weights1) + biases1)\n",
        "  logits = tf.matmul(lay1_train, weights2) + biases2\n",
        "  loss = tf.reduce_mean(\n",
        "    tf.nn.softmax_cross_entropy_with_logits(logits=logits, labels=tf_train_labels))\n",
        "  \n",
        "  # Optimizer.\n",
        "  optimizer = tf.train.GradientDescentOptimizer(0.5).minimize(loss)\n",
        "  \n",
        "  # Predictions for the training, validation, and test data.\n",
        "  train_prediction = tf.nn.softmax(logits)\n",
        "  lay1_valid = tf.nn.relu(tf.matmul(tf_valid_dataset, weights1) + biases1)\n",
        "  valid_prediction = tf.nn.softmax(tf.matmul(lay1_valid, weights2) + biases2)\n",
        "  lay1_test = tf.nn.relu(tf.matmul(tf_test_dataset, weights1) + biases1)\n",
        "  test_prediction = tf.nn.softmax(tf.matmul(lay1_test, weights2) + biases2)"
      ],
      "execution_count": 0,
      "outputs": []
    },
    {
      "metadata": {
        "id": "sFbIQ1nfQocd",
        "colab_type": "code",
        "colab": {
          "base_uri": "https://localhost:8080/",
          "height": 2652
        },
        "outputId": "dfa51544-6b05-4711-dc4e-3997a9da21be"
      },
      "cell_type": "code",
      "source": [
        "num_steps = 101\n",
        "num_batches = 3\n",
        "\n",
        "with tf.Session(graph=graph) as session:\n",
        "  tf.initialize_all_variables().run()\n",
        "  print(\"Initialized\")\n",
        "  for step in range(num_steps):\n",
        "    # Pick an offset within the training data, which has been randomized.\n",
        "    # Note: we could use better randomization across epochs.\n",
        "    #offset = (step * batch_size) % (train_labels.shape[0] - batch_size)\n",
        "    offset = ((step % num_batches) * batch_size) % (train_labels.shape[0] - batch_size)\n",
        "    # Generate a minibatch.\n",
        "    batch_data = train_dataset[offset:(offset + batch_size), :]\n",
        "    batch_labels = train_labels[offset:(offset + batch_size), :]\n",
        "    # Prepare a dictionary telling the session where to feed the minibatch.\n",
        "    # The key of the dictionary is the placeholder node of the graph to be fed,\n",
        "    # and the value is the numpy array to feed to it.\n",
        "    feed_dict = {tf_train_dataset : batch_data, tf_train_labels : batch_labels, beta_regul : 1e-3}\n",
        "    _, l, predictions = session.run(\n",
        "      [optimizer, loss, train_prediction], feed_dict=feed_dict)\n",
        "    if (step % 2 == 0):\n",
        "      print(\"Minibatch loss at step %d: %f\" % (step, l))\n",
        "      print(\"Minibatch accuracy: %.1f%%\" % accuracy(predictions, batch_labels))\n",
        "      print(\"Validation accuracy: %.1f%%\" % accuracy(\n",
        "        valid_prediction.eval(), valid_labels))\n",
        "  print(\"Test accuracy: %.1f%%\" % accuracy(test_prediction.eval(), test_labels))"
      ],
      "execution_count": 76,
      "outputs": [
        {
          "output_type": "stream",
          "text": [
            "Initialized\n",
            "Minibatch loss at step 0: 289.295166\n",
            "Minibatch accuracy: 10.9%\n",
            "Validation accuracy: 16.1%\n",
            "Minibatch loss at step 2: 2396.713379\n",
            "Minibatch accuracy: 27.3%\n",
            "Validation accuracy: 42.9%\n",
            "Minibatch loss at step 4: 752.467896\n",
            "Minibatch accuracy: 32.8%\n",
            "Validation accuracy: 52.8%\n",
            "Minibatch loss at step 6: 246.957642\n",
            "Minibatch accuracy: 64.1%\n",
            "Validation accuracy: 66.6%\n",
            "Minibatch loss at step 8: 75.664871\n",
            "Minibatch accuracy: 79.7%\n",
            "Validation accuracy: 70.8%\n",
            "Minibatch loss at step 10: 30.007084\n",
            "Minibatch accuracy: 87.5%\n",
            "Validation accuracy: 70.9%\n",
            "Minibatch loss at step 12: 46.787003\n",
            "Minibatch accuracy: 92.2%\n",
            "Validation accuracy: 70.4%\n",
            "Minibatch loss at step 14: 22.872910\n",
            "Minibatch accuracy: 92.2%\n",
            "Validation accuracy: 70.9%\n",
            "Minibatch loss at step 16: 2.435671\n",
            "Minibatch accuracy: 97.7%\n",
            "Validation accuracy: 71.0%\n",
            "Minibatch loss at step 18: 4.935873\n",
            "Minibatch accuracy: 98.4%\n",
            "Validation accuracy: 72.9%\n",
            "Minibatch loss at step 20: 0.326478\n",
            "Minibatch accuracy: 99.2%\n",
            "Validation accuracy: 72.8%\n",
            "Minibatch loss at step 22: 0.291470\n",
            "Minibatch accuracy: 99.2%\n",
            "Validation accuracy: 72.8%\n",
            "Minibatch loss at step 24: 0.000451\n",
            "Minibatch accuracy: 100.0%\n",
            "Validation accuracy: 72.9%\n",
            "Minibatch loss at step 26: 0.000000\n",
            "Minibatch accuracy: 100.0%\n",
            "Validation accuracy: 72.9%\n",
            "Minibatch loss at step 28: 0.000000\n",
            "Minibatch accuracy: 100.0%\n",
            "Validation accuracy: 72.9%\n",
            "Minibatch loss at step 30: 0.000003\n",
            "Minibatch accuracy: 100.0%\n",
            "Validation accuracy: 72.9%\n",
            "Minibatch loss at step 32: 0.000000\n",
            "Minibatch accuracy: 100.0%\n",
            "Validation accuracy: 72.9%\n",
            "Minibatch loss at step 34: 0.000000\n",
            "Minibatch accuracy: 100.0%\n",
            "Validation accuracy: 72.9%\n",
            "Minibatch loss at step 36: 0.000003\n",
            "Minibatch accuracy: 100.0%\n",
            "Validation accuracy: 72.9%\n",
            "Minibatch loss at step 38: 0.000000\n",
            "Minibatch accuracy: 100.0%\n",
            "Validation accuracy: 72.9%\n",
            "Minibatch loss at step 40: 0.000000\n",
            "Minibatch accuracy: 100.0%\n",
            "Validation accuracy: 72.9%\n",
            "Minibatch loss at step 42: 0.000003\n",
            "Minibatch accuracy: 100.0%\n",
            "Validation accuracy: 72.9%\n",
            "Minibatch loss at step 44: 0.000000\n",
            "Minibatch accuracy: 100.0%\n",
            "Validation accuracy: 72.9%\n",
            "Minibatch loss at step 46: 0.000000\n",
            "Minibatch accuracy: 100.0%\n",
            "Validation accuracy: 72.9%\n",
            "Minibatch loss at step 48: 0.000002\n",
            "Minibatch accuracy: 100.0%\n",
            "Validation accuracy: 72.9%\n",
            "Minibatch loss at step 50: 0.000000\n",
            "Minibatch accuracy: 100.0%\n",
            "Validation accuracy: 72.9%\n",
            "Minibatch loss at step 52: 0.000000\n",
            "Minibatch accuracy: 100.0%\n",
            "Validation accuracy: 72.9%\n",
            "Minibatch loss at step 54: 0.000002\n",
            "Minibatch accuracy: 100.0%\n",
            "Validation accuracy: 72.9%\n",
            "Minibatch loss at step 56: 0.000000\n",
            "Minibatch accuracy: 100.0%\n",
            "Validation accuracy: 72.9%\n",
            "Minibatch loss at step 58: 0.000000\n",
            "Minibatch accuracy: 100.0%\n",
            "Validation accuracy: 72.9%\n",
            "Minibatch loss at step 60: 0.000002\n",
            "Minibatch accuracy: 100.0%\n",
            "Validation accuracy: 72.9%\n",
            "Minibatch loss at step 62: 0.000000\n",
            "Minibatch accuracy: 100.0%\n",
            "Validation accuracy: 72.9%\n",
            "Minibatch loss at step 64: 0.000000\n",
            "Minibatch accuracy: 100.0%\n",
            "Validation accuracy: 72.9%\n",
            "Minibatch loss at step 66: 0.000002\n",
            "Minibatch accuracy: 100.0%\n",
            "Validation accuracy: 72.9%\n",
            "Minibatch loss at step 68: 0.000000\n",
            "Minibatch accuracy: 100.0%\n",
            "Validation accuracy: 72.9%\n",
            "Minibatch loss at step 70: 0.000000\n",
            "Minibatch accuracy: 100.0%\n",
            "Validation accuracy: 72.9%\n",
            "Minibatch loss at step 72: 0.000002\n",
            "Minibatch accuracy: 100.0%\n",
            "Validation accuracy: 72.9%\n",
            "Minibatch loss at step 74: 0.000000\n",
            "Minibatch accuracy: 100.0%\n",
            "Validation accuracy: 72.9%\n",
            "Minibatch loss at step 76: 0.000000\n",
            "Minibatch accuracy: 100.0%\n",
            "Validation accuracy: 72.9%\n",
            "Minibatch loss at step 78: 0.000002\n",
            "Minibatch accuracy: 100.0%\n",
            "Validation accuracy: 72.9%\n",
            "Minibatch loss at step 80: 0.000000\n",
            "Minibatch accuracy: 100.0%\n",
            "Validation accuracy: 72.9%\n",
            "Minibatch loss at step 82: 0.000000\n",
            "Minibatch accuracy: 100.0%\n",
            "Validation accuracy: 72.9%\n",
            "Minibatch loss at step 84: 0.000002\n",
            "Minibatch accuracy: 100.0%\n",
            "Validation accuracy: 72.9%\n",
            "Minibatch loss at step 86: 0.000000\n",
            "Minibatch accuracy: 100.0%\n",
            "Validation accuracy: 72.9%\n",
            "Minibatch loss at step 88: 0.000000\n",
            "Minibatch accuracy: 100.0%\n",
            "Validation accuracy: 72.9%\n",
            "Minibatch loss at step 90: 0.000002\n",
            "Minibatch accuracy: 100.0%\n",
            "Validation accuracy: 72.9%\n",
            "Minibatch loss at step 92: 0.000000\n",
            "Minibatch accuracy: 100.0%\n",
            "Validation accuracy: 72.9%\n",
            "Minibatch loss at step 94: 0.000000\n",
            "Minibatch accuracy: 100.0%\n",
            "Validation accuracy: 72.9%\n",
            "Minibatch loss at step 96: 0.000002\n",
            "Minibatch accuracy: 100.0%\n",
            "Validation accuracy: 72.9%\n",
            "Minibatch loss at step 98: 0.000000\n",
            "Minibatch accuracy: 100.0%\n",
            "Validation accuracy: 72.9%\n",
            "Minibatch loss at step 100: 0.000000\n",
            "Minibatch accuracy: 100.0%\n",
            "Validation accuracy: 72.9%\n",
            "Test accuracy: 80.1%\n"
          ],
          "name": "stdout"
        }
      ]
    },
    {
      "metadata": {
        "id": "9f5MKb0fQoch",
        "colab_type": "text"
      },
      "cell_type": "markdown",
      "source": [
        "Since there are far too much parameters and no regularization, the accuracy of the batches is 100%. The generalization capability is poor, as shown in the validation and test accuracy."
      ]
    },
    {
      "metadata": {
        "colab_type": "text",
        "id": "ww3SCBUdlkRc"
      },
      "cell_type": "markdown",
      "source": [
        "---\n",
        "Problem 3\n",
        "---------\n",
        "Introduce Dropout on the hidden layer of the neural network. Remember: Dropout should only be introduced during training, not evaluation, otherwise your evaluation results would be stochastic as well. TensorFlow provides `nn.dropout()` for that, but you have to make sure it's only inserted during training.\n",
        "\n",
        "What happens to our extreme overfitting case?\n",
        "\n",
        "---"
      ]
    },
    {
      "metadata": {
        "id": "gfyy_hccf0nw",
        "colab_type": "text"
      },
      "cell_type": "markdown",
      "source": [
        "### Dropout() Technical to improve the Neural Network"
      ]
    },
    {
      "metadata": {
        "id": "c5ft7SJbQocj",
        "colab_type": "code",
        "colab": {}
      },
      "cell_type": "code",
      "source": [
        "batch_size = 128\n",
        "num_hidden_nodes = 1024\n",
        "\n",
        "graph = tf.Graph()\n",
        "with graph.as_default():\n",
        "\n",
        "  # Input data. For the training data, we use a placeholder that will be fed\n",
        "  # at run time with a training minibatch.\n",
        "  tf_train_dataset = tf.placeholder(tf.float32,\n",
        "                                    shape=(batch_size, image_size * image_size))\n",
        "  tf_train_labels = tf.placeholder(tf.float32, shape=(batch_size, num_labels))\n",
        "  tf_valid_dataset = tf.constant(valid_dataset)\n",
        "  tf_test_dataset = tf.constant(test_dataset)\n",
        "  \n",
        "  # Variables.\n",
        "  weights1 = tf.Variable(\n",
        "    tf.truncated_normal([image_size * image_size, num_hidden_nodes]))\n",
        "  biases1 = tf.Variable(tf.zeros([num_hidden_nodes]))\n",
        "  weights2 = tf.Variable(\n",
        "    tf.truncated_normal([num_hidden_nodes, num_labels]))\n",
        "  biases2 = tf.Variable(tf.zeros([num_labels]))\n",
        "  \n",
        "  # Training computation.\n",
        "  lay1_train = tf.nn.relu(tf.matmul(tf_train_dataset, weights1) + biases1)\n",
        "  drop1 = tf.nn.dropout(lay1_train, 0.5)\n",
        "  logits = tf.matmul(drop1, weights2) + biases2\n",
        "  loss = tf.reduce_mean(\n",
        "    tf.nn.softmax_cross_entropy_with_logits(logits=logits, labels=tf_train_labels))\n",
        "    \n",
        "  # Optimizer.\n",
        "  optimizer = tf.train.GradientDescentOptimizer(0.5).minimize(loss)\n",
        "  \n",
        "  # Predictions for the training, validation, and test data.\n",
        "  train_prediction = tf.nn.softmax(logits)\n",
        "  lay1_valid = tf.nn.relu(tf.matmul(tf_valid_dataset, weights1) + biases1)\n",
        "  valid_prediction = tf.nn.softmax(tf.matmul(lay1_valid, weights2) + biases2)\n",
        "  lay1_test = tf.nn.relu(tf.matmul(tf_test_dataset, weights1) + biases1)\n",
        "  test_prediction = tf.nn.softmax(tf.matmul(lay1_test, weights2) + biases2)"
      ],
      "execution_count": 0,
      "outputs": []
    },
    {
      "metadata": {
        "id": "cVqrzK3lQocl",
        "colab_type": "code",
        "colab": {
          "base_uri": "https://localhost:8080/",
          "height": 2652
        },
        "outputId": "18e6fb21-739a-44d7-c169-eab26dd0df67"
      },
      "cell_type": "code",
      "source": [
        "num_steps = 101\n",
        "num_batches = 3\n",
        "\n",
        "with tf.Session(graph=graph) as session:\n",
        "  tf.initialize_all_variables().run()\n",
        "  print(\"Initialized\")\n",
        "  for step in range(num_steps):\n",
        "    # Pick an offset within the training data, which has been randomized.\n",
        "    # Note: we could use better randomization across epochs.\n",
        "    #offset = (step * batch_size) % (train_labels.shape[0] - batch_size)\n",
        "    offset = step % num_batches\n",
        "    # Generate a minibatch.\n",
        "    batch_data = train_dataset[offset:(offset + batch_size), :]\n",
        "    batch_labels = train_labels[offset:(offset + batch_size), :]\n",
        "    # Prepare a dictionary telling the session where to feed the minibatch.\n",
        "    # The key of the dictionary is the placeholder node of the graph to be fed,\n",
        "    # and the value is the numpy array to feed to it.\n",
        "    feed_dict = {tf_train_dataset : batch_data, tf_train_labels : batch_labels}\n",
        "    _, l, predictions = session.run(\n",
        "      [optimizer, loss, train_prediction], feed_dict=feed_dict)\n",
        "    if (step % 2 == 0):\n",
        "      print(\"Minibatch loss at step %d: %f\" % (step, l))\n",
        "      print(\"Minibatch accuracy: %.1f%%\" % accuracy(predictions, batch_labels))\n",
        "      print(\"Validation accuracy: %.1f%%\" % accuracy(\n",
        "        valid_prediction.eval(), valid_labels))\n",
        "  print(\"Test accuracy: %.1f%%\" % accuracy(test_prediction.eval(), test_labels))"
      ],
      "execution_count": 78,
      "outputs": [
        {
          "output_type": "stream",
          "text": [
            "Initialized\n",
            "Minibatch loss at step 0: 445.536011\n",
            "Minibatch accuracy: 13.3%\n",
            "Validation accuracy: 25.1%\n",
            "Minibatch loss at step 2: 1185.745117\n",
            "Minibatch accuracy: 50.0%\n",
            "Validation accuracy: 44.0%\n",
            "Minibatch loss at step 4: 240.813293\n",
            "Minibatch accuracy: 67.2%\n",
            "Validation accuracy: 64.8%\n",
            "Minibatch loss at step 6: 3.243047\n",
            "Minibatch accuracy: 98.4%\n",
            "Validation accuracy: 69.8%\n",
            "Minibatch loss at step 8: 4.985995\n",
            "Minibatch accuracy: 97.7%\n",
            "Validation accuracy: 69.7%\n",
            "Minibatch loss at step 10: 2.050717\n",
            "Minibatch accuracy: 98.4%\n",
            "Validation accuracy: 70.3%\n",
            "Minibatch loss at step 12: 3.248143\n",
            "Minibatch accuracy: 96.9%\n",
            "Validation accuracy: 70.5%\n",
            "Minibatch loss at step 14: 1.600573\n",
            "Minibatch accuracy: 98.4%\n",
            "Validation accuracy: 69.4%\n",
            "Minibatch loss at step 16: 1.602779\n",
            "Minibatch accuracy: 98.4%\n",
            "Validation accuracy: 69.2%\n",
            "Minibatch loss at step 18: 0.000000\n",
            "Minibatch accuracy: 100.0%\n",
            "Validation accuracy: 69.2%\n",
            "Minibatch loss at step 20: 0.000000\n",
            "Minibatch accuracy: 100.0%\n",
            "Validation accuracy: 69.2%\n",
            "Minibatch loss at step 22: 0.031912\n",
            "Minibatch accuracy: 99.2%\n",
            "Validation accuracy: 69.0%\n",
            "Minibatch loss at step 24: 0.000000\n",
            "Minibatch accuracy: 100.0%\n",
            "Validation accuracy: 69.9%\n",
            "Minibatch loss at step 26: 0.224731\n",
            "Minibatch accuracy: 98.4%\n",
            "Validation accuracy: 70.0%\n",
            "Minibatch loss at step 28: 0.000000\n",
            "Minibatch accuracy: 100.0%\n",
            "Validation accuracy: 70.0%\n",
            "Minibatch loss at step 30: 0.000000\n",
            "Minibatch accuracy: 100.0%\n",
            "Validation accuracy: 70.0%\n",
            "Minibatch loss at step 32: 0.000000\n",
            "Minibatch accuracy: 100.0%\n",
            "Validation accuracy: 70.0%\n",
            "Minibatch loss at step 34: 1.479093\n",
            "Minibatch accuracy: 98.4%\n",
            "Validation accuracy: 70.2%\n",
            "Minibatch loss at step 36: 0.390927\n",
            "Minibatch accuracy: 99.2%\n",
            "Validation accuracy: 70.3%\n",
            "Minibatch loss at step 38: 0.166471\n",
            "Minibatch accuracy: 99.2%\n",
            "Validation accuracy: 70.5%\n",
            "Minibatch loss at step 40: 0.191273\n",
            "Minibatch accuracy: 99.2%\n",
            "Validation accuracy: 69.5%\n",
            "Minibatch loss at step 42: 0.000000\n",
            "Minibatch accuracy: 100.0%\n",
            "Validation accuracy: 69.5%\n",
            "Minibatch loss at step 44: 1.859560\n",
            "Minibatch accuracy: 99.2%\n",
            "Validation accuracy: 69.5%\n",
            "Minibatch loss at step 46: 0.000000\n",
            "Minibatch accuracy: 100.0%\n",
            "Validation accuracy: 69.5%\n",
            "Minibatch loss at step 48: 0.000000\n",
            "Minibatch accuracy: 100.0%\n",
            "Validation accuracy: 69.5%\n",
            "Minibatch loss at step 50: 0.964147\n",
            "Minibatch accuracy: 99.2%\n",
            "Validation accuracy: 70.8%\n",
            "Minibatch loss at step 52: 0.524230\n",
            "Minibatch accuracy: 99.2%\n",
            "Validation accuracy: 71.6%\n",
            "Minibatch loss at step 54: 0.000000\n",
            "Minibatch accuracy: 100.0%\n",
            "Validation accuracy: 71.6%\n",
            "Minibatch loss at step 56: 0.000000\n",
            "Minibatch accuracy: 100.0%\n",
            "Validation accuracy: 71.6%\n",
            "Minibatch loss at step 58: 0.073121\n",
            "Minibatch accuracy: 99.2%\n",
            "Validation accuracy: 71.4%\n",
            "Minibatch loss at step 60: 0.081333\n",
            "Minibatch accuracy: 99.2%\n",
            "Validation accuracy: 71.8%\n",
            "Minibatch loss at step 62: 0.000000\n",
            "Minibatch accuracy: 100.0%\n",
            "Validation accuracy: 71.8%\n",
            "Minibatch loss at step 64: 0.854001\n",
            "Minibatch accuracy: 99.2%\n",
            "Validation accuracy: 72.5%\n",
            "Minibatch loss at step 66: 0.000000\n",
            "Minibatch accuracy: 100.0%\n",
            "Validation accuracy: 72.5%\n",
            "Minibatch loss at step 68: 0.000000\n",
            "Minibatch accuracy: 100.0%\n",
            "Validation accuracy: 72.5%\n",
            "Minibatch loss at step 70: 0.000000\n",
            "Minibatch accuracy: 100.0%\n",
            "Validation accuracy: 72.5%\n",
            "Minibatch loss at step 72: 0.000000\n",
            "Minibatch accuracy: 100.0%\n",
            "Validation accuracy: 72.5%\n",
            "Minibatch loss at step 74: 0.000000\n",
            "Minibatch accuracy: 100.0%\n",
            "Validation accuracy: 72.5%\n",
            "Minibatch loss at step 76: 0.000514\n",
            "Minibatch accuracy: 100.0%\n",
            "Validation accuracy: 72.5%\n",
            "Minibatch loss at step 78: 0.000000\n",
            "Minibatch accuracy: 100.0%\n",
            "Validation accuracy: 72.5%\n",
            "Minibatch loss at step 80: 0.000000\n",
            "Minibatch accuracy: 100.0%\n",
            "Validation accuracy: 72.5%\n",
            "Minibatch loss at step 82: 0.000000\n",
            "Minibatch accuracy: 100.0%\n",
            "Validation accuracy: 72.5%\n",
            "Minibatch loss at step 84: 0.000000\n",
            "Minibatch accuracy: 100.0%\n",
            "Validation accuracy: 72.3%\n",
            "Minibatch loss at step 86: 0.000405\n",
            "Minibatch accuracy: 100.0%\n",
            "Validation accuracy: 72.3%\n",
            "Minibatch loss at step 88: 0.000000\n",
            "Minibatch accuracy: 100.0%\n",
            "Validation accuracy: 72.4%\n",
            "Minibatch loss at step 90: 0.000000\n",
            "Minibatch accuracy: 100.0%\n",
            "Validation accuracy: 72.4%\n",
            "Minibatch loss at step 92: 1.194516\n",
            "Minibatch accuracy: 99.2%\n",
            "Validation accuracy: 72.5%\n",
            "Minibatch loss at step 94: 0.000000\n",
            "Minibatch accuracy: 100.0%\n",
            "Validation accuracy: 72.5%\n",
            "Minibatch loss at step 96: 0.000000\n",
            "Minibatch accuracy: 100.0%\n",
            "Validation accuracy: 72.5%\n",
            "Minibatch loss at step 98: 0.314102\n",
            "Minibatch accuracy: 99.2%\n",
            "Validation accuracy: 72.4%\n",
            "Minibatch loss at step 100: 1.152177\n",
            "Minibatch accuracy: 98.4%\n",
            "Validation accuracy: 72.5%\n",
            "Test accuracy: 79.6%\n"
          ],
          "name": "stdout"
        }
      ]
    },
    {
      "metadata": {
        "id": "mJbiPnt1Qocq",
        "colab_type": "text"
      },
      "cell_type": "markdown",
      "source": [
        "The first conclusion is that 100% of accuracy on the minibatches is more difficult achieved or to keep. As a result, the test accuracy is improved by 6%, the final net is more capable of generalization."
      ]
    },
    {
      "metadata": {
        "colab_type": "text",
        "id": "-b1hTz3VWZjw"
      },
      "cell_type": "markdown",
      "source": [
        "---\n",
        "Problem 4\n",
        "---------\n",
        "\n",
        "Try to get the best performance you can using a multi-layer model! The best reported test accuracy using a deep network is [97.1%](http://yaroslavvb.blogspot.com/2011/09/notmnist-dataset.html?showComment=1391023266211#c8758720086795711595).\n",
        "\n",
        "One avenue you can explore is to add multiple layers.\n",
        "\n",
        "Another one is to use learning rate decay:\n",
        "\n",
        "    global_step = tf.Variable(0)  # count the number of steps taken.\n",
        "    learning_rate = tf.train.exponential_decay(0.5, step, ...)\n",
        "    optimizer = tf.train.GradientDescentOptimizer(learning_rate).minimize(loss, global_step=global_step)\n",
        " \n",
        " ---\n"
      ]
    },
    {
      "metadata": {
        "id": "mKIlvW4ZQocu",
        "colab_type": "text"
      },
      "cell_type": "markdown",
      "source": [
        "Let's do a first try with 2 layers. Note how the parameters are initialized, compared to the previous cases."
      ]
    },
    {
      "metadata": {
        "id": "PNzGVxU9Qocv",
        "colab_type": "code",
        "colab": {}
      },
      "cell_type": "code",
      "source": [
        "batch_size = 128\n",
        "num_hidden_nodes1 = 1024\n",
        "num_hidden_nodes2 = 100\n",
        "beta_regul = 1e-3\n",
        "\n",
        "graph = tf.Graph()\n",
        "with graph.as_default():\n",
        "\n",
        "  # Input data. For the training data, we use a placeholder that will be fed\n",
        "  # at run time with a training minibatch.\n",
        "  tf_train_dataset = tf.placeholder(tf.float32,\n",
        "                                    shape=(batch_size, image_size * image_size))\n",
        "  tf_train_labels = tf.placeholder(tf.float32, shape=(batch_size, num_labels))\n",
        "  tf_valid_dataset = tf.constant(valid_dataset)\n",
        "  tf_test_dataset = tf.constant(test_dataset)\n",
        "  global_step = tf.Variable(0)\n",
        "\n",
        "  # Variables.\n",
        "  weights1 = tf.Variable(\n",
        "    tf.truncated_normal(\n",
        "        [image_size * image_size, num_hidden_nodes1],\n",
        "        stddev=np.sqrt(2.0 / (image_size * image_size)))\n",
        "    )\n",
        "  biases1 = tf.Variable(tf.zeros([num_hidden_nodes1]))\n",
        "  weights2 = tf.Variable(\n",
        "    tf.truncated_normal([num_hidden_nodes1, num_hidden_nodes2], stddev=np.sqrt(2.0 / num_hidden_nodes1)))\n",
        "  biases2 = tf.Variable(tf.zeros([num_hidden_nodes2]))\n",
        "  weights3 = tf.Variable(\n",
        "    tf.truncated_normal([num_hidden_nodes2, num_labels], stddev=np.sqrt(2.0 / num_hidden_nodes2)))\n",
        "  biases3 = tf.Variable(tf.zeros([num_labels]))\n",
        "  \n",
        "  # Training computation.\n",
        "  lay1_train = tf.nn.relu(tf.matmul(tf_train_dataset, weights1) + biases1)\n",
        "  lay2_train = tf.nn.relu(tf.matmul(lay1_train, weights2) + biases2)\n",
        "  logits = tf.matmul(lay2_train, weights3) + biases3\n",
        "  loss = tf.reduce_mean(\n",
        "    tf.nn.softmax_cross_entropy_with_logits(logits=logits, labels=tf_train_labels)) + \\\n",
        "      beta_regul * (tf.nn.l2_loss(weights1) + tf.nn.l2_loss(weights2) + tf.nn.l2_loss(weights3))\n",
        "  \n",
        "  # Optimizer.\n",
        "  learning_rate = tf.train.exponential_decay(0.5, global_step, 1000, 0.65, staircase=True)\n",
        "  optimizer = tf.train.GradientDescentOptimizer(learning_rate).minimize(loss, global_step=global_step)\n",
        "  \n",
        "  # Predictions for the training, validation, and test data.\n",
        "  train_prediction = tf.nn.softmax(logits)\n",
        "  lay1_valid = tf.nn.relu(tf.matmul(tf_valid_dataset, weights1) + biases1)\n",
        "  lay2_valid = tf.nn.relu(tf.matmul(lay1_valid, weights2) + biases2)\n",
        "  valid_prediction = tf.nn.softmax(tf.matmul(lay2_valid, weights3) + biases3)\n",
        "  lay1_test = tf.nn.relu(tf.matmul(tf_test_dataset, weights1) + biases1)\n",
        "  lay2_test = tf.nn.relu(tf.matmul(lay1_test, weights2) + biases2)\n",
        "  test_prediction = tf.nn.softmax(tf.matmul(lay2_test, weights3) + biases3)"
      ],
      "execution_count": 0,
      "outputs": []
    },
    {
      "metadata": {
        "id": "wCTLjPTHQoc2",
        "colab_type": "code",
        "colab": {
          "base_uri": "https://localhost:8080/",
          "height": 1020
        },
        "outputId": "b4d03480-3ba3-4e6b-8091-a68e42baa1fd"
      },
      "cell_type": "code",
      "source": [
        "num_steps = 9001\n",
        "\n",
        "with tf.Session(graph=graph) as session:\n",
        "  tf.initialize_all_variables().run()\n",
        "  print(\"Initialized\")\n",
        "  for step in range(num_steps):\n",
        "    # Pick an offset within the training data, which has been randomized.\n",
        "    # Note: we could use better randomization across epochs.\n",
        "    offset = (step * batch_size) % (train_labels.shape[0] - batch_size)\n",
        "    # Generate a minibatch.\n",
        "    batch_data = train_dataset[offset:(offset + batch_size), :]\n",
        "    batch_labels = train_labels[offset:(offset + batch_size), :]\n",
        "    # Prepare a dictionary telling the session where to feed the minibatch.\n",
        "    # The key of the dictionary is the placeholder node of the graph to be fed,\n",
        "    # and the value is the numpy array to feed to it.\n",
        "    feed_dict = {tf_train_dataset : batch_data, tf_train_labels : batch_labels}\n",
        "    _, l, predictions = session.run(\n",
        "      [optimizer, loss, train_prediction], feed_dict=feed_dict)\n",
        "    if (step % 500 == 0):\n",
        "      print(\"Minibatch loss at step %d: %f\" % (step, l))\n",
        "      print(\"Minibatch accuracy: %.1f%%\" % accuracy(predictions, batch_labels))\n",
        "      print(\"Validation accuracy: %.1f%%\" % accuracy(\n",
        "        valid_prediction.eval(), valid_labels))\n",
        "  print(\"Test accuracy: %.1f%%\" % accuracy(test_prediction.eval(), test_labels))"
      ],
      "execution_count": 80,
      "outputs": [
        {
          "output_type": "stream",
          "text": [
            "Initialized\n",
            "Minibatch loss at step 0: 3.282810\n",
            "Minibatch accuracy: 8.6%\n",
            "Validation accuracy: 31.1%\n",
            "Minibatch loss at step 500: 0.883438\n",
            "Minibatch accuracy: 91.4%\n",
            "Validation accuracy: 85.4%\n",
            "Minibatch loss at step 1000: 0.877508\n",
            "Minibatch accuracy: 86.7%\n",
            "Validation accuracy: 86.9%\n",
            "Minibatch loss at step 1500: 0.728249\n",
            "Minibatch accuracy: 85.9%\n",
            "Validation accuracy: 88.3%\n",
            "Minibatch loss at step 2000: 0.488919\n",
            "Minibatch accuracy: 93.0%\n",
            "Validation accuracy: 88.8%\n",
            "Minibatch loss at step 2500: 0.581660\n",
            "Minibatch accuracy: 88.3%\n",
            "Validation accuracy: 89.0%\n",
            "Minibatch loss at step 3000: 0.517112\n",
            "Minibatch accuracy: 91.4%\n",
            "Validation accuracy: 89.0%\n",
            "Minibatch loss at step 3500: 0.473228\n",
            "Minibatch accuracy: 91.4%\n",
            "Validation accuracy: 89.2%\n",
            "Minibatch loss at step 4000: 0.502941\n",
            "Minibatch accuracy: 91.4%\n",
            "Validation accuracy: 89.4%\n",
            "Minibatch loss at step 4500: 0.417903\n",
            "Minibatch accuracy: 92.2%\n",
            "Validation accuracy: 89.7%\n",
            "Minibatch loss at step 5000: 0.585046\n",
            "Minibatch accuracy: 85.9%\n",
            "Validation accuracy: 89.9%\n",
            "Minibatch loss at step 5500: 0.474939\n",
            "Minibatch accuracy: 91.4%\n",
            "Validation accuracy: 90.3%\n",
            "Minibatch loss at step 6000: 0.405357\n",
            "Minibatch accuracy: 90.6%\n",
            "Validation accuracy: 90.2%\n",
            "Minibatch loss at step 6500: 0.478851\n",
            "Minibatch accuracy: 89.8%\n",
            "Validation accuracy: 90.4%\n",
            "Minibatch loss at step 7000: 0.495478\n",
            "Minibatch accuracy: 89.8%\n",
            "Validation accuracy: 90.3%\n",
            "Minibatch loss at step 7500: 0.545219\n",
            "Minibatch accuracy: 88.3%\n",
            "Validation accuracy: 90.3%\n",
            "Minibatch loss at step 8000: 0.396618\n",
            "Minibatch accuracy: 91.4%\n",
            "Validation accuracy: 90.4%\n",
            "Minibatch loss at step 8500: 0.426969\n",
            "Minibatch accuracy: 90.6%\n",
            "Validation accuracy: 90.5%\n",
            "Minibatch loss at step 9000: 0.353534\n",
            "Minibatch accuracy: 95.3%\n",
            "Validation accuracy: 90.5%\n",
            "Test accuracy: 95.5%\n"
          ],
          "name": "stdout"
        }
      ]
    },
    {
      "metadata": {
        "id": "yZy1QbB2Qoc6",
        "colab_type": "text"
      },
      "cell_type": "markdown",
      "source": [
        "This is getting really good. Let's try one layer deeper with dropouts."
      ]
    },
    {
      "metadata": {
        "id": "OelbNCwgQoc6",
        "colab_type": "code",
        "colab": {}
      },
      "cell_type": "code",
      "source": [
        "batch_size = 128\n",
        "num_hidden_nodes1 = 1024\n",
        "num_hidden_nodes2 = 256\n",
        "num_hidden_nodes3 = 128\n",
        "keep_prob = 0.5\n",
        "\n",
        "graph = tf.Graph()\n",
        "with graph.as_default():\n",
        "\n",
        "  # Input data. For the training data, we use a placeholder that will be fed\n",
        "  # at run time with a training minibatch.\n",
        "  tf_train_dataset = tf.placeholder(tf.float32,\n",
        "                                    shape=(batch_size, image_size * image_size))\n",
        "  tf_train_labels = tf.placeholder(tf.float32, shape=(batch_size, num_labels))\n",
        "  tf_valid_dataset = tf.constant(valid_dataset)\n",
        "  tf_test_dataset = tf.constant(test_dataset)\n",
        "  global_step = tf.Variable(0)\n",
        "\n",
        "  # Variables.\n",
        "  weights1 = tf.Variable(\n",
        "    tf.truncated_normal(\n",
        "        [image_size * image_size, num_hidden_nodes1],\n",
        "        stddev=np.sqrt(2.0 / (image_size * image_size)))\n",
        "    )\n",
        "  biases1 = tf.Variable(tf.zeros([num_hidden_nodes1]))\n",
        "  weights2 = tf.Variable(\n",
        "    tf.truncated_normal([num_hidden_nodes1, num_hidden_nodes2], stddev=np.sqrt(2.0 / num_hidden_nodes1)))\n",
        "  biases2 = tf.Variable(tf.zeros([num_hidden_nodes2]))\n",
        "  weights3 = tf.Variable(\n",
        "    tf.truncated_normal([num_hidden_nodes2, num_hidden_nodes3], stddev=np.sqrt(2.0 / num_hidden_nodes2)))\n",
        "  biases3 = tf.Variable(tf.zeros([num_hidden_nodes3]))\n",
        "  weights4 = tf.Variable(\n",
        "    tf.truncated_normal([num_hidden_nodes3, num_labels], stddev=np.sqrt(2.0 / num_hidden_nodes3)))\n",
        "  biases4 = tf.Variable(tf.zeros([num_labels]))\n",
        "  \n",
        "  # Training computation.\n",
        "  lay1_train = tf.nn.relu(tf.matmul(tf_train_dataset, weights1) + biases1)\n",
        "  lay2_train = tf.nn.relu(tf.matmul(lay1_train, weights2) + biases2)\n",
        "  lay3_train = tf.nn.relu(tf.matmul(lay2_train, weights3) + biases3)\n",
        "  logits = tf.matmul(lay3_train, weights4) + biases4\n",
        "  loss = tf.reduce_mean(\n",
        "    tf.nn.softmax_cross_entropy_with_logits(logits=logits, labels=tf_train_labels))\n",
        "  \n",
        "  # Optimizer.\n",
        "  learning_rate = tf.train.exponential_decay(0.5, global_step, 4000, 0.65, staircase=True)\n",
        "  optimizer = tf.train.GradientDescentOptimizer(learning_rate).minimize(loss, global_step=global_step)\n",
        "  \n",
        "  # Predictions for the training, validation, and test data.\n",
        "  train_prediction = tf.nn.softmax(logits)\n",
        "  lay1_valid = tf.nn.relu(tf.matmul(tf_valid_dataset, weights1) + biases1)\n",
        "  lay2_valid = tf.nn.relu(tf.matmul(lay1_valid, weights2) + biases2)\n",
        "  lay3_valid = tf.nn.relu(tf.matmul(lay2_valid, weights3) + biases3)\n",
        "  valid_prediction = tf.nn.softmax(tf.matmul(lay3_valid, weights4) + biases4)\n",
        "  lay1_test = tf.nn.relu(tf.matmul(tf_test_dataset, weights1) + biases1)\n",
        "  lay2_test = tf.nn.relu(tf.matmul(lay1_test, weights2) + biases2)\n",
        "  lay3_test = tf.nn.relu(tf.matmul(lay2_test, weights3) + biases3)\n",
        "  test_prediction = tf.nn.softmax(tf.matmul(lay3_test, weights4) + biases4)"
      ],
      "execution_count": 0,
      "outputs": []
    },
    {
      "metadata": {
        "id": "2hEA5aH1Qoc8",
        "colab_type": "code",
        "colab": {
          "base_uri": "https://localhost:8080/",
          "height": 1938
        },
        "outputId": "ded91cb0-53ff-4b98-f12c-ea3e5a969057"
      },
      "cell_type": "code",
      "source": [
        "num_steps = 18001\n",
        "\n",
        "with tf.Session(graph=graph) as session:\n",
        "  tf.initialize_all_variables().run()\n",
        "  print(\"Initialized\")\n",
        "  for step in range(num_steps):\n",
        "    # Pick an offset within the training data, which has been randomized.\n",
        "    # Note: we could use better randomization across epochs.\n",
        "    offset = (step * batch_size) % (train_labels.shape[0] - batch_size)\n",
        "    # Generate a minibatch.\n",
        "    batch_data = train_dataset[offset:(offset + batch_size), :]\n",
        "    batch_labels = train_labels[offset:(offset + batch_size), :]\n",
        "    # Prepare a dictionary telling the session where to feed the minibatch.\n",
        "    # The key of the dictionary is the placeholder node of the graph to be fed,\n",
        "    # and the value is the numpy array to feed to it.\n",
        "    feed_dict = {tf_train_dataset : batch_data, tf_train_labels : batch_labels}\n",
        "    _, l, predictions = session.run(\n",
        "      [optimizer, loss, train_prediction], feed_dict=feed_dict)\n",
        "    if (step % 500 == 0):\n",
        "      print(\"Minibatch loss at step %d: %f\" % (step, l))\n",
        "      print(\"Minibatch accuracy: %.1f%%\" % accuracy(predictions, batch_labels))\n",
        "      print(\"Validation accuracy: %.1f%%\" % accuracy(\n",
        "        valid_prediction.eval(), valid_labels))\n",
        "  print(\"Test accuracy: %.1f%%\" % accuracy(test_prediction.eval(), test_labels))"
      ],
      "execution_count": 82,
      "outputs": [
        {
          "output_type": "stream",
          "text": [
            "Initialized\n",
            "Minibatch loss at step 0: 2.429001\n",
            "Minibatch accuracy: 6.2%\n",
            "Validation accuracy: 30.2%\n",
            "Minibatch loss at step 500: 0.304245\n",
            "Minibatch accuracy: 90.6%\n",
            "Validation accuracy: 85.9%\n",
            "Minibatch loss at step 1000: 0.469985\n",
            "Minibatch accuracy: 84.4%\n",
            "Validation accuracy: 86.8%\n",
            "Minibatch loss at step 1500: 0.413725\n",
            "Minibatch accuracy: 84.4%\n",
            "Validation accuracy: 88.5%\n",
            "Minibatch loss at step 2000: 0.209225\n",
            "Minibatch accuracy: 93.0%\n",
            "Validation accuracy: 88.7%\n",
            "Minibatch loss at step 2500: 0.381472\n",
            "Minibatch accuracy: 89.1%\n",
            "Validation accuracy: 89.2%\n",
            "Minibatch loss at step 3000: 0.249260\n",
            "Minibatch accuracy: 92.2%\n",
            "Validation accuracy: 89.5%\n",
            "Minibatch loss at step 3500: 0.310160\n",
            "Minibatch accuracy: 89.1%\n",
            "Validation accuracy: 89.2%\n",
            "Minibatch loss at step 4000: 0.233052\n",
            "Minibatch accuracy: 92.2%\n",
            "Validation accuracy: 89.2%\n",
            "Minibatch loss at step 4500: 0.196716\n",
            "Minibatch accuracy: 94.5%\n",
            "Validation accuracy: 90.4%\n",
            "Minibatch loss at step 5000: 0.366630\n",
            "Minibatch accuracy: 89.1%\n",
            "Validation accuracy: 90.0%\n",
            "Minibatch loss at step 5500: 0.165687\n",
            "Minibatch accuracy: 94.5%\n",
            "Validation accuracy: 90.2%\n",
            "Minibatch loss at step 6000: 0.215245\n",
            "Minibatch accuracy: 93.8%\n",
            "Validation accuracy: 90.3%\n",
            "Minibatch loss at step 6500: 0.220413\n",
            "Minibatch accuracy: 93.0%\n",
            "Validation accuracy: 90.0%\n",
            "Minibatch loss at step 7000: 0.272434\n",
            "Minibatch accuracy: 89.1%\n",
            "Validation accuracy: 90.2%\n",
            "Minibatch loss at step 7500: 0.223279\n",
            "Minibatch accuracy: 92.2%\n",
            "Validation accuracy: 90.4%\n",
            "Minibatch loss at step 8000: 0.163696\n",
            "Minibatch accuracy: 96.1%\n",
            "Validation accuracy: 90.4%\n",
            "Minibatch loss at step 8500: 0.130215\n",
            "Minibatch accuracy: 96.1%\n",
            "Validation accuracy: 90.7%\n",
            "Minibatch loss at step 9000: 0.114361\n",
            "Minibatch accuracy: 95.3%\n",
            "Validation accuracy: 90.7%\n",
            "Minibatch loss at step 9500: 0.120837\n",
            "Minibatch accuracy: 95.3%\n",
            "Validation accuracy: 90.5%\n",
            "Minibatch loss at step 10000: 0.020323\n",
            "Minibatch accuracy: 100.0%\n",
            "Validation accuracy: 90.8%\n",
            "Minibatch loss at step 10500: 0.157257\n",
            "Minibatch accuracy: 93.8%\n",
            "Validation accuracy: 90.6%\n",
            "Minibatch loss at step 11000: 0.120834\n",
            "Minibatch accuracy: 96.9%\n",
            "Validation accuracy: 90.7%\n",
            "Minibatch loss at step 11500: 0.103505\n",
            "Minibatch accuracy: 96.9%\n",
            "Validation accuracy: 90.8%\n",
            "Minibatch loss at step 12000: 0.122927\n",
            "Minibatch accuracy: 96.1%\n",
            "Validation accuracy: 90.9%\n",
            "Minibatch loss at step 12500: 0.154228\n",
            "Minibatch accuracy: 94.5%\n",
            "Validation accuracy: 91.0%\n",
            "Minibatch loss at step 13000: 0.040849\n",
            "Minibatch accuracy: 99.2%\n",
            "Validation accuracy: 91.0%\n",
            "Minibatch loss at step 13500: 0.052288\n",
            "Minibatch accuracy: 99.2%\n",
            "Validation accuracy: 90.8%\n",
            "Minibatch loss at step 14000: 0.055827\n",
            "Minibatch accuracy: 98.4%\n",
            "Validation accuracy: 91.2%\n",
            "Minibatch loss at step 14500: 0.086491\n",
            "Minibatch accuracy: 98.4%\n",
            "Validation accuracy: 91.0%\n",
            "Minibatch loss at step 15000: 0.060589\n",
            "Minibatch accuracy: 97.7%\n",
            "Validation accuracy: 91.0%\n",
            "Minibatch loss at step 15500: 0.143034\n",
            "Minibatch accuracy: 94.5%\n",
            "Validation accuracy: 91.0%\n",
            "Minibatch loss at step 16000: 0.049673\n",
            "Minibatch accuracy: 98.4%\n",
            "Validation accuracy: 90.9%\n",
            "Minibatch loss at step 16500: 0.025750\n",
            "Minibatch accuracy: 100.0%\n",
            "Validation accuracy: 91.2%\n",
            "Minibatch loss at step 17000: 0.038187\n",
            "Minibatch accuracy: 100.0%\n",
            "Validation accuracy: 91.0%\n",
            "Minibatch loss at step 17500: 0.052880\n",
            "Minibatch accuracy: 99.2%\n",
            "Validation accuracy: 91.4%\n",
            "Minibatch loss at step 18000: 0.025621\n",
            "Minibatch accuracy: 99.2%\n",
            "Validation accuracy: 91.2%\n",
            "Test accuracy: 96.1%\n"
          ],
          "name": "stdout"
        }
      ]
    },
    {
      "metadata": {
        "id": "kQQXCipQQodA",
        "colab_type": "text"
      },
      "cell_type": "markdown",
      "source": [
        "Huge! That's my best score on this dataset. I have also tried more parameters, but it does not help:"
      ]
    }
  ]
}