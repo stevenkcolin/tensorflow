{
  "nbformat": 4,
  "nbformat_minor": 0,
  "metadata": {
    "colab": {
      "name": "2019-01-28-2_fullyconnected.ipynb",
      "version": "0.3.2",
      "provenance": [],
      "collapsed_sections": [],
      "include_colab_link": true
    },
    "kernelspec": {
      "name": "python3",
      "display_name": "Python 3"
    }
  },
  "cells": [
    {
      "cell_type": "markdown",
      "metadata": {
        "id": "view-in-github",
        "colab_type": "text"
      },
      "source": [
        "<a href=\"https://colab.research.google.com/github/stevenkcolin/tensorflow/blob/master/2019_01_28_2_fullyconnected.ipynb\" target=\"_parent\"><img src=\"https://colab.research.google.com/assets/colab-badge.svg\" alt=\"Open In Colab\"/></a>"
      ]
    },
    {
      "metadata": {
        "id": "kR-4eNdK6lYS",
        "colab_type": "text"
      },
      "cell_type": "markdown",
      "source": [
        "Deep Learning\n",
        "=============\n",
        "\n",
        "Assignment 2\n",
        "------------\n",
        "\n",
        "Previously in `1_notmnist.ipynb`, we created a pickle with formatted datasets for training, development and testing on the [notMNIST dataset](http://yaroslavvb.blogspot.com/2011/09/notmnist-dataset.html).\n",
        "\n",
        "The goal of this assignment is to progressively train deeper and more accurate models using TensorFlow."
      ]
    },
    {
      "metadata": {
        "id": "JLpLa8Jt7Vu4",
        "colab_type": "code",
        "cellView": "both",
        "colab": {}
      },
      "cell_type": "code",
      "source": [
        "# These are all the modules we'll be using later. Make sure you can import them\n",
        "# before proceeding further.\n",
        "from __future__ import print_function\n",
        "import numpy as np\n",
        "import tensorflow as tf\n",
        "from six.moves import cPickle as pickle\n",
        "from six.moves import range\n",
        "import pickle"
      ],
      "execution_count": 0,
      "outputs": []
    },
    {
      "metadata": {
        "id": "1HrCK6e17WzV",
        "colab_type": "text"
      },
      "cell_type": "markdown",
      "source": [
        "First reload the data we generated in `1_notmnist.ipynb`."
      ]
    },
    {
      "metadata": {
        "id": "y3-cj1bpmuxc",
        "colab_type": "code",
        "cellView": "both",
        "outputId": "61580342-391b-4b3b-e637-ad3cb3673422",
        "colab": {
          "base_uri": "https://localhost:8080/",
          "height": 68
        }
      },
      "cell_type": "code",
      "source": [
        "pickle_file = 'notMNIST.pickle'\n",
        "\n",
        "with open(pickle_file, 'rb') as f:\n",
        "  save = pickle.load(f)\n",
        "  train_dataset = save['train_dataset']\n",
        "  train_labels = save['train_labels']\n",
        "  valid_dataset = save['valid_dataset']\n",
        "  valid_labels = save['valid_labels']\n",
        "  test_dataset = save['test_dataset']\n",
        "  test_labels = save['test_labels']\n",
        "  del save  # hint to help gc free up memory\n",
        "  print('Training set', train_dataset.shape, train_labels.shape)\n",
        "  print('Validation set', valid_dataset.shape, valid_labels.shape)\n",
        "  print('Test set', test_dataset.shape, test_labels.shape)"
      ],
      "execution_count": 19,
      "outputs": [
        {
          "output_type": "stream",
          "text": [
            "Training set (200000, 28, 28) (200000,)\n",
            "Validation set (10000, 28, 28) (10000,)\n",
            "Test set (10000, 28, 28) (10000,)\n"
          ],
          "name": "stdout"
        }
      ]
    },
    {
      "metadata": {
        "id": "L7aHrm6nGDMB",
        "colab_type": "text"
      },
      "cell_type": "markdown",
      "source": [
        "Reformat into a shape that's more adapted to the models we're going to train:\n",
        "- data as a flat matrix,\n",
        "- labels as float 1-hot encodings."
      ]
    },
    {
      "metadata": {
        "id": "IRSyYiIIGIzS",
        "colab_type": "code",
        "cellView": "both",
        "outputId": "5091b092-a8cf-421b-a82a-b119b89e6eb6",
        "colab": {
          "base_uri": "https://localhost:8080/",
          "height": 68
        }
      },
      "cell_type": "code",
      "source": [
        "image_size = 28\n",
        "num_labels = 10\n",
        "\n",
        "def reformat(dataset, labels):\n",
        "  dataset = dataset.reshape((-1, image_size * image_size)).astype(np.float32)\n",
        "  # Map 0 to [1.0, 0.0, 0.0 ...], 1 to [0.0, 1.0, 0.0 ...]\n",
        "  labels = (np.arange(num_labels) == labels[:,None]).astype(np.float32)\n",
        "  return dataset, labels\n",
        "train_dataset, train_labels = reformat(train_dataset, train_labels)\n",
        "valid_dataset, valid_labels = reformat(valid_dataset, valid_labels)\n",
        "test_dataset, test_labels = reformat(test_dataset, test_labels)\n",
        "print('Training set', train_dataset.shape, train_labels.shape)\n",
        "print('Validation set', valid_dataset.shape, valid_labels.shape)\n",
        "print('Test set', test_dataset.shape, test_labels.shape)"
      ],
      "execution_count": 20,
      "outputs": [
        {
          "output_type": "stream",
          "text": [
            "Training set (200000, 784) (200000, 10)\n",
            "Validation set (10000, 784) (10000, 10)\n",
            "Test set (10000, 784) (10000, 10)\n"
          ],
          "name": "stdout"
        }
      ]
    },
    {
      "metadata": {
        "id": "nCLVqyQ5vPPH",
        "colab_type": "text"
      },
      "cell_type": "markdown",
      "source": [
        "We're first going to train a multinomial logistic regression using simple gradient descent.\n",
        "\n",
        "TensorFlow works like this:\n",
        "* First you describe the computation that you want to see performed: what the inputs, the variables, and the operations look like. These get created as nodes over a computation graph. This description is all contained within the block below:\n",
        "\n",
        "      with graph.as_default():\n",
        "          ...\n",
        "\n",
        "* Then you can run the operations on this graph as many times as you want by calling `session.run()`, providing it outputs to fetch from the graph that get returned. This runtime operation is all contained in the block below:\n",
        "\n",
        "      with tf.Session(graph=graph) as session:\n",
        "          ...\n",
        "\n",
        "Let's load all the data into TensorFlow and build the computation graph corresponding to our training:"
      ]
    },
    {
      "metadata": {
        "id": "Nfv39qvtvOl_",
        "colab_type": "code",
        "cellView": "both",
        "colab": {}
      },
      "cell_type": "code",
      "source": [
        "# With gradient descent training, even this much data is prohibitive.\n",
        "# Subset the training data for faster turnaround.\n",
        "train_subset = 10000\n",
        "\n",
        "graph = tf.Graph()\n",
        "with graph.as_default():\n",
        "\n",
        "  # Input data.\n",
        "  # Load the training, validation and test data into constants that are\n",
        "  # attached to the graph.\n",
        "  tf_train_dataset = tf.constant(train_dataset[:train_subset, :])\n",
        "  tf_train_labels = tf.constant(train_labels[:train_subset])\n",
        "  tf_valid_dataset = tf.constant(valid_dataset)\n",
        "  tf_test_dataset = tf.constant(test_dataset)\n",
        "  \n",
        "  # Variables.\n",
        "  # These are the parameters that we are going to be training. The weight\n",
        "  # matrix will be initialized using random values following a (truncated)\n",
        "  # normal distribution. The biases get initialized to zero.\n",
        "  weights = tf.Variable(\n",
        "    tf.truncated_normal([image_size * image_size, num_labels]))\n",
        "  biases = tf.Variable(tf.zeros([num_labels]))\n",
        "  \n",
        "  # Training computation.\n",
        "  # We multiply the inputs with the weight matrix, and add biases. We compute\n",
        "  # the softmax and cross-entropy (it's one operation in TensorFlow, because\n",
        "  # it's very common, and it can be optimized). We take the average of this\n",
        "  # cross-entropy across all training examples: that's our loss.\n",
        "  logits = tf.matmul(tf_train_dataset, weights) + biases\n",
        "  loss = tf.reduce_mean(\n",
        "    tf.nn.softmax_cross_entropy_with_logits(labels=tf_train_labels, logits=logits))\n",
        "  \n",
        "  # Optimizer.\n",
        "  # We are going to find the minimum of this loss using gradient descent.\n",
        "  optimizer = tf.train.GradientDescentOptimizer(0.5).minimize(loss)\n",
        "  \n",
        "  # Predictions for the training, validation, and test data.\n",
        "  # These are not part of training, but merely here so that we can report\n",
        "  # accuracy figures as we train.\n",
        "  train_prediction = tf.nn.softmax(logits)\n",
        "  valid_prediction = tf.nn.softmax(\n",
        "    tf.matmul(tf_valid_dataset, weights) + biases)\n",
        "  test_prediction = tf.nn.softmax(tf.matmul(tf_test_dataset, weights) + biases)"
      ],
      "execution_count": 0,
      "outputs": []
    },
    {
      "metadata": {
        "id": "KQcL4uqISHjP",
        "colab_type": "text"
      },
      "cell_type": "markdown",
      "source": [
        "Let's run this computation and iterate:"
      ]
    },
    {
      "metadata": {
        "id": "z2cjdenH869W",
        "colab_type": "code",
        "cellView": "both",
        "outputId": "cf1f257a-e10d-47a1-902a-0a4dd47fe08f",
        "colab": {
          "base_uri": "https://localhost:8080/",
          "height": 510
        }
      },
      "cell_type": "code",
      "source": [
        "num_steps = 801\n",
        "\n",
        "def accuracy(predictions, labels):\n",
        "  return (100.0 * np.sum(np.argmax(predictions, 1) == np.argmax(labels, 1))\n",
        "          / predictions.shape[0])\n",
        "\n",
        "with tf.Session(graph=graph) as session:\n",
        "  # This is a one-time operation which ensures the parameters get initialized as\n",
        "  # we described in the graph: random weights for the matrix, zeros for the\n",
        "  # biases. \n",
        "  tf.global_variables_initializer().run()\n",
        "  print('Initialized')\n",
        "  for step in range(num_steps):\n",
        "    # Run the computations. We tell .run() that we want to run the optimizer,\n",
        "    # and get the loss value and the training predictions returned as numpy\n",
        "    # arrays.\n",
        "    _, l, predictions = session.run([optimizer, loss, train_prediction])\n",
        "    if (step % 100 == 0):\n",
        "      print('Loss at step %d: %f' % (step, l))\n",
        "      print('Training accuracy: %.1f%%' % accuracy(\n",
        "        predictions, train_labels[:train_subset, :]))\n",
        "      # Calling .eval() on valid_prediction is basically like calling run(), but\n",
        "      # just to get that one numpy array. Note that it recomputes all its graph\n",
        "      # dependencies.\n",
        "      print('Validation accuracy: %.1f%%' % accuracy(\n",
        "        valid_prediction.eval(), valid_labels))\n",
        "  print('Test accuracy: %.1f%%' % accuracy(test_prediction.eval(), test_labels))"
      ],
      "execution_count": 22,
      "outputs": [
        {
          "output_type": "stream",
          "text": [
            "Initialized\n",
            "Loss at step 0: 14.549428\n",
            "Training accuracy: 12.6%\n",
            "Validation accuracy: 15.9%\n",
            "Loss at step 100: 2.364224\n",
            "Training accuracy: 71.6%\n",
            "Validation accuracy: 70.2%\n",
            "Loss at step 200: 1.899422\n",
            "Training accuracy: 74.6%\n",
            "Validation accuracy: 72.4%\n",
            "Loss at step 300: 1.643628\n",
            "Training accuracy: 76.0%\n",
            "Validation accuracy: 73.0%\n",
            "Loss at step 400: 1.473373\n",
            "Training accuracy: 76.7%\n",
            "Validation accuracy: 73.4%\n",
            "Loss at step 500: 1.347486\n",
            "Training accuracy: 77.6%\n",
            "Validation accuracy: 73.8%\n",
            "Loss at step 600: 1.248949\n",
            "Training accuracy: 77.9%\n",
            "Validation accuracy: 74.0%\n",
            "Loss at step 700: 1.169150\n",
            "Training accuracy: 78.4%\n",
            "Validation accuracy: 74.2%\n",
            "Loss at step 800: 1.102822\n",
            "Training accuracy: 78.8%\n",
            "Validation accuracy: 74.5%\n",
            "Test accuracy: 82.6%\n"
          ],
          "name": "stdout"
        }
      ]
    },
    {
      "metadata": {
        "id": "x68f-hxRGm3H",
        "colab_type": "text"
      },
      "cell_type": "markdown",
      "source": [
        "Let's now switch to stochastic gradient descent training instead, which is much faster.\n",
        "\n",
        "The graph will be similar, except that instead of holding all the training data into a constant node, we create a `Placeholder` node which will be fed actual data at every call of `session.run()`."
      ]
    },
    {
      "metadata": {
        "id": "qhPMzWYRGrzM",
        "colab_type": "code",
        "cellView": "both",
        "colab": {}
      },
      "cell_type": "code",
      "source": [
        "batch_size = 128\n",
        "\n",
        "graph = tf.Graph()\n",
        "with graph.as_default():\n",
        "\n",
        "  # Input data. For the training data, we use a placeholder that will be fed\n",
        "  # at run time with a training minibatch.\n",
        "  tf_train_dataset = tf.placeholder(tf.float32,\n",
        "                                    shape=(batch_size, image_size * image_size))\n",
        "  tf_train_labels = tf.placeholder(tf.float32, shape=(batch_size, num_labels))\n",
        "  tf_valid_dataset = tf.constant(valid_dataset)\n",
        "  tf_test_dataset = tf.constant(test_dataset)\n",
        "  \n",
        "  # Variables.\n",
        "  weights = tf.Variable(\n",
        "    tf.truncated_normal([image_size * image_size, num_labels]))\n",
        "  biases = tf.Variable(tf.zeros([num_labels]))\n",
        "  \n",
        "  # Training computation.\n",
        "  logits = tf.matmul(tf_train_dataset, weights) + biases\n",
        "  loss = tf.reduce_mean(\n",
        "    tf.nn.softmax_cross_entropy_with_logits(labels=tf_train_labels, logits=logits))\n",
        "  \n",
        "  # Optimizer.\n",
        "  optimizer = tf.train.GradientDescentOptimizer(0.5).minimize(loss)\n",
        "  \n",
        "  # Predictions for the training, validation, and test data.\n",
        "  train_prediction = tf.nn.softmax(logits)\n",
        "  valid_prediction = tf.nn.softmax(\n",
        "    tf.matmul(tf_valid_dataset, weights) + biases)\n",
        "  test_prediction = tf.nn.softmax(tf.matmul(tf_test_dataset, weights) + biases)"
      ],
      "execution_count": 0,
      "outputs": []
    },
    {
      "metadata": {
        "id": "XmVZESmtG4JH",
        "colab_type": "text"
      },
      "cell_type": "markdown",
      "source": [
        "Let's run it:"
      ]
    },
    {
      "metadata": {
        "id": "FoF91pknG_YW",
        "colab_type": "code",
        "cellView": "both",
        "outputId": "e8cbc569-32b4-474a-8902-5ed828a73d2d",
        "colab": {
          "base_uri": "https://localhost:8080/",
          "height": 408
        }
      },
      "cell_type": "code",
      "source": [
        "num_steps = 3001\n",
        "\n",
        "with tf.Session(graph=graph) as session:\n",
        "  tf.global_variables_initializer().run()\n",
        "  print(\"Initialized\")\n",
        "  for step in range(num_steps):\n",
        "    # Pick an offset within the training data, which has been randomized.\n",
        "    # Note: we could use better randomization across epochs.\n",
        "    offset = (step * batch_size) % (train_labels.shape[0] - batch_size)\n",
        "    # Generate a minibatch.\n",
        "    batch_data = train_dataset[offset:(offset + batch_size), :]\n",
        "    batch_labels = train_labels[offset:(offset + batch_size), :]\n",
        "    # Prepare a dictionary telling the session where to feed the minibatch.\n",
        "    # The key of the dictionary is the placeholder node of the graph to be fed,\n",
        "    # and the value is the numpy array to feed to it.\n",
        "    feed_dict = {tf_train_dataset : batch_data, tf_train_labels : batch_labels}\n",
        "    _, l, predictions = session.run(\n",
        "      [optimizer, loss, train_prediction], feed_dict=feed_dict)\n",
        "    if (step % 500 == 0):\n",
        "      print(\"Minibatch loss at step %d: %f\" % (step, l))\n",
        "      print(\"Minibatch accuracy: %.1f%%\" % accuracy(predictions, batch_labels))\n",
        "      print(\"Validation accuracy: %.1f%%\" % accuracy(\n",
        "        valid_prediction.eval(), valid_labels))\n",
        "  print(\"Test accuracy: %.1f%%\" % accuracy(test_prediction.eval(), test_labels))"
      ],
      "execution_count": 24,
      "outputs": [
        {
          "output_type": "stream",
          "text": [
            "Initialized\n",
            "Minibatch loss at step 0: 15.401875\n",
            "Minibatch accuracy: 11.7%\n",
            "Validation accuracy: 15.4%\n",
            "Minibatch loss at step 500: 2.294342\n",
            "Minibatch accuracy: 69.5%\n",
            "Validation accuracy: 75.2%\n",
            "Minibatch loss at step 1000: 1.156997\n",
            "Minibatch accuracy: 78.1%\n",
            "Validation accuracy: 76.3%\n",
            "Minibatch loss at step 1500: 1.003482\n",
            "Minibatch accuracy: 82.0%\n",
            "Validation accuracy: 76.8%\n",
            "Minibatch loss at step 2000: 0.932442\n",
            "Minibatch accuracy: 75.8%\n",
            "Validation accuracy: 76.8%\n",
            "Minibatch loss at step 2500: 0.651508\n",
            "Minibatch accuracy: 81.2%\n",
            "Validation accuracy: 78.0%\n",
            "Minibatch loss at step 3000: 1.230384\n",
            "Minibatch accuracy: 76.6%\n",
            "Validation accuracy: 77.8%\n",
            "Test accuracy: 85.8%\n"
          ],
          "name": "stdout"
        }
      ]
    },
    {
      "metadata": {
        "id": "7omWxtvLLxik",
        "colab_type": "text"
      },
      "cell_type": "markdown",
      "source": [
        "---\n",
        "Problem\n",
        "-------\n",
        "\n",
        "Turn the logistic regression example with SGD into a 1-hidden layer neural network with rectified linear units [nn.relu()](https://www.tensorflow.org/versions/r0.7/api_docs/python/nn.html#relu) and 1024 hidden nodes. This model should improve your validation / test accuracy.\n",
        "\n",
        "---"
      ]
    },
    {
      "metadata": {
        "id": "HAY2mtdQ6hTw",
        "colab_type": "text"
      },
      "cell_type": "markdown",
      "source": [
        "  ### 这里多说一点\n",
        "1. 训练样本X 是一个128 * 1024 即batch_size * num_hidden_nodes\n",
        "2. $lay_1=w_1 x+b_1$\n",
        "3. $logits = w_2lay_1 + b_2$\n",
        "4. logits 是一个 128 * 10 的矩阵\n",
        "5. 既然有了logits, 也有相应的样本数y, 那么就计算loss\n",
        "```\n",
        "loss = tf.reduce_mean(\n",
        "    tf.nn.softmax_cross_entropy_with_logits(logits=logits,labels=tf_train_labels))\n",
        "```\n",
        "\n",
        "6. 定义optimizer 使用tensorflow自带的梯度下降方法\n",
        "\n",
        " \n",
        " "
      ]
    },
    {
      "metadata": {
        "id": "Txo9L4ibzIqK",
        "colab_type": "code",
        "colab": {
          "base_uri": "https://localhost:8080/",
          "height": 153
        },
        "outputId": "33357bee-3e4a-490b-d4e7-b9ddc1cf5fac"
      },
      "cell_type": "code",
      "source": [
        "batch_size = 128\n",
        "num_hidden_nodes = 2048\n",
        "\n",
        "graph = tf.Graph()\n",
        "with graph.as_default():\n",
        "\n",
        "  # Input data. For the training data, we use a placeholder that will be fed\n",
        "  # at run time with a training minibatch.\n",
        "  tf_train_dataset = tf.placeholder(tf.float32,\n",
        "                                    shape=(batch_size, image_size * image_size))\n",
        "  tf_train_labels = tf.placeholder(tf.float32, shape=(batch_size, num_labels))\n",
        "  tf_valid_dataset = tf.constant(valid_dataset)\n",
        "  tf_test_dataset = tf.constant(test_dataset)\n",
        "  \n",
        "  print(\"traing_dataset: \",tf_train_dataset)\n",
        "  \n",
        "  # Variables.\n",
        "  weights1 = tf.Variable(\n",
        "    tf.truncated_normal([image_size * image_size, num_hidden_nodes]))\n",
        "  biases1 = tf.Variable(tf.zeros([num_hidden_nodes]))\n",
        "  weights2 = tf.Variable(\n",
        "    tf.truncated_normal([num_hidden_nodes, num_labels]))\n",
        "  biases2 = tf.Variable(tf.zeros([num_labels]))\n",
        "  \n",
        "  print(\"weights1: \",weights1)\n",
        "  print(\"biases1: \",biases1)\n",
        "  \n",
        "  print(\"weights2: \",weights2)\n",
        "  print(\"biases2: \",biases2)\n",
        "  \n",
        "  # Training computation.\n",
        "\n",
        "  lay1_train = tf.nn.relu(tf.matmul(tf_train_dataset, weights1) + biases1)\n",
        "  logits = tf.matmul(lay1_train, weights2) + biases2\n",
        "  \n",
        "  print(\"lay1_train: \",lay1_train)\n",
        "  print(\"logits: \",logits)\n",
        "  \n",
        "\n",
        "  # 计算loss，\n",
        "  loss = tf.reduce_mean(\n",
        "    tf.nn.softmax_cross_entropy_with_logits(logits=logits,labels=tf_train_labels))\n",
        "  print(\"loss: \",loss)\n",
        "  \n",
        "  # Optimizer.\n",
        "  optimizer = tf.train.GradientDescentOptimizer(0.5).minimize(loss)\n",
        "  \n",
        "  # Predictions for the training, validation, and test data.\n",
        "  train_prediction = tf.nn.softmax(logits)\n",
        "  lay1_valid = tf.nn.relu(tf.matmul(tf_valid_dataset, weights1) + biases1)\n",
        "  valid_prediction = tf.nn.softmax(tf.matmul(lay1_valid, weights2) + biases2)\n",
        "  \n",
        "  lay1_test = tf.nn.relu(tf.matmul(tf_test_dataset, weights1) + biases1)\n",
        "  test_prediction = tf.nn.softmax(tf.matmul(lay1_test, weights2) + biases2)"
      ],
      "execution_count": 40,
      "outputs": [
        {
          "output_type": "stream",
          "text": [
            "traing_dataset:  Tensor(\"Placeholder:0\", shape=(128, 784), dtype=float32)\n",
            "weights1:  <tf.Variable 'Variable:0' shape=(784, 2048) dtype=float32_ref>\n",
            "biases1:  <tf.Variable 'Variable_1:0' shape=(2048,) dtype=float32_ref>\n",
            "weights2:  <tf.Variable 'Variable_2:0' shape=(2048, 10) dtype=float32_ref>\n",
            "biases2:  <tf.Variable 'Variable_3:0' shape=(10,) dtype=float32_ref>\n",
            "lay1_train:  Tensor(\"Relu:0\", shape=(128, 2048), dtype=float32)\n",
            "logits:  Tensor(\"add_1:0\", shape=(128, 10), dtype=float32)\n",
            "loss:  Tensor(\"Mean:0\", shape=(), dtype=float32)\n"
          ],
          "name": "stdout"
        }
      ]
    },
    {
      "metadata": {
        "id": "4wALDvXqzMS1",
        "colab_type": "code",
        "colab": {
          "base_uri": "https://localhost:8080/",
          "height": 408
        },
        "outputId": "2258fed3-7938-41aa-85b3-81a345d9aa60"
      },
      "cell_type": "code",
      "source": [
        "num_steps = 3001\n",
        "\n",
        "with tf.Session(graph=graph) as session:\n",
        "  tf.initialize_all_variables().run()\n",
        "  print(\"Initialized\")\n",
        "  for step in range(num_steps):\n",
        "\n",
        "    \n",
        "    offset = (step * batch_size) % (train_labels.shape[0] - batch_size)\n",
        " \n",
        "\n",
        "\n",
        "\n",
        "    batch_data = train_dataset[offset:(offset + batch_size), :]\n",
        "    batch_labels = train_labels[offset:(offset + batch_size), :]\n",
        "\n",
        "    \n",
        "    \n",
        "    feed_dict = {tf_train_dataset : batch_data, tf_train_labels : batch_labels}\n",
        "    _, l, predictions = session.run(\n",
        "      [optimizer, loss, train_prediction], feed_dict=feed_dict)\n",
        "    if (step % 500 == 0):\n",
        "      print(\"Minibatch loss at step %d: %f\" % (step, l))\n",
        "      print(\"Minibatch accuracy: %.1f%%\" % accuracy(predictions, batch_labels))\n",
        "      print(\"Validation accuracy: %.1f%%\" % accuracy(\n",
        "        valid_prediction.eval(), valid_labels))\n",
        "  print(\"Test accuracy: %.1f%%\" % accuracy(test_prediction.eval(), test_labels))"
      ],
      "execution_count": 41,
      "outputs": [
        {
          "output_type": "stream",
          "text": [
            "Initialized\n",
            "Minibatch loss at step 0: 539.635132\n",
            "Minibatch accuracy: 7.0%\n",
            "Validation accuracy: 36.2%\n",
            "Minibatch loss at step 500: 65.959808\n",
            "Minibatch accuracy: 74.2%\n",
            "Validation accuracy: 80.8%\n",
            "Minibatch loss at step 1000: 10.048073\n",
            "Minibatch accuracy: 83.6%\n",
            "Validation accuracy: 81.9%\n",
            "Minibatch loss at step 1500: 65.933792\n",
            "Minibatch accuracy: 75.8%\n",
            "Validation accuracy: 80.3%\n",
            "Minibatch loss at step 2000: 8.914481\n",
            "Minibatch accuracy: 83.6%\n",
            "Validation accuracy: 81.8%\n",
            "Minibatch loss at step 2500: 4.819833\n",
            "Minibatch accuracy: 84.4%\n",
            "Validation accuracy: 82.3%\n",
            "Minibatch loss at step 3000: 32.337410\n",
            "Minibatch accuracy: 80.5%\n",
            "Validation accuracy: 78.8%\n",
            "Test accuracy: 86.1%\n"
          ],
          "name": "stdout"
        }
      ]
    }
  ]
}