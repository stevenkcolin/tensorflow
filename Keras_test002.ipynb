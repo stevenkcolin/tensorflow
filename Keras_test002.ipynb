{
  "nbformat": 4,
  "nbformat_minor": 0,
  "metadata": {
    "colab": {
      "name": "Keras_test002.ipynb",
      "version": "0.3.2",
      "provenance": [],
      "collapsed_sections": [],
      "include_colab_link": true
    },
    "kernelspec": {
      "name": "python3",
      "display_name": "Python 3"
    }
  },
  "cells": [
    {
      "cell_type": "markdown",
      "metadata": {
        "id": "view-in-github",
        "colab_type": "text"
      },
      "source": [
        "<a href=\"https://colab.research.google.com/github/stevenkcolin/tensorflow/blob/master/Keras_test002.ipynb\" target=\"_parent\"><img src=\"https://colab.research.google.com/assets/colab-badge.svg\" alt=\"Open In Colab\"/></a>"
      ]
    },
    {
      "metadata": {
        "id": "_1qMXRJk_Sm9",
        "colab_type": "text"
      },
      "cell_type": "markdown",
      "source": [
        "## 从0开始Keras\n",
        "\n",
        "#### Step1: 导入数据，这里我们选择了最有名的mnist，就是0-9的图片集合啦"
      ]
    },
    {
      "metadata": {
        "id": "1E559Se8-fvk",
        "colab_type": "code",
        "colab": {}
      },
      "cell_type": "code",
      "source": [
        "import numpy as np\n",
        "from keras.datasets import mnist\n",
        "\n",
        "np.random.seed(1671) \n",
        "\n",
        "(X_train, y_train),(X_test,y_test) = mnist.load_data()\n",
        "# print(X_train,y_train)\n",
        "# print(X_test,y_test)"
      ],
      "execution_count": 0,
      "outputs": []
    },
    {
      "metadata": {
        "id": "BZ7RcH6qB2Xs",
        "colab_type": "text"
      },
      "cell_type": "markdown",
      "source": [
        "### Step 2：数据预处理"
      ]
    },
    {
      "metadata": {
        "id": "kIEmMQf-AVvI",
        "colab_type": "code",
        "colab": {}
      },
      "cell_type": "code",
      "source": [
        "# 数据预处理\n",
        "RESHAPED = 784\n",
        "X_train  = X_train.reshape(60000,RESHAPED)\n",
        "X_test = X_test.reshape(10000,RESHAPED)\n",
        "X_train = X_train.astype('float32')\n",
        "X_test = X_test.astype('float32')\n",
        "\n",
        "# print(\"X_train is: \",X_train)\n",
        "# print(\"X_test is: \",X_test)"
      ],
      "execution_count": 0,
      "outputs": []
    },
    {
      "metadata": {
        "id": "kvwsQC5YB6Ny",
        "colab_type": "code",
        "colab": {
          "base_uri": "https://localhost:8080/",
          "height": 51
        },
        "outputId": "9f0179f5-cfe0-4be3-9058-1d013f0b189e"
      },
      "cell_type": "code",
      "source": [
        "from keras.utils import np_utils\n",
        "NB_CLASSES = 10 # 这里10就代表我们想要的结果是对应的0-9这10个数字\n",
        "\n",
        "X_train /=255\n",
        "X_test /=255\n",
        "\n",
        "print(X_train.shape[0],'train samples')\n",
        "print(X_test.shape[0],'test samples')\n",
        "\n",
        "y_train = np_utils.to_categorical(y_train,NB_CLASSES)\n",
        "y_test = np_utils.to_categorical(y_test,NB_CLASSES)\n",
        "\n",
        "# print(\"y_train is: \",y_train)\n",
        "# print(\"y_test is: \",y_test)"
      ],
      "execution_count": 58,
      "outputs": [
        {
          "output_type": "stream",
          "text": [
            "60000 train samples\n",
            "10000 test samples\n"
          ],
          "name": "stdout"
        }
      ]
    },
    {
      "metadata": {
        "id": "LNcjv0CRDRKU",
        "colab_type": "text"
      },
      "cell_type": "markdown",
      "source": [
        "### step 3 开始定义我们可爱的神经网络了"
      ]
    },
    {
      "metadata": {
        "id": "KypSGMyWDQT7",
        "colab_type": "code",
        "colab": {
          "base_uri": "https://localhost:8080/",
          "height": 204
        },
        "outputId": "ce32fa57-e736-4c06-bd8c-b1f2e05e8f11"
      },
      "cell_type": "code",
      "source": [
        "from keras.models import Sequential \n",
        "from keras.layers.core import Dense, Activation\n",
        "\n",
        "model = Sequential()\n",
        "model.add(Dense(NB_CLASSES,input_shape=(RESHAPED,))) #前面我们定义了reshaped = 784, 代表28*28的图片，nb_classes=10代表0-9.这里的意思就是输入为784的矩阵，输出是10\n",
        "#model.add(Dense(32)) 这个就代表输出为32，没有输入\n",
        "model.add(Activation('softmax'))\n",
        "model.summary()\n"
      ],
      "execution_count": 59,
      "outputs": [
        {
          "output_type": "stream",
          "text": [
            "_________________________________________________________________\n",
            "Layer (type)                 Output Shape              Param #   \n",
            "=================================================================\n",
            "dense_3 (Dense)              (None, 10)                7850      \n",
            "_________________________________________________________________\n",
            "activation_3 (Activation)    (None, 10)                0         \n",
            "=================================================================\n",
            "Total params: 7,850\n",
            "Trainable params: 7,850\n",
            "Non-trainable params: 0\n",
            "_________________________________________________________________\n"
          ],
          "name": "stdout"
        }
      ]
    },
    {
      "metadata": {
        "id": "o26Uv86TFIAt",
        "colab_type": "code",
        "colab": {}
      },
      "cell_type": "code",
      "source": [
        "from keras.utils import plot_model\n",
        "plot_model(model, to_file='model.png') # model可视化"
      ],
      "execution_count": 0,
      "outputs": []
    },
    {
      "metadata": {
        "id": "dVkRNuhdFttO",
        "colab_type": "code",
        "colab": {
          "base_uri": "https://localhost:8080/",
          "height": 221
        },
        "outputId": "7f40d40a-8466-42d8-d16e-45590b837ab4"
      },
      "cell_type": "code",
      "source": [
        "!ls -lt\n",
        "!df -lh"
      ],
      "execution_count": 61,
      "outputs": [
        {
          "output_type": "stream",
          "text": [
            "total 30624\n",
            "-rw-r--r-- 1 root root     7203 Jan 29 15:39 model.png\n",
            "-rw-r--r-- 1 root root 31344016 Jan 29 12:38 text8.zip\n",
            "drwxr-xr-x 1 root root     4096 Jan  8 17:15 sample_data\n",
            "Filesystem      Size  Used Avail Use% Mounted on\n",
            "overlay          49G   19G   28G  41% /\n",
            "tmpfs           6.4G     0  6.4G   0% /dev\n",
            "tmpfs           6.4G     0  6.4G   0% /sys/fs/cgroup\n",
            "tmpfs           6.4G  4.0K  6.4G   1% /var/colab\n",
            "/dev/sda1        55G   20G   36G  36% /etc/hosts\n",
            "shm             6.0G     0  6.0G   0% /dev/shm\n",
            "tmpfs           6.4G     0  6.4G   0% /sys/firmware\n"
          ],
          "name": "stdout"
        }
      ]
    },
    {
      "metadata": {
        "id": "pIczEXniHteJ",
        "colab_type": "code",
        "colab": {
          "base_uri": "https://localhost:8080/",
          "height": 51
        },
        "outputId": "74aee8c3-fe68-48ed-a630-f3ca5c29bc06"
      },
      "cell_type": "code",
      "source": [
        "!cat /proc/cpuinfo | grep model\\ name"
      ],
      "execution_count": 62,
      "outputs": [
        {
          "output_type": "stream",
          "text": [
            "model name\t: Intel(R) Xeon(R) CPU @ 2.30GHz\n",
            "model name\t: Intel(R) Xeon(R) CPU @ 2.30GHz\n"
          ],
          "name": "stdout"
        }
      ]
    },
    {
      "metadata": {
        "id": "Ahmdk6TGHv5a",
        "colab_type": "code",
        "colab": {
          "base_uri": "https://localhost:8080/",
          "height": 34
        },
        "outputId": "4cb9a8c3-89d7-4ef2-cd88-37638ab391a4"
      },
      "cell_type": "code",
      "source": [
        "!cat /proc/meminfo | grep MemTotal"
      ],
      "execution_count": 63,
      "outputs": [
        {
          "output_type": "stream",
          "text": [
            "MemTotal:       13335276 kB\n"
          ],
          "name": "stdout"
        }
      ]
    },
    {
      "metadata": {
        "id": "fnQaMEoKJxsq",
        "colab_type": "text"
      },
      "cell_type": "markdown",
      "source": [
        "#### Step 4: 编译模型\n",
        "### 3. Model.compile\n",
        "\n",
        "参考资料：<https://keras-cn.readthedocs.io/en/latest/models/model/>\n",
        "\n",
        "在这里有几个参数\n",
        "\n",
        "##### 3.1 optimizer\n",
        "\n",
        "- 资料来源：<https://keras-cn.readthedocs.io/en/latest/other/optimizers/>\n",
        "- SGD （很常用）\n",
        "- RMSprop\n",
        "- Adagrad （见过）\n",
        "\n",
        "##### 3.2 loss\n",
        "\n",
        "- 资料来源：<https://keras-cn.readthedocs.io/en/latest/other/objectives/>\n",
        "- mse\n",
        "- mae\n",
        "- mape\n",
        "- msle\n",
        "- binary_crossentropy\n",
        "- categorical_crossentropy\n",
        "\n",
        "##### 3.3 metrics\n",
        "\n",
        "- 典型用法是metrics=['accuracy']"
      ]
    },
    {
      "metadata": {
        "id": "on4cvnufMK52",
        "colab_type": "code",
        "colab": {}
      },
      "cell_type": "code",
      "source": [
        "from keras.optimizers import SGD\n",
        "OPTIMIZER = SGD()\n",
        "\n",
        "model.compile(loss='mse', optimizer=OPTIMIZER, metrics=['accuracy']) #设计模型的编译方式"
      ],
      "execution_count": 0,
      "outputs": []
    },
    {
      "metadata": {
        "id": "wOWRy_SMMlAx",
        "colab_type": "text"
      },
      "cell_type": "markdown",
      "source": [
        "### Step 5: 开始训练模型\n",
        "\n",
        "model.fit 可以参考中文文档：https://keras-cn.readthedocs.io/en/latest/models/model/"
      ]
    },
    {
      "metadata": {
        "id": "dF4BpDSHMod6",
        "colab_type": "code",
        "colab": {
          "base_uri": "https://localhost:8080/",
          "height": 6834
        },
        "outputId": "60b10a27-8294-488c-c374-99c8bd2aac23"
      },
      "cell_type": "code",
      "source": [
        "BATCH_SIZE = 128 # 每次训练的样本数量 128个\n",
        "NB_EPOCH = 200 #训练次数200次\n",
        "VERBOSE = 1 #log的输出方式\n",
        "VALIDATION_SPLIT = 0.2 # 用于验证的比例是20%\n",
        "\n",
        "\n",
        "\n",
        "\n",
        "history = model.fit(X_train,y_train,\n",
        "                    batch_size=BATCH_SIZE,\n",
        "                    epochs=NB_EPOCH,\n",
        "                    verbose=VERBOSE,\n",
        "                    validation_split=VALIDATION_SPLIT)"
      ],
      "execution_count": 65,
      "outputs": [
        {
          "output_type": "stream",
          "text": [
            "Train on 48000 samples, validate on 12000 samples\n",
            "Epoch 1/200\n",
            "48000/48000 [==============================] - 1s 17us/step - loss: 0.0897 - acc: 0.1409 - val_loss: 0.0884 - val_acc: 0.1828\n",
            "Epoch 2/200\n",
            "48000/48000 [==============================] - 1s 15us/step - loss: 0.0872 - acc: 0.2173 - val_loss: 0.0859 - val_acc: 0.2649\n",
            "Epoch 3/200\n",
            "48000/48000 [==============================] - 1s 16us/step - loss: 0.0848 - acc: 0.2936 - val_loss: 0.0833 - val_acc: 0.3350\n",
            "Epoch 4/200\n",
            "48000/48000 [==============================] - 1s 15us/step - loss: 0.0822 - acc: 0.3597 - val_loss: 0.0807 - val_acc: 0.4028\n",
            "Epoch 5/200\n",
            "48000/48000 [==============================] - 1s 15us/step - loss: 0.0797 - acc: 0.4249 - val_loss: 0.0781 - val_acc: 0.4645\n",
            "Epoch 6/200\n",
            "48000/48000 [==============================] - 1s 15us/step - loss: 0.0771 - acc: 0.4818 - val_loss: 0.0755 - val_acc: 0.5222\n",
            "Epoch 7/200\n",
            "48000/48000 [==============================] - 1s 15us/step - loss: 0.0746 - acc: 0.5312 - val_loss: 0.0729 - val_acc: 0.5654\n",
            "Epoch 8/200\n",
            "48000/48000 [==============================] - 1s 15us/step - loss: 0.0720 - acc: 0.5704 - val_loss: 0.0702 - val_acc: 0.6012\n",
            "Epoch 9/200\n",
            "48000/48000 [==============================] - 1s 16us/step - loss: 0.0694 - acc: 0.5997 - val_loss: 0.0676 - val_acc: 0.6281\n",
            "Epoch 10/200\n",
            "48000/48000 [==============================] - 1s 16us/step - loss: 0.0669 - acc: 0.6235 - val_loss: 0.0650 - val_acc: 0.6482\n",
            "Epoch 11/200\n",
            "48000/48000 [==============================] - 1s 15us/step - loss: 0.0644 - acc: 0.6411 - val_loss: 0.0625 - val_acc: 0.6650\n",
            "Epoch 12/200\n",
            "48000/48000 [==============================] - 1s 15us/step - loss: 0.0621 - acc: 0.6542 - val_loss: 0.0601 - val_acc: 0.6795\n",
            "Epoch 13/200\n",
            "48000/48000 [==============================] - 1s 15us/step - loss: 0.0599 - acc: 0.6667 - val_loss: 0.0579 - val_acc: 0.6897\n",
            "Epoch 14/200\n",
            "48000/48000 [==============================] - 1s 15us/step - loss: 0.0579 - acc: 0.6785 - val_loss: 0.0559 - val_acc: 0.7021\n",
            "Epoch 15/200\n",
            "48000/48000 [==============================] - 1s 15us/step - loss: 0.0560 - acc: 0.6901 - val_loss: 0.0540 - val_acc: 0.7144\n",
            "Epoch 16/200\n",
            "48000/48000 [==============================] - 1s 15us/step - loss: 0.0543 - acc: 0.7014 - val_loss: 0.0523 - val_acc: 0.7247\n",
            "Epoch 17/200\n",
            "48000/48000 [==============================] - 1s 15us/step - loss: 0.0527 - acc: 0.7107 - val_loss: 0.0506 - val_acc: 0.7350\n",
            "Epoch 18/200\n",
            "48000/48000 [==============================] - 1s 15us/step - loss: 0.0512 - acc: 0.7202 - val_loss: 0.0492 - val_acc: 0.7442\n",
            "Epoch 19/200\n",
            "48000/48000 [==============================] - 1s 15us/step - loss: 0.0498 - acc: 0.7296 - val_loss: 0.0478 - val_acc: 0.7520\n",
            "Epoch 20/200\n",
            "48000/48000 [==============================] - 1s 15us/step - loss: 0.0485 - acc: 0.7364 - val_loss: 0.0465 - val_acc: 0.7589\n",
            "Epoch 21/200\n",
            "48000/48000 [==============================] - 1s 15us/step - loss: 0.0473 - acc: 0.7435 - val_loss: 0.0453 - val_acc: 0.7670\n",
            "Epoch 22/200\n",
            "48000/48000 [==============================] - 1s 15us/step - loss: 0.0462 - acc: 0.7499 - val_loss: 0.0442 - val_acc: 0.7733\n",
            "Epoch 23/200\n",
            "48000/48000 [==============================] - 1s 15us/step - loss: 0.0452 - acc: 0.7556 - val_loss: 0.0431 - val_acc: 0.7777\n",
            "Epoch 24/200\n",
            "48000/48000 [==============================] - 1s 15us/step - loss: 0.0442 - acc: 0.7617 - val_loss: 0.0421 - val_acc: 0.7832\n",
            "Epoch 25/200\n",
            "48000/48000 [==============================] - 1s 15us/step - loss: 0.0433 - acc: 0.7670 - val_loss: 0.0412 - val_acc: 0.7897\n",
            "Epoch 26/200\n",
            "48000/48000 [==============================] - 1s 15us/step - loss: 0.0424 - acc: 0.7724 - val_loss: 0.0403 - val_acc: 0.7938\n",
            "Epoch 27/200\n",
            "48000/48000 [==============================] - 1s 15us/step - loss: 0.0416 - acc: 0.7780 - val_loss: 0.0394 - val_acc: 0.7989\n",
            "Epoch 28/200\n",
            "48000/48000 [==============================] - 1s 15us/step - loss: 0.0408 - acc: 0.7832 - val_loss: 0.0386 - val_acc: 0.8033\n",
            "Epoch 29/200\n",
            "48000/48000 [==============================] - 1s 15us/step - loss: 0.0400 - acc: 0.7885 - val_loss: 0.0378 - val_acc: 0.8085\n",
            "Epoch 30/200\n",
            "48000/48000 [==============================] - 1s 15us/step - loss: 0.0393 - acc: 0.7942 - val_loss: 0.0371 - val_acc: 0.8149\n",
            "Epoch 31/200\n",
            "48000/48000 [==============================] - 1s 15us/step - loss: 0.0386 - acc: 0.7985 - val_loss: 0.0364 - val_acc: 0.8182\n",
            "Epoch 32/200\n",
            "48000/48000 [==============================] - 1s 15us/step - loss: 0.0380 - acc: 0.8028 - val_loss: 0.0358 - val_acc: 0.8227\n",
            "Epoch 33/200\n",
            "48000/48000 [==============================] - 1s 15us/step - loss: 0.0374 - acc: 0.8070 - val_loss: 0.0351 - val_acc: 0.8258\n",
            "Epoch 34/200\n",
            "48000/48000 [==============================] - 1s 15us/step - loss: 0.0368 - acc: 0.8103 - val_loss: 0.0346 - val_acc: 0.8283\n",
            "Epoch 35/200\n",
            "48000/48000 [==============================] - 1s 15us/step - loss: 0.0362 - acc: 0.8138 - val_loss: 0.0340 - val_acc: 0.8313\n",
            "Epoch 36/200\n",
            "48000/48000 [==============================] - 1s 15us/step - loss: 0.0357 - acc: 0.8164 - val_loss: 0.0335 - val_acc: 0.8347\n",
            "Epoch 37/200\n",
            "48000/48000 [==============================] - 1s 15us/step - loss: 0.0352 - acc: 0.8195 - val_loss: 0.0329 - val_acc: 0.8367\n",
            "Epoch 38/200\n",
            "48000/48000 [==============================] - 1s 15us/step - loss: 0.0347 - acc: 0.8219 - val_loss: 0.0325 - val_acc: 0.8392\n",
            "Epoch 39/200\n",
            "48000/48000 [==============================] - 1s 15us/step - loss: 0.0342 - acc: 0.8240 - val_loss: 0.0320 - val_acc: 0.8414\n",
            "Epoch 40/200\n",
            "48000/48000 [==============================] - 1s 15us/step - loss: 0.0338 - acc: 0.8263 - val_loss: 0.0316 - val_acc: 0.8432\n",
            "Epoch 41/200\n",
            "48000/48000 [==============================] - 1s 15us/step - loss: 0.0334 - acc: 0.8281 - val_loss: 0.0311 - val_acc: 0.8453\n",
            "Epoch 42/200\n",
            "48000/48000 [==============================] - 1s 15us/step - loss: 0.0330 - acc: 0.8295 - val_loss: 0.0307 - val_acc: 0.8469\n",
            "Epoch 43/200\n",
            "48000/48000 [==============================] - 1s 15us/step - loss: 0.0326 - acc: 0.8318 - val_loss: 0.0304 - val_acc: 0.8486\n",
            "Epoch 44/200\n",
            "48000/48000 [==============================] - 1s 15us/step - loss: 0.0322 - acc: 0.8333 - val_loss: 0.0300 - val_acc: 0.8497\n",
            "Epoch 45/200\n",
            "48000/48000 [==============================] - 1s 15us/step - loss: 0.0319 - acc: 0.8347 - val_loss: 0.0296 - val_acc: 0.8508\n",
            "Epoch 46/200\n",
            "48000/48000 [==============================] - 1s 15us/step - loss: 0.0315 - acc: 0.8365 - val_loss: 0.0293 - val_acc: 0.8518\n",
            "Epoch 47/200\n",
            "48000/48000 [==============================] - 1s 15us/step - loss: 0.0312 - acc: 0.8379 - val_loss: 0.0290 - val_acc: 0.8525\n",
            "Epoch 48/200\n",
            "48000/48000 [==============================] - 1s 15us/step - loss: 0.0309 - acc: 0.8391 - val_loss: 0.0287 - val_acc: 0.8534\n",
            "Epoch 49/200\n",
            "48000/48000 [==============================] - 1s 15us/step - loss: 0.0306 - acc: 0.8404 - val_loss: 0.0284 - val_acc: 0.8540\n",
            "Epoch 50/200\n",
            "48000/48000 [==============================] - 1s 15us/step - loss: 0.0303 - acc: 0.8417 - val_loss: 0.0281 - val_acc: 0.8552\n",
            "Epoch 51/200\n",
            "48000/48000 [==============================] - 1s 15us/step - loss: 0.0300 - acc: 0.8428 - val_loss: 0.0278 - val_acc: 0.8561\n",
            "Epoch 52/200\n",
            "48000/48000 [==============================] - 1s 15us/step - loss: 0.0298 - acc: 0.8437 - val_loss: 0.0276 - val_acc: 0.8572\n",
            "Epoch 53/200\n",
            "48000/48000 [==============================] - 1s 15us/step - loss: 0.0295 - acc: 0.8447 - val_loss: 0.0273 - val_acc: 0.8583\n",
            "Epoch 54/200\n",
            "48000/48000 [==============================] - 1s 15us/step - loss: 0.0292 - acc: 0.8459 - val_loss: 0.0271 - val_acc: 0.8592\n",
            "Epoch 55/200\n",
            "48000/48000 [==============================] - 1s 15us/step - loss: 0.0290 - acc: 0.8469 - val_loss: 0.0268 - val_acc: 0.8603\n",
            "Epoch 56/200\n",
            "48000/48000 [==============================] - 1s 15us/step - loss: 0.0288 - acc: 0.8479 - val_loss: 0.0266 - val_acc: 0.8608\n",
            "Epoch 57/200\n",
            "48000/48000 [==============================] - 1s 15us/step - loss: 0.0286 - acc: 0.8491 - val_loss: 0.0264 - val_acc: 0.8619\n",
            "Epoch 58/200\n",
            "48000/48000 [==============================] - 1s 15us/step - loss: 0.0283 - acc: 0.8500 - val_loss: 0.0262 - val_acc: 0.8627\n",
            "Epoch 59/200\n",
            "48000/48000 [==============================] - 1s 15us/step - loss: 0.0281 - acc: 0.8506 - val_loss: 0.0260 - val_acc: 0.8634\n",
            "Epoch 60/200\n",
            "48000/48000 [==============================] - 1s 15us/step - loss: 0.0279 - acc: 0.8513 - val_loss: 0.0258 - val_acc: 0.8642\n",
            "Epoch 61/200\n",
            "48000/48000 [==============================] - 1s 15us/step - loss: 0.0277 - acc: 0.8522 - val_loss: 0.0256 - val_acc: 0.8652\n",
            "Epoch 62/200\n",
            "48000/48000 [==============================] - 1s 15us/step - loss: 0.0275 - acc: 0.8529 - val_loss: 0.0254 - val_acc: 0.8662\n",
            "Epoch 63/200\n",
            "48000/48000 [==============================] - 1s 15us/step - loss: 0.0274 - acc: 0.8538 - val_loss: 0.0253 - val_acc: 0.8662\n",
            "Epoch 64/200\n",
            "48000/48000 [==============================] - 1s 15us/step - loss: 0.0272 - acc: 0.8545 - val_loss: 0.0251 - val_acc: 0.8673\n",
            "Epoch 65/200\n",
            "48000/48000 [==============================] - 1s 15us/step - loss: 0.0270 - acc: 0.8552 - val_loss: 0.0249 - val_acc: 0.8677\n",
            "Epoch 66/200\n",
            "48000/48000 [==============================] - 1s 15us/step - loss: 0.0268 - acc: 0.8558 - val_loss: 0.0248 - val_acc: 0.8683\n",
            "Epoch 67/200\n",
            "48000/48000 [==============================] - 1s 15us/step - loss: 0.0267 - acc: 0.8566 - val_loss: 0.0246 - val_acc: 0.8691\n",
            "Epoch 68/200\n",
            "48000/48000 [==============================] - 1s 15us/step - loss: 0.0265 - acc: 0.8570 - val_loss: 0.0244 - val_acc: 0.8694\n",
            "Epoch 69/200\n",
            "48000/48000 [==============================] - 1s 15us/step - loss: 0.0264 - acc: 0.8576 - val_loss: 0.0243 - val_acc: 0.8698\n",
            "Epoch 70/200\n",
            "48000/48000 [==============================] - 1s 15us/step - loss: 0.0262 - acc: 0.8581 - val_loss: 0.0242 - val_acc: 0.8705\n",
            "Epoch 71/200\n",
            "48000/48000 [==============================] - 1s 15us/step - loss: 0.0261 - acc: 0.8587 - val_loss: 0.0240 - val_acc: 0.8712\n",
            "Epoch 72/200\n",
            "48000/48000 [==============================] - 1s 15us/step - loss: 0.0259 - acc: 0.8594 - val_loss: 0.0239 - val_acc: 0.8715\n",
            "Epoch 73/200\n",
            "48000/48000 [==============================] - 1s 15us/step - loss: 0.0258 - acc: 0.8599 - val_loss: 0.0237 - val_acc: 0.8719\n",
            "Epoch 74/200\n",
            "48000/48000 [==============================] - 1s 15us/step - loss: 0.0257 - acc: 0.8601 - val_loss: 0.0236 - val_acc: 0.8722\n",
            "Epoch 75/200\n",
            "48000/48000 [==============================] - 1s 15us/step - loss: 0.0255 - acc: 0.8605 - val_loss: 0.0235 - val_acc: 0.8727\n",
            "Epoch 76/200\n",
            "48000/48000 [==============================] - 1s 15us/step - loss: 0.0254 - acc: 0.8609 - val_loss: 0.0234 - val_acc: 0.8732\n",
            "Epoch 77/200\n",
            "48000/48000 [==============================] - 1s 15us/step - loss: 0.0253 - acc: 0.8614 - val_loss: 0.0233 - val_acc: 0.8733\n",
            "Epoch 78/200\n",
            "48000/48000 [==============================] - 1s 15us/step - loss: 0.0252 - acc: 0.8621 - val_loss: 0.0231 - val_acc: 0.8736\n",
            "Epoch 79/200\n",
            "48000/48000 [==============================] - 1s 15us/step - loss: 0.0250 - acc: 0.8624 - val_loss: 0.0230 - val_acc: 0.8741\n",
            "Epoch 80/200\n",
            "48000/48000 [==============================] - 1s 15us/step - loss: 0.0249 - acc: 0.8629 - val_loss: 0.0229 - val_acc: 0.8743\n",
            "Epoch 81/200\n",
            "48000/48000 [==============================] - 1s 15us/step - loss: 0.0248 - acc: 0.8633 - val_loss: 0.0228 - val_acc: 0.8748\n",
            "Epoch 82/200\n",
            "48000/48000 [==============================] - 1s 15us/step - loss: 0.0247 - acc: 0.8639 - val_loss: 0.0227 - val_acc: 0.8753\n",
            "Epoch 83/200\n",
            "48000/48000 [==============================] - 1s 15us/step - loss: 0.0246 - acc: 0.8643 - val_loss: 0.0226 - val_acc: 0.8759\n",
            "Epoch 84/200\n",
            "48000/48000 [==============================] - 1s 15us/step - loss: 0.0245 - acc: 0.8647 - val_loss: 0.0225 - val_acc: 0.8762\n",
            "Epoch 85/200\n",
            "48000/48000 [==============================] - 1s 15us/step - loss: 0.0244 - acc: 0.8651 - val_loss: 0.0224 - val_acc: 0.8767\n",
            "Epoch 86/200\n",
            "48000/48000 [==============================] - 1s 15us/step - loss: 0.0243 - acc: 0.8656 - val_loss: 0.0223 - val_acc: 0.8772\n",
            "Epoch 87/200\n",
            "48000/48000 [==============================] - 1s 15us/step - loss: 0.0242 - acc: 0.8658 - val_loss: 0.0222 - val_acc: 0.8775\n",
            "Epoch 88/200\n",
            "48000/48000 [==============================] - 1s 15us/step - loss: 0.0241 - acc: 0.8662 - val_loss: 0.0221 - val_acc: 0.8778\n",
            "Epoch 89/200\n",
            "48000/48000 [==============================] - 1s 15us/step - loss: 0.0240 - acc: 0.8664 - val_loss: 0.0220 - val_acc: 0.8780\n",
            "Epoch 90/200\n",
            "48000/48000 [==============================] - 1s 15us/step - loss: 0.0239 - acc: 0.8665 - val_loss: 0.0219 - val_acc: 0.8782\n",
            "Epoch 91/200\n",
            "48000/48000 [==============================] - 1s 15us/step - loss: 0.0238 - acc: 0.8669 - val_loss: 0.0219 - val_acc: 0.8790\n",
            "Epoch 92/200\n",
            "48000/48000 [==============================] - 1s 15us/step - loss: 0.0237 - acc: 0.8676 - val_loss: 0.0218 - val_acc: 0.8794\n",
            "Epoch 93/200\n",
            "48000/48000 [==============================] - 1s 15us/step - loss: 0.0236 - acc: 0.8679 - val_loss: 0.0217 - val_acc: 0.8799\n",
            "Epoch 94/200\n",
            "48000/48000 [==============================] - 1s 15us/step - loss: 0.0235 - acc: 0.8683 - val_loss: 0.0216 - val_acc: 0.8804\n",
            "Epoch 95/200\n",
            "48000/48000 [==============================] - 1s 15us/step - loss: 0.0234 - acc: 0.8684 - val_loss: 0.0215 - val_acc: 0.8808\n",
            "Epoch 96/200\n",
            "48000/48000 [==============================] - 1s 15us/step - loss: 0.0234 - acc: 0.8688 - val_loss: 0.0214 - val_acc: 0.8812\n",
            "Epoch 97/200\n",
            "48000/48000 [==============================] - 1s 15us/step - loss: 0.0233 - acc: 0.8690 - val_loss: 0.0214 - val_acc: 0.8812\n",
            "Epoch 98/200\n",
            "48000/48000 [==============================] - 1s 15us/step - loss: 0.0232 - acc: 0.8692 - val_loss: 0.0213 - val_acc: 0.8818\n",
            "Epoch 99/200\n",
            "48000/48000 [==============================] - 1s 15us/step - loss: 0.0231 - acc: 0.8694 - val_loss: 0.0212 - val_acc: 0.8818\n",
            "Epoch 100/200\n",
            "48000/48000 [==============================] - 1s 15us/step - loss: 0.0230 - acc: 0.8698 - val_loss: 0.0211 - val_acc: 0.8822\n",
            "Epoch 101/200\n",
            "48000/48000 [==============================] - 1s 15us/step - loss: 0.0230 - acc: 0.8700 - val_loss: 0.0211 - val_acc: 0.8822\n",
            "Epoch 102/200\n",
            "48000/48000 [==============================] - 1s 15us/step - loss: 0.0229 - acc: 0.8706 - val_loss: 0.0210 - val_acc: 0.8825\n",
            "Epoch 103/200\n",
            "48000/48000 [==============================] - 1s 15us/step - loss: 0.0228 - acc: 0.8708 - val_loss: 0.0209 - val_acc: 0.8831\n",
            "Epoch 104/200\n",
            "48000/48000 [==============================] - 1s 15us/step - loss: 0.0228 - acc: 0.8711 - val_loss: 0.0209 - val_acc: 0.8833\n",
            "Epoch 105/200\n",
            "48000/48000 [==============================] - 1s 15us/step - loss: 0.0227 - acc: 0.8715 - val_loss: 0.0208 - val_acc: 0.8838\n",
            "Epoch 106/200\n",
            "48000/48000 [==============================] - 1s 15us/step - loss: 0.0226 - acc: 0.8717 - val_loss: 0.0207 - val_acc: 0.8841\n",
            "Epoch 107/200\n",
            "48000/48000 [==============================] - 1s 15us/step - loss: 0.0225 - acc: 0.8721 - val_loss: 0.0207 - val_acc: 0.8844\n",
            "Epoch 108/200\n",
            "48000/48000 [==============================] - 1s 15us/step - loss: 0.0225 - acc: 0.8725 - val_loss: 0.0206 - val_acc: 0.8848\n",
            "Epoch 109/200\n",
            "48000/48000 [==============================] - 1s 15us/step - loss: 0.0224 - acc: 0.8727 - val_loss: 0.0206 - val_acc: 0.8849\n",
            "Epoch 110/200\n",
            "48000/48000 [==============================] - 1s 15us/step - loss: 0.0223 - acc: 0.8730 - val_loss: 0.0205 - val_acc: 0.8851\n",
            "Epoch 111/200\n",
            "48000/48000 [==============================] - 1s 15us/step - loss: 0.0223 - acc: 0.8732 - val_loss: 0.0204 - val_acc: 0.8855\n",
            "Epoch 112/200\n",
            "48000/48000 [==============================] - 1s 15us/step - loss: 0.0222 - acc: 0.8734 - val_loss: 0.0204 - val_acc: 0.8858\n",
            "Epoch 113/200\n",
            "48000/48000 [==============================] - 1s 15us/step - loss: 0.0222 - acc: 0.8738 - val_loss: 0.0203 - val_acc: 0.8861\n",
            "Epoch 114/200\n",
            "48000/48000 [==============================] - 1s 15us/step - loss: 0.0221 - acc: 0.8743 - val_loss: 0.0203 - val_acc: 0.8865\n",
            "Epoch 115/200\n",
            "48000/48000 [==============================] - 1s 15us/step - loss: 0.0220 - acc: 0.8747 - val_loss: 0.0202 - val_acc: 0.8869\n",
            "Epoch 116/200\n",
            "48000/48000 [==============================] - 1s 15us/step - loss: 0.0220 - acc: 0.8749 - val_loss: 0.0201 - val_acc: 0.8872\n",
            "Epoch 117/200\n",
            "48000/48000 [==============================] - 1s 15us/step - loss: 0.0219 - acc: 0.8753 - val_loss: 0.0201 - val_acc: 0.8875\n",
            "Epoch 118/200\n",
            "48000/48000 [==============================] - 1s 15us/step - loss: 0.0219 - acc: 0.8755 - val_loss: 0.0200 - val_acc: 0.8878\n",
            "Epoch 119/200\n",
            "48000/48000 [==============================] - 1s 15us/step - loss: 0.0218 - acc: 0.8757 - val_loss: 0.0200 - val_acc: 0.8880\n",
            "Epoch 120/200\n",
            "48000/48000 [==============================] - 1s 15us/step - loss: 0.0217 - acc: 0.8759 - val_loss: 0.0199 - val_acc: 0.8883\n",
            "Epoch 121/200\n",
            "48000/48000 [==============================] - 1s 15us/step - loss: 0.0217 - acc: 0.8760 - val_loss: 0.0199 - val_acc: 0.8886\n",
            "Epoch 122/200\n",
            "48000/48000 [==============================] - 1s 15us/step - loss: 0.0216 - acc: 0.8763 - val_loss: 0.0198 - val_acc: 0.8887\n",
            "Epoch 123/200\n",
            "48000/48000 [==============================] - 1s 15us/step - loss: 0.0216 - acc: 0.8766 - val_loss: 0.0198 - val_acc: 0.8889\n",
            "Epoch 124/200\n",
            "48000/48000 [==============================] - 1s 15us/step - loss: 0.0215 - acc: 0.8769 - val_loss: 0.0197 - val_acc: 0.8890\n",
            "Epoch 125/200\n",
            "48000/48000 [==============================] - 1s 15us/step - loss: 0.0215 - acc: 0.8770 - val_loss: 0.0197 - val_acc: 0.8892\n",
            "Epoch 126/200\n",
            "48000/48000 [==============================] - 1s 15us/step - loss: 0.0214 - acc: 0.8771 - val_loss: 0.0196 - val_acc: 0.8895\n",
            "Epoch 127/200\n",
            "48000/48000 [==============================] - 1s 15us/step - loss: 0.0214 - acc: 0.8773 - val_loss: 0.0196 - val_acc: 0.8896\n",
            "Epoch 128/200\n",
            "48000/48000 [==============================] - 1s 15us/step - loss: 0.0213 - acc: 0.8774 - val_loss: 0.0195 - val_acc: 0.8898\n",
            "Epoch 129/200\n",
            "48000/48000 [==============================] - 1s 15us/step - loss: 0.0213 - acc: 0.8778 - val_loss: 0.0195 - val_acc: 0.8898\n",
            "Epoch 130/200\n",
            "48000/48000 [==============================] - 1s 15us/step - loss: 0.0212 - acc: 0.8779 - val_loss: 0.0195 - val_acc: 0.8901\n",
            "Epoch 131/200\n",
            "48000/48000 [==============================] - 1s 15us/step - loss: 0.0212 - acc: 0.8782 - val_loss: 0.0194 - val_acc: 0.8901\n",
            "Epoch 132/200\n",
            "48000/48000 [==============================] - 1s 17us/step - loss: 0.0211 - acc: 0.8784 - val_loss: 0.0194 - val_acc: 0.8905\n",
            "Epoch 133/200\n",
            "48000/48000 [==============================] - 1s 17us/step - loss: 0.0211 - acc: 0.8785 - val_loss: 0.0193 - val_acc: 0.8908\n",
            "Epoch 134/200\n",
            "48000/48000 [==============================] - 1s 17us/step - loss: 0.0210 - acc: 0.8788 - val_loss: 0.0193 - val_acc: 0.8911\n",
            "Epoch 135/200\n",
            "48000/48000 [==============================] - 1s 17us/step - loss: 0.0210 - acc: 0.8789 - val_loss: 0.0192 - val_acc: 0.8911\n",
            "Epoch 136/200\n",
            "48000/48000 [==============================] - 1s 17us/step - loss: 0.0209 - acc: 0.8793 - val_loss: 0.0192 - val_acc: 0.8913\n",
            "Epoch 137/200\n",
            "48000/48000 [==============================] - 1s 16us/step - loss: 0.0209 - acc: 0.8795 - val_loss: 0.0192 - val_acc: 0.8916\n",
            "Epoch 138/200\n",
            "48000/48000 [==============================] - 1s 17us/step - loss: 0.0209 - acc: 0.8795 - val_loss: 0.0191 - val_acc: 0.8918\n",
            "Epoch 139/200\n",
            "48000/48000 [==============================] - 1s 16us/step - loss: 0.0208 - acc: 0.8798 - val_loss: 0.0191 - val_acc: 0.8920\n",
            "Epoch 140/200\n",
            "48000/48000 [==============================] - 1s 17us/step - loss: 0.0208 - acc: 0.8800 - val_loss: 0.0190 - val_acc: 0.8922\n",
            "Epoch 141/200\n",
            "48000/48000 [==============================] - 1s 16us/step - loss: 0.0207 - acc: 0.8801 - val_loss: 0.0190 - val_acc: 0.8923\n",
            "Epoch 142/200\n",
            "48000/48000 [==============================] - 1s 17us/step - loss: 0.0207 - acc: 0.8804 - val_loss: 0.0190 - val_acc: 0.8926\n",
            "Epoch 143/200\n",
            "48000/48000 [==============================] - 1s 17us/step - loss: 0.0206 - acc: 0.8805 - val_loss: 0.0189 - val_acc: 0.8927\n",
            "Epoch 144/200\n",
            "48000/48000 [==============================] - 1s 16us/step - loss: 0.0206 - acc: 0.8807 - val_loss: 0.0189 - val_acc: 0.8927\n",
            "Epoch 145/200\n",
            "48000/48000 [==============================] - 1s 15us/step - loss: 0.0206 - acc: 0.8807 - val_loss: 0.0188 - val_acc: 0.8928\n",
            "Epoch 146/200\n",
            "48000/48000 [==============================] - 1s 15us/step - loss: 0.0205 - acc: 0.8810 - val_loss: 0.0188 - val_acc: 0.8930\n",
            "Epoch 147/200\n",
            "48000/48000 [==============================] - 1s 15us/step - loss: 0.0205 - acc: 0.8811 - val_loss: 0.0188 - val_acc: 0.8929\n",
            "Epoch 148/200\n",
            "48000/48000 [==============================] - 1s 15us/step - loss: 0.0204 - acc: 0.8813 - val_loss: 0.0187 - val_acc: 0.8930\n",
            "Epoch 149/200\n",
            "48000/48000 [==============================] - 1s 15us/step - loss: 0.0204 - acc: 0.8815 - val_loss: 0.0187 - val_acc: 0.8932\n",
            "Epoch 150/200\n",
            "48000/48000 [==============================] - 1s 15us/step - loss: 0.0204 - acc: 0.8816 - val_loss: 0.0187 - val_acc: 0.8933\n",
            "Epoch 151/200\n",
            "48000/48000 [==============================] - 1s 15us/step - loss: 0.0203 - acc: 0.8818 - val_loss: 0.0186 - val_acc: 0.8932\n",
            "Epoch 152/200\n",
            "48000/48000 [==============================] - 1s 15us/step - loss: 0.0203 - acc: 0.8820 - val_loss: 0.0186 - val_acc: 0.8933\n",
            "Epoch 153/200\n",
            "48000/48000 [==============================] - 1s 15us/step - loss: 0.0203 - acc: 0.8820 - val_loss: 0.0186 - val_acc: 0.8935\n",
            "Epoch 154/200\n",
            "48000/48000 [==============================] - 1s 15us/step - loss: 0.0202 - acc: 0.8822 - val_loss: 0.0185 - val_acc: 0.8936\n",
            "Epoch 155/200\n",
            "48000/48000 [==============================] - 1s 15us/step - loss: 0.0202 - acc: 0.8825 - val_loss: 0.0185 - val_acc: 0.8936\n",
            "Epoch 156/200\n",
            "48000/48000 [==============================] - 1s 15us/step - loss: 0.0201 - acc: 0.8825 - val_loss: 0.0185 - val_acc: 0.8937\n",
            "Epoch 157/200\n",
            "48000/48000 [==============================] - 1s 15us/step - loss: 0.0201 - acc: 0.8827 - val_loss: 0.0184 - val_acc: 0.8943\n",
            "Epoch 158/200\n",
            "48000/48000 [==============================] - 1s 15us/step - loss: 0.0201 - acc: 0.8830 - val_loss: 0.0184 - val_acc: 0.8943\n",
            "Epoch 159/200\n",
            "48000/48000 [==============================] - 1s 15us/step - loss: 0.0200 - acc: 0.8832 - val_loss: 0.0184 - val_acc: 0.8942\n",
            "Epoch 160/200\n",
            "48000/48000 [==============================] - 1s 15us/step - loss: 0.0200 - acc: 0.8834 - val_loss: 0.0183 - val_acc: 0.8945\n",
            "Epoch 161/200\n",
            "48000/48000 [==============================] - 1s 15us/step - loss: 0.0200 - acc: 0.8835 - val_loss: 0.0183 - val_acc: 0.8949\n",
            "Epoch 162/200\n",
            "48000/48000 [==============================] - 1s 15us/step - loss: 0.0199 - acc: 0.8838 - val_loss: 0.0183 - val_acc: 0.8951\n",
            "Epoch 163/200\n",
            "48000/48000 [==============================] - 1s 15us/step - loss: 0.0199 - acc: 0.8839 - val_loss: 0.0182 - val_acc: 0.8952\n",
            "Epoch 164/200\n",
            "48000/48000 [==============================] - 1s 15us/step - loss: 0.0199 - acc: 0.8840 - val_loss: 0.0182 - val_acc: 0.8952\n",
            "Epoch 165/200\n",
            "48000/48000 [==============================] - 1s 16us/step - loss: 0.0198 - acc: 0.8841 - val_loss: 0.0182 - val_acc: 0.8954\n",
            "Epoch 166/200\n",
            "48000/48000 [==============================] - 1s 15us/step - loss: 0.0198 - acc: 0.8841 - val_loss: 0.0182 - val_acc: 0.8956\n",
            "Epoch 167/200\n",
            "48000/48000 [==============================] - 1s 15us/step - loss: 0.0198 - acc: 0.8844 - val_loss: 0.0181 - val_acc: 0.8960\n",
            "Epoch 168/200\n",
            "48000/48000 [==============================] - 1s 15us/step - loss: 0.0197 - acc: 0.8847 - val_loss: 0.0181 - val_acc: 0.8960\n",
            "Epoch 169/200\n",
            "48000/48000 [==============================] - 1s 15us/step - loss: 0.0197 - acc: 0.8846 - val_loss: 0.0181 - val_acc: 0.8963\n",
            "Epoch 170/200\n",
            "48000/48000 [==============================] - 1s 15us/step - loss: 0.0197 - acc: 0.8849 - val_loss: 0.0180 - val_acc: 0.8964\n",
            "Epoch 171/200\n",
            "48000/48000 [==============================] - 1s 15us/step - loss: 0.0196 - acc: 0.8849 - val_loss: 0.0180 - val_acc: 0.8964\n",
            "Epoch 172/200\n",
            "48000/48000 [==============================] - 1s 15us/step - loss: 0.0196 - acc: 0.8850 - val_loss: 0.0180 - val_acc: 0.8967\n",
            "Epoch 173/200\n",
            "48000/48000 [==============================] - 1s 15us/step - loss: 0.0196 - acc: 0.8851 - val_loss: 0.0180 - val_acc: 0.8968\n",
            "Epoch 174/200\n",
            "48000/48000 [==============================] - 1s 15us/step - loss: 0.0196 - acc: 0.8854 - val_loss: 0.0179 - val_acc: 0.8971\n",
            "Epoch 175/200\n",
            "48000/48000 [==============================] - 1s 15us/step - loss: 0.0195 - acc: 0.8857 - val_loss: 0.0179 - val_acc: 0.8972\n",
            "Epoch 176/200\n",
            "48000/48000 [==============================] - 1s 15us/step - loss: 0.0195 - acc: 0.8858 - val_loss: 0.0179 - val_acc: 0.8972\n",
            "Epoch 177/200\n",
            "48000/48000 [==============================] - 1s 15us/step - loss: 0.0195 - acc: 0.8858 - val_loss: 0.0179 - val_acc: 0.8972\n",
            "Epoch 178/200\n",
            "48000/48000 [==============================] - 1s 15us/step - loss: 0.0194 - acc: 0.8859 - val_loss: 0.0178 - val_acc: 0.8975\n",
            "Epoch 179/200\n",
            "48000/48000 [==============================] - 1s 15us/step - loss: 0.0194 - acc: 0.8860 - val_loss: 0.0178 - val_acc: 0.8975\n",
            "Epoch 180/200\n",
            "48000/48000 [==============================] - 1s 15us/step - loss: 0.0194 - acc: 0.8861 - val_loss: 0.0178 - val_acc: 0.8977\n",
            "Epoch 181/200\n",
            "48000/48000 [==============================] - 1s 15us/step - loss: 0.0194 - acc: 0.8863 - val_loss: 0.0178 - val_acc: 0.8977\n",
            "Epoch 182/200\n",
            "48000/48000 [==============================] - 1s 15us/step - loss: 0.0193 - acc: 0.8864 - val_loss: 0.0177 - val_acc: 0.8978\n",
            "Epoch 183/200\n",
            "48000/48000 [==============================] - 1s 15us/step - loss: 0.0193 - acc: 0.8866 - val_loss: 0.0177 - val_acc: 0.8978\n",
            "Epoch 184/200\n",
            "48000/48000 [==============================] - 1s 15us/step - loss: 0.0193 - acc: 0.8867 - val_loss: 0.0177 - val_acc: 0.8980\n",
            "Epoch 185/200\n",
            "48000/48000 [==============================] - 1s 15us/step - loss: 0.0192 - acc: 0.8866 - val_loss: 0.0177 - val_acc: 0.8981\n",
            "Epoch 186/200\n",
            "48000/48000 [==============================] - 1s 15us/step - loss: 0.0192 - acc: 0.8868 - val_loss: 0.0176 - val_acc: 0.8982\n",
            "Epoch 187/200\n",
            "48000/48000 [==============================] - 1s 15us/step - loss: 0.0192 - acc: 0.8869 - val_loss: 0.0176 - val_acc: 0.8980\n",
            "Epoch 188/200\n",
            "48000/48000 [==============================] - 1s 15us/step - loss: 0.0192 - acc: 0.8870 - val_loss: 0.0176 - val_acc: 0.8982\n",
            "Epoch 189/200\n",
            "48000/48000 [==============================] - 1s 15us/step - loss: 0.0191 - acc: 0.8871 - val_loss: 0.0176 - val_acc: 0.8986\n",
            "Epoch 190/200\n",
            "48000/48000 [==============================] - 1s 15us/step - loss: 0.0191 - acc: 0.8872 - val_loss: 0.0175 - val_acc: 0.8987\n",
            "Epoch 191/200\n",
            "48000/48000 [==============================] - 1s 15us/step - loss: 0.0191 - acc: 0.8874 - val_loss: 0.0175 - val_acc: 0.8990\n",
            "Epoch 192/200\n",
            "48000/48000 [==============================] - 1s 15us/step - loss: 0.0191 - acc: 0.8876 - val_loss: 0.0175 - val_acc: 0.8991\n",
            "Epoch 193/200\n",
            "48000/48000 [==============================] - 1s 15us/step - loss: 0.0190 - acc: 0.8877 - val_loss: 0.0175 - val_acc: 0.8995\n",
            "Epoch 194/200\n",
            "48000/48000 [==============================] - 1s 15us/step - loss: 0.0190 - acc: 0.8878 - val_loss: 0.0174 - val_acc: 0.8995\n",
            "Epoch 195/200\n",
            "48000/48000 [==============================] - 1s 15us/step - loss: 0.0190 - acc: 0.8879 - val_loss: 0.0174 - val_acc: 0.8996\n",
            "Epoch 196/200\n",
            "48000/48000 [==============================] - 1s 15us/step - loss: 0.0190 - acc: 0.8880 - val_loss: 0.0174 - val_acc: 0.8996\n",
            "Epoch 197/200\n",
            "48000/48000 [==============================] - 1s 15us/step - loss: 0.0189 - acc: 0.8882 - val_loss: 0.0174 - val_acc: 0.8997\n",
            "Epoch 198/200\n",
            "48000/48000 [==============================] - 1s 15us/step - loss: 0.0189 - acc: 0.8883 - val_loss: 0.0174 - val_acc: 0.8997\n",
            "Epoch 199/200\n",
            "48000/48000 [==============================] - 1s 15us/step - loss: 0.0189 - acc: 0.8884 - val_loss: 0.0173 - val_acc: 0.8997\n",
            "Epoch 200/200\n",
            "48000/48000 [==============================] - 1s 15us/step - loss: 0.0189 - acc: 0.8885 - val_loss: 0.0173 - val_acc: 0.8997\n"
          ],
          "name": "stdout"
        }
      ]
    },
    {
      "metadata": {
        "id": "XVCd6iiAQFJb",
        "colab_type": "text"
      },
      "cell_type": "markdown",
      "source": [
        "### Step 6：输出成果\n"
      ]
    },
    {
      "metadata": {
        "id": "ySfxZmkPQIWq",
        "colab_type": "code",
        "colab": {
          "base_uri": "https://localhost:8080/",
          "height": 68
        },
        "outputId": "0e520e5b-dbc5-4231-80cb-51549ceae383"
      },
      "cell_type": "code",
      "source": [
        "score = model.evaluate(X_test,y_test,verbose=VERBOSE)\n",
        "print (\"Test Score: \",score[0])\n",
        "print (\"Test Accuracy: \", score[1])"
      ],
      "execution_count": 66,
      "outputs": [
        {
          "output_type": "stream",
          "text": [
            "10000/10000 [==============================] - 0s 18us/step\n",
            "Test Score:  0.017504670969583094\n",
            "Test Accuracy:  0.8972\n"
          ],
          "name": "stdout"
        }
      ]
    }
  ]
}