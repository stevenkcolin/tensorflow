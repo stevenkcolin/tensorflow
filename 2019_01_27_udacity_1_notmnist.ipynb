{
  "nbformat": 4,
  "nbformat_minor": 0,
  "metadata": {
    "colab": {
      "name": "2019-01-27-udacity-1_notmnist.ipynb",
      "version": "0.3.2",
      "provenance": [],
      "collapsed_sections": [],
      "include_colab_link": true
    },
    "kernelspec": {
      "name": "python2",
      "display_name": "Python 2"
    },
    "accelerator": "GPU"
  },
  "cells": [
    {
      "cell_type": "markdown",
      "metadata": {
        "id": "view-in-github",
        "colab_type": "text"
      },
      "source": [
        "<a href=\"https://colab.research.google.com/github/stevenkcolin/tensorflow/blob/master/2019_01_27_udacity_1_notmnist.ipynb\" target=\"_parent\"><img src=\"https://colab.research.google.com/assets/colab-badge.svg\" alt=\"Open In Colab\"/></a>"
      ]
    },
    {
      "metadata": {
        "id": "5hIbr52I7Z7U",
        "colab_type": "text"
      },
      "cell_type": "markdown",
      "source": [
        "Deep Learning\n",
        "=============\n",
        "\n",
        "Assignment 1\n",
        "------------\n",
        "\n",
        "The objective of this assignment is to learn about simple data curation practices, and familiarize you with some of the data we'll be reusing later.\n",
        "\n",
        "This notebook uses the [notMNIST](http://yaroslavvb.blogspot.com/2011/09/notmnist-dataset.html) dataset to be used with python experiments. This dataset is designed to look like the classic [MNIST](http://yann.lecun.com/exdb/mnist/) dataset, while looking a little more like real data: it's a harder task, and the data is a lot less 'clean' than MNIST."
      ]
    },
    {
      "metadata": {
        "id": "apJbCsBHl-2A",
        "colab_type": "code",
        "cellView": "both",
        "colab": {}
      },
      "cell_type": "code",
      "source": [
        "# These are all the modules we'll be using later. Make sure you can import them\n",
        "# before proceeding further.\n",
        "from __future__ import print_function\n",
        "import imageio\n",
        "import matplotlib.pyplot as plt\n",
        "import numpy as np\n",
        "import os\n",
        "import sys\n",
        "import tarfile\n",
        "from IPython.display import display, Image\n",
        "from sklearn.linear_model import LogisticRegression\n",
        "from six.moves.urllib.request import urlretrieve\n",
        "from six.moves import cPickle as pickle\n",
        "\n",
        "# Config the matplotlib backend as plotting inline in IPython\n",
        "%matplotlib inline"
      ],
      "execution_count": 0,
      "outputs": []
    },
    {
      "metadata": {
        "id": "jNWGtZaXn-5j",
        "colab_type": "text"
      },
      "cell_type": "markdown",
      "source": [
        "First, we'll download the dataset to our local machine. The data consists of characters rendered in a variety of fonts on a 28x28 image. The labels are limited to 'A' through 'J' (10 classes). The training set has about 500k and the testset 19000 labeled examples. Given these sizes, it should be possible to train models quickly on any machine."
      ]
    },
    {
      "metadata": {
        "id": "EYRJ4ICW6-da",
        "colab_type": "code",
        "cellView": "both",
        "outputId": "91c97c49-8652-4e82-b77a-0ec3fe31830d",
        "colab": {
          "base_uri": "https://localhost:8080/",
          "height": 153
        }
      },
      "cell_type": "code",
      "source": [
        "url = 'https://commondatastorage.googleapis.com/books1000/'\n",
        "last_percent_reported = None\n",
        "data_root = '.' # Change me to store data elsewhere\n",
        "\n",
        "def download_progress_hook(count, blockSize, totalSize):\n",
        "  \"\"\"A hook to report the progress of a download. This is mostly intended for users with\n",
        "  slow internet connections. Reports every 5% change in download progress.\n",
        "  \"\"\"\n",
        "  global last_percent_reported\n",
        "  percent = int(count * blockSize * 100 / totalSize)\n",
        "\n",
        "  if last_percent_reported != percent:\n",
        "    if percent % 5 == 0:\n",
        "      sys.stdout.write(\"%s%%\" % percent)\n",
        "      sys.stdout.flush()\n",
        "    else:\n",
        "      sys.stdout.write(\".\")\n",
        "      sys.stdout.flush()\n",
        "      \n",
        "    last_percent_reported = percent\n",
        "        \n",
        "def maybe_download(filename, expected_bytes, force=False):\n",
        "  \"\"\"Download a file if not present, and make sure it's the right size.\"\"\"\n",
        "  dest_filename = os.path.join(data_root, filename)\n",
        "  if force or not os.path.exists(dest_filename):\n",
        "    print('Attempting to download:', filename) \n",
        "    filename, _ = urlretrieve(url + filename, dest_filename, reporthook=download_progress_hook)\n",
        "    print('\\nDownload Complete!')\n",
        "  statinfo = os.stat(dest_filename)\n",
        "  if statinfo.st_size == expected_bytes:\n",
        "    print('Found and verified', dest_filename)\n",
        "  else:\n",
        "    raise Exception(\n",
        "      'Failed to verify ' + dest_filename + '. Can you get to it with a browser?')\n",
        "  return dest_filename\n",
        "\n",
        "train_filename = maybe_download('notMNIST_large.tar.gz', 247336696)\n",
        "test_filename = maybe_download('notMNIST_small.tar.gz', 8458043)"
      ],
      "execution_count": 3,
      "outputs": [
        {
          "output_type": "stream",
          "text": [
            "Attempting to download: notMNIST_large.tar.gz\n",
            "0%....5%....10%....15%....20%....25%....30%....35%....40%....45%....50%....55%....60%....65%....70%....75%....80%....85%....90%....95%....100%\n",
            "Download Complete!\n",
            "Found and verified ./notMNIST_large.tar.gz\n",
            "Attempting to download: notMNIST_small.tar.gz\n",
            "0%....5%....10%....15%....20%....25%....30%....35%....40%....45%....50%....55%....60%....65%....70%....75%....80%....85%....90%....95%....100%\n",
            "Download Complete!\n",
            "Found and verified ./notMNIST_small.tar.gz\n"
          ],
          "name": "stdout"
        }
      ]
    },
    {
      "metadata": {
        "id": "cC3p0oEyF8QT",
        "colab_type": "text"
      },
      "cell_type": "markdown",
      "source": [
        "Extract the dataset from the compressed .tar.gz file.\n",
        "This should give you a set of directories, labeled A through J."
      ]
    },
    {
      "metadata": {
        "id": "H8CBE-WZ8nmj",
        "colab_type": "code",
        "cellView": "both",
        "outputId": "f2fff066-ed7a-4ede-bb38-35799436a09b",
        "colab": {
          "base_uri": "https://localhost:8080/",
          "height": 105
        }
      },
      "cell_type": "code",
      "source": [
        "num_classes = 10\n",
        "np.random.seed(133)\n",
        "\n",
        "def maybe_extract(filename, force=False):\n",
        "  root = os.path.splitext(os.path.splitext(filename)[0])[0]  # remove .tar.gz\n",
        "  if os.path.isdir(root) and not force:\n",
        "    # You may override by setting force=True.\n",
        "    print('%s already present - Skipping extraction of %s.' % (root, filename))\n",
        "  else:\n",
        "    print('Extracting data for %s. This may take a while. Please wait.' % root)\n",
        "    tar = tarfile.open(filename)\n",
        "    sys.stdout.flush()\n",
        "    tar.extractall(data_root)\n",
        "    tar.close()\n",
        "  data_folders = [\n",
        "    os.path.join(root, d) for d in sorted(os.listdir(root))\n",
        "    if os.path.isdir(os.path.join(root, d))]\n",
        "  if len(data_folders) != num_classes:\n",
        "    raise Exception(\n",
        "      'Expected %d folders, one per class. Found %d instead.' % (\n",
        "        num_classes, len(data_folders)))\n",
        "  print(data_folders)\n",
        "  return data_folders\n",
        "  \n",
        "train_folders = maybe_extract(train_filename)\n",
        "test_folders = maybe_extract(test_filename)"
      ],
      "execution_count": 5,
      "outputs": [
        {
          "output_type": "stream",
          "text": [
            "./notMNIST_large already present - Skipping extraction of ./notMNIST_large.tar.gz.\n",
            "['./notMNIST_large/A', './notMNIST_large/B', './notMNIST_large/C', './notMNIST_large/D', './notMNIST_large/E', './notMNIST_large/F', './notMNIST_large/G', './notMNIST_large/H', './notMNIST_large/I', './notMNIST_large/J']\n",
            "./notMNIST_small already present - Skipping extraction of ./notMNIST_small.tar.gz.\n",
            "['./notMNIST_small/A', './notMNIST_small/B', './notMNIST_small/C', './notMNIST_small/D', './notMNIST_small/E', './notMNIST_small/F', './notMNIST_small/G', './notMNIST_small/H', './notMNIST_small/I', './notMNIST_small/J']\n"
          ],
          "name": "stdout"
        }
      ]
    },
    {
      "metadata": {
        "id": "1fc3P9IdpYVc",
        "colab_type": "code",
        "colab": {
          "base_uri": "https://localhost:8080/",
          "height": 71
        },
        "outputId": "fa5e0b36-6323-4bab-f1a0-b289cbf3c44b"
      },
      "cell_type": "code",
      "source": [
        "print(train_folders)\n",
        "print(test_folders)"
      ],
      "execution_count": 8,
      "outputs": [
        {
          "output_type": "stream",
          "text": [
            "['./notMNIST_large/A', './notMNIST_large/B', './notMNIST_large/C', './notMNIST_large/D', './notMNIST_large/E', './notMNIST_large/F', './notMNIST_large/G', './notMNIST_large/H', './notMNIST_large/I', './notMNIST_large/J']\n",
            "['./notMNIST_small/A', './notMNIST_small/B', './notMNIST_small/C', './notMNIST_small/D', './notMNIST_small/E', './notMNIST_small/F', './notMNIST_small/G', './notMNIST_small/H', './notMNIST_small/I', './notMNIST_small/J']\n"
          ],
          "name": "stdout"
        }
      ]
    },
    {
      "metadata": {
        "id": "SfA5cqRoqyS9",
        "colab_type": "code",
        "colab": {
          "base_uri": "https://localhost:8080/",
          "height": 134
        },
        "outputId": "8995b4b6-bb83-4426-8143-fe11426f2ef9"
      },
      "cell_type": "code",
      "source": [
        ""
      ],
      "execution_count": 9,
      "outputs": [
        {
          "output_type": "error",
          "ename": "SyntaxError",
          "evalue": "ignored",
          "traceback": [
            "\u001b[0;36m  File \u001b[0;32m\"<ipython-input-9-4a9134968266>\"\u001b[0;36m, line \u001b[0;32m1\u001b[0m\n\u001b[0;31m    print(./notMNIST_large/A)\u001b[0m\n\u001b[0m          ^\u001b[0m\n\u001b[0;31mSyntaxError\u001b[0m\u001b[0;31m:\u001b[0m invalid syntax\n"
          ]
        }
      ]
    },
    {
      "metadata": {
        "id": "4riXK3IoHgx6",
        "colab_type": "text"
      },
      "cell_type": "markdown",
      "source": [
        "---\n",
        "Problem 1\n",
        "---------\n",
        "\n",
        "Let's take a peek at some of the data to make sure it looks sensible. Each exemplar should be an image of a character A through J rendered in a different font. Display a sample of the images that we just downloaded. Hint: you can use the package IPython.display.\n",
        "\n",
        "---"
      ]
    },
    {
      "metadata": {
        "id": "PBdkjESPK8tw",
        "colab_type": "text"
      },
      "cell_type": "markdown",
      "source": [
        "Now let's load the data in a more manageable format. Since, depending on your computer setup you might not be able to fit it all in memory, we'll load each class into a separate dataset, store them on disk and curate them independently. Later we'll merge them into a single dataset of manageable size.\n",
        "\n",
        "We'll convert the entire dataset into a 3D array (image index, x, y) of floating point values, normalized to have approximately zero mean and standard deviation ~0.5 to make training easier down the road. \n",
        "\n",
        "A few images might not be readable, we'll just skip them."
      ]
    },
    {
      "metadata": {
        "id": "h7q0XhG3MJdf",
        "colab_type": "code",
        "cellView": "both",
        "outputId": "d88d56a5-de48-420a-9a3f-403e67d9837d",
        "colab": {
          "base_uri": "https://localhost:8080/",
          "height": 1836
        }
      },
      "cell_type": "code",
      "source": [
        "image_size = 28  # Pixel width and height.\n",
        "pixel_depth = 255.0  # Number of levels per pixel.\n",
        "\n",
        "def load_letter(folder, min_num_images):\n",
        "  \"\"\"Load the data for a single letter label.\"\"\"\n",
        "  image_files = os.listdir(folder)\n",
        "  dataset = np.ndarray(shape=(len(image_files), image_size, image_size),\n",
        "                         dtype=np.float32)\n",
        "  print(folder)\n",
        "  num_images = 0\n",
        "  for image in image_files:\n",
        "    image_file = os.path.join(folder, image)\n",
        "    try:\n",
        "      image_data = (imageio.imread(image_file).astype(float) - \n",
        "                    pixel_depth / 2) / pixel_depth\n",
        "      if image_data.shape != (image_size, image_size):\n",
        "        raise Exception('Unexpected image shape: %s' % str(image_data.shape))\n",
        "      dataset[num_images, :, :] = image_data\n",
        "      num_images = num_images + 1\n",
        "    except (IOError, ValueError) as e:\n",
        "      print('Could not read:', image_file, ':', e, '- it\\'s ok, skipping.')\n",
        "    \n",
        "  dataset = dataset[0:num_images, :, :]\n",
        "  if num_images < min_num_images:\n",
        "    raise Exception('Many fewer images than expected: %d < %d' %\n",
        "                    (num_images, min_num_images))\n",
        "    \n",
        "  print('Full dataset tensor:', dataset.shape)\n",
        "  print('Mean:', np.mean(dataset))\n",
        "  print('Standard deviation:', np.std(dataset))\n",
        "  return dataset\n",
        "        \n",
        "def maybe_pickle(data_folders, min_num_images_per_class, force=False):\n",
        "  dataset_names = []\n",
        "  for folder in data_folders:\n",
        "    set_filename = folder + '.pickle'\n",
        "    dataset_names.append(set_filename)\n",
        "    if os.path.exists(set_filename) and not force:\n",
        "      # You may override by setting force=True.\n",
        "      print('%s already present - Skipping pickling.' % set_filename)\n",
        "    else:\n",
        "      print('Pickling %s.' % set_filename)\n",
        "      dataset = load_letter(folder, min_num_images_per_class)\n",
        "      try:\n",
        "        with open(set_filename, 'wb') as f:\n",
        "          pickle.dump(dataset, f, pickle.HIGHEST_PROTOCOL)\n",
        "      except Exception as e:\n",
        "        print('Unable to save data to', set_filename, ':', e)\n",
        "  \n",
        "  return dataset_names\n",
        "\n",
        "train_datasets = maybe_pickle(train_folders, 45000)\n",
        "test_datasets = maybe_pickle(test_folders, 1800)"
      ],
      "execution_count": 10,
      "outputs": [
        {
          "output_type": "stream",
          "text": [
            "Pickling ./notMNIST_large/A.pickle.\n",
            "./notMNIST_large/A\n",
            "Could not read: ./notMNIST_large/A/Um9tYW5hIEJvbGQucGZi.png : Could not find a format to read the specified file in mode 'i' - it's ok, skipping.\n",
            "Could not read: ./notMNIST_large/A/RnJlaWdodERpc3BCb29rSXRhbGljLnR0Zg==.png : Could not find a format to read the specified file in mode 'i' - it's ok, skipping.\n",
            "Could not read: ./notMNIST_large/A/SG90IE11c3RhcmQgQlROIFBvc3Rlci50dGY=.png : Could not find a format to read the specified file in mode 'i' - it's ok, skipping.\n",
            "Full dataset tensor: (52909, 28, 28)\n",
            "Mean: -0.12824993\n",
            "Standard deviation: 0.44312057\n",
            "Pickling ./notMNIST_large/B.pickle.\n",
            "./notMNIST_large/B\n",
            "Could not read: ./notMNIST_large/B/TmlraXNFRi1TZW1pQm9sZEl0YWxpYy5vdGY=.png : Could not find a format to read the specified file in mode 'i' - it's ok, skipping.\n",
            "Full dataset tensor: (52911, 28, 28)\n",
            "Mean: -0.0075630355\n",
            "Standard deviation: 0.4544916\n",
            "Pickling ./notMNIST_large/C.pickle.\n",
            "./notMNIST_large/C\n",
            "Full dataset tensor: (52912, 28, 28)\n",
            "Mean: -0.14225829\n",
            "Standard deviation: 0.43980616\n",
            "Pickling ./notMNIST_large/D.pickle.\n",
            "./notMNIST_large/D\n",
            "Could not read: ./notMNIST_large/D/VHJhbnNpdCBCb2xkLnR0Zg==.png : Could not find a format to read the specified file in mode 'i' - it's ok, skipping.\n",
            "Full dataset tensor: (52911, 28, 28)\n",
            "Mean: -0.05736773\n",
            "Standard deviation: 0.45564762\n",
            "Pickling ./notMNIST_large/E.pickle.\n",
            "./notMNIST_large/E\n",
            "Full dataset tensor: (52912, 28, 28)\n",
            "Mean: -0.06989906\n",
            "Standard deviation: 0.45294183\n",
            "Pickling ./notMNIST_large/F.pickle.\n",
            "./notMNIST_large/F\n",
            "Full dataset tensor: (52912, 28, 28)\n",
            "Mean: -0.12558317\n",
            "Standard deviation: 0.4470892\n",
            "Pickling ./notMNIST_large/G.pickle.\n",
            "./notMNIST_large/G\n",
            "Full dataset tensor: (52912, 28, 28)\n",
            "Mean: -0.094581485\n",
            "Standard deviation: 0.44624022\n",
            "Pickling ./notMNIST_large/H.pickle.\n",
            "./notMNIST_large/H\n",
            "Full dataset tensor: (52912, 28, 28)\n",
            "Mean: -0.06852206\n",
            "Standard deviation: 0.4542318\n",
            "Pickling ./notMNIST_large/I.pickle.\n",
            "./notMNIST_large/I\n",
            "Full dataset tensor: (52912, 28, 28)\n",
            "Mean: 0.030786231\n",
            "Standard deviation: 0.4688987\n",
            "Pickling ./notMNIST_large/J.pickle.\n",
            "./notMNIST_large/J\n",
            "Full dataset tensor: (52911, 28, 28)\n",
            "Mean: -0.15335816\n",
            "Standard deviation: 0.44365686\n",
            "Pickling ./notMNIST_small/A.pickle.\n",
            "./notMNIST_small/A\n",
            "Could not read: ./notMNIST_small/A/RGVtb2NyYXRpY2FCb2xkT2xkc3R5bGUgQm9sZC50dGY=.png : Could not find a format to read the specified file in mode 'i' - it's ok, skipping.\n",
            "Full dataset tensor: (1872, 28, 28)\n",
            "Mean: -0.13262634\n",
            "Standard deviation: 0.44512793\n",
            "Pickling ./notMNIST_small/B.pickle.\n",
            "./notMNIST_small/B\n",
            "Full dataset tensor: (1873, 28, 28)\n",
            "Mean: 0.0053560818\n",
            "Standard deviation: 0.45711532\n",
            "Pickling ./notMNIST_small/C.pickle.\n",
            "./notMNIST_small/C\n",
            "Full dataset tensor: (1873, 28, 28)\n",
            "Mean: -0.14152054\n",
            "Standard deviation: 0.44269025\n",
            "Pickling ./notMNIST_small/D.pickle.\n",
            "./notMNIST_small/D\n",
            "Full dataset tensor: (1873, 28, 28)\n",
            "Mean: -0.04921664\n",
            "Standard deviation: 0.45975888\n",
            "Pickling ./notMNIST_small/E.pickle.\n",
            "./notMNIST_small/E\n",
            "Full dataset tensor: (1873, 28, 28)\n",
            "Mean: -0.059914753\n",
            "Standard deviation: 0.45734966\n",
            "Pickling ./notMNIST_small/F.pickle.\n",
            "./notMNIST_small/F\n",
            "Could not read: ./notMNIST_small/F/Q3Jvc3NvdmVyIEJvbGRPYmxpcXVlLnR0Zg==.png : Could not find a format to read the specified file in mode 'i' - it's ok, skipping.\n",
            "Full dataset tensor: (1872, 28, 28)\n",
            "Mean: -0.11818533\n",
            "Standard deviation: 0.45227855\n",
            "Pickling ./notMNIST_small/G.pickle.\n",
            "./notMNIST_small/G\n",
            "Full dataset tensor: (1872, 28, 28)\n",
            "Mean: -0.09255032\n",
            "Standard deviation: 0.44900584\n",
            "Pickling ./notMNIST_small/H.pickle.\n",
            "./notMNIST_small/H\n",
            "Full dataset tensor: (1872, 28, 28)\n",
            "Mean: -0.05868924\n",
            "Standard deviation: 0.45875898\n",
            "Pickling ./notMNIST_small/I.pickle.\n",
            "./notMNIST_small/I\n",
            "Full dataset tensor: (1872, 28, 28)\n",
            "Mean: 0.052645065\n",
            "Standard deviation: 0.47189352\n",
            "Pickling ./notMNIST_small/J.pickle.\n",
            "./notMNIST_small/J\n",
            "Full dataset tensor: (1872, 28, 28)\n",
            "Mean: -0.15168917\n",
            "Standard deviation: 0.4480135\n"
          ],
          "name": "stdout"
        }
      ]
    },
    {
      "metadata": {
        "id": "klO-OTGD6_ZO",
        "colab_type": "code",
        "colab": {}
      },
      "cell_type": "code",
      "source": [
        "# 问题1的解决方法：\n",
        "# 展示数据\n",
        "import random\n",
        "import hashlib\n",
        "%matplotlib inline"
      ],
      "execution_count": 0,
      "outputs": []
    },
    {
      "metadata": {
        "id": "qpZx0FFN7KSq",
        "colab_type": "code",
        "colab": {}
      },
      "cell_type": "code",
      "source": [
        "def disp_samples(data_folders, sample_size):\n",
        "  for folder in data_folders:\n",
        "    print(folder)\n",
        "    image_files = os.listdir(folder)\n",
        "    image_sample = random.sample(image_files, sample_size)\n",
        "    for image in image_sample:\n",
        "      image_file = os.path.join(folder, image)\n",
        "      i = Image(filename=image_file)\n",
        "      display(i)"
      ],
      "execution_count": 0,
      "outputs": []
    },
    {
      "metadata": {
        "id": "e9fBEDX67OXT",
        "colab_type": "code",
        "outputId": "3d3480ba-5f01-43b6-d95a-376a84a64d8a",
        "colab": {
          "base_uri": "https://localhost:8080/",
          "height": 467
        }
      },
      "cell_type": "code",
      "source": [
        "disp_samples(train_folders, 1) #展示一次训练数据"
      ],
      "execution_count": 13,
      "outputs": [
        {
          "output_type": "stream",
          "text": [
            "./notMNIST_large/A\n"
          ],
          "name": "stdout"
        },
        {
          "output_type": "display_data",
          "data": {
            "image/png": "[encoded data removed]",
            "text/plain": [
              "<IPython.core.display.Image object>"
            ]
          },
          "metadata": {
            "tags": []
          }
        },
        {
          "output_type": "stream",
          "text": [
            "./notMNIST_large/B\n"
          ],
          "name": "stdout"
        },
        {
          "output_type": "display_data",
          "data": {
            "image/png": "[encoded data removed]",
            "text/plain": [
              "<IPython.core.display.Image object>"
            ]
          },
          "metadata": {
            "tags": []
          }
        },
        {
          "output_type": "stream",
          "text": [
            "./notMNIST_large/C\n"
          ],
          "name": "stdout"
        },
        {
          "output_type": "display_data",
          "data": {
            "image/png": "[encoded data removed]",
            "text/plain": [
              "<IPython.core.display.Image object>"
            ]
          },
          "metadata": {
            "tags": []
          }
        },
        {
          "output_type": "stream",
          "text": [
            "./notMNIST_large/D\n"
          ],
          "name": "stdout"
        },
        {
          "output_type": "display_data",
          "data": {
            "image/png": "[encoded data removed]",
            "text/plain": [
              "<IPython.core.display.Image object>"
            ]
          },
          "metadata": {
            "tags": []
          }
        },
        {
          "output_type": "stream",
          "text": [
            "./notMNIST_large/E\n"
          ],
          "name": "stdout"
        },
        {
          "output_type": "display_data",
          "data": {
            "image/png": "[encoded data removed]",
            "text/plain": [
              "<IPython.core.display.Image object>"
            ]
          },
          "metadata": {
            "tags": []
          }
        },
        {
          "output_type": "stream",
          "text": [
            "./notMNIST_large/F\n"
          ],
          "name": "stdout"
        },
        {
          "output_type": "display_data",
          "data": {
            "image/png": "[encoded data removed]",
            "text/plain": [
              "<IPython.core.display.Image object>"
            ]
          },
          "metadata": {
            "tags": []
          }
        },
        {
          "output_type": "stream",
          "text": [
            "./notMNIST_large/G\n"
          ],
          "name": "stdout"
        },
        {
          "output_type": "display_data",
          "data": {
            "image/png": "[encoded data removed]",
            "text/plain": [
              "<IPython.core.display.Image object>"
            ]
          },
          "metadata": {
            "tags": []
          }
        },
        {
          "output_type": "stream",
          "text": [
            "./notMNIST_large/H\n"
          ],
          "name": "stdout"
        },
        {
          "output_type": "display_data",
          "data": {
            "image/png": "[encoded data removed]",
            "text/plain": [
              "<IPython.core.display.Image object>"
            ]
          },
          "metadata": {
            "tags": []
          }
        },
        {
          "output_type": "stream",
          "text": [
            "./notMNIST_large/I\n"
          ],
          "name": "stdout"
        },
        {
          "output_type": "display_data",
          "data": {
            "image/png": "[encoded data removed]",
            "text/plain": [
              "<IPython.core.display.Image object>"
            ]
          },
          "metadata": {
            "tags": []
          }
        },
        {
          "output_type": "stream",
          "text": [
            "./notMNIST_large/J\n"
          ],
          "name": "stdout"
        },
        {
          "output_type": "display_data",
          "data": {
            "image/png": "[encoded data removed]",
            "text/plain": [
              "<IPython.core.display.Image object>"
            ]
          },
          "metadata": {
            "tags": []
          }
        }
      ]
    },
    {
      "metadata": {
        "id": "rn-zVQGY7ft3",
        "colab_type": "code",
        "outputId": "ee068141-20ad-4273-dd1d-f73f7bb0a0b6",
        "colab": {
          "base_uri": "https://localhost:8080/",
          "height": 1027
        }
      },
      "cell_type": "code",
      "source": [
        "disp_samples(train_folders, 3) #展示3次训练数据"
      ],
      "execution_count": 14,
      "outputs": [
        {
          "output_type": "stream",
          "text": [
            "./notMNIST_large/A\n"
          ],
          "name": "stdout"
        },
        {
          "output_type": "display_data",
          "data": {
            "image/png": "[encoded data removed]",
            "text/plain": [
              "<IPython.core.display.Image object>"
            ]
          },
          "metadata": {
            "tags": []
          }
        },
        {
          "output_type": "display_data",
          "data": {
            "image/png": "[encoded data removed]",
            "text/plain": [
              "<IPython.core.display.Image object>"
            ]
          },
          "metadata": {
            "tags": []
          }
        },
        {
          "output_type": "display_data",
          "data": {
            "image/png": "[encoded data removed]",
            "text/plain": [
              "<IPython.core.display.Image object>"
            ]
          },
          "metadata": {
            "tags": []
          }
        },
        {
          "output_type": "stream",
          "text": [
            "./notMNIST_large/B\n"
          ],
          "name": "stdout"
        },
        {
          "output_type": "display_data",
          "data": {
            "image/png": "[encoded data removed]",
            "text/plain": [
              "<IPython.core.display.Image object>"
            ]
          },
          "metadata": {
            "tags": []
          }
        },
        {
          "output_type": "display_data",
          "data": {
            "image/png": "[encoded data removed]",
            "text/plain": [
              "<IPython.core.display.Image object>"
            ]
          },
          "metadata": {
            "tags": []
          }
        },
        {
          "output_type": "display_data",
          "data": {
            "image/png": "[encoded data removed]",
            "text/plain": [
              "<IPython.core.display.Image object>"
            ]
          },
          "metadata": {
            "tags": []
          }
        },
        {
          "output_type": "stream",
          "text": [
            "./notMNIST_large/C\n"
          ],
          "name": "stdout"
        },
        {
          "output_type": "display_data",
          "data": {
            "image/png": "[encoded data removed]",
            "text/plain": [
              "<IPython.core.display.Image object>"
            ]
          },
          "metadata": {
            "tags": []
          }
        },
        {
          "output_type": "display_data",
          "data": {
            "image/png": "[encoded data removed]",
            "text/plain": [
              "<IPython.core.display.Image object>"
            ]
          },
          "metadata": {
            "tags": []
          }
        },
        {
          "output_type": "display_data",
          "data": {
            "image/png": "[encoded data removed]",
            "text/plain": [
              "<IPython.core.display.Image object>"
            ]
          },
          "metadata": {
            "tags": []
          }
        },
        {
          "output_type": "stream",
          "text": [
            "./notMNIST_large/D\n"
          ],
          "name": "stdout"
        },
        {
          "output_type": "display_data",
          "data": {
            "image/png": "[encoded data removed]",
            "text/plain": [
              "<IPython.core.display.Image object>"
            ]
          },
          "metadata": {
            "tags": []
          }
        },
        {
          "output_type": "display_data",
          "data": {
            "image/png": "[encoded data removed]",
            "text/plain": [
              "<IPython.core.display.Image object>"
            ]
          },
          "metadata": {
            "tags": []
          }
        },
        {
          "output_type": "display_data",
          "data": {
            "image/png": "[encoded data removed]",
            "text/plain": [
              "<IPython.core.display.Image object>"
            ]
          },
          "metadata": {
            "tags": []
          }
        },
        {
          "output_type": "stream",
          "text": [
            "./notMNIST_large/E\n"
          ],
          "name": "stdout"
        },
        {
          "output_type": "display_data",
          "data": {
            "image/png": "[encoded data removed]",
            "text/plain": [
              "<IPython.core.display.Image object>"
            ]
          },
          "metadata": {
            "tags": []
          }
        },
        {
          "output_type": "display_data",
          "data": {
            "image/png": "[encoded data removed]",
            "text/plain": [
              "<IPython.core.display.Image object>"
            ]
          },
          "metadata": {
            "tags": []
          }
        },
        {
          "output_type": "display_data",
          "data": {
            "image/png": "[encoded data removed]",
            "text/plain": [
              "<IPython.core.display.Image object>"
            ]
          },
          "metadata": {
            "tags": []
          }
        },
        {
          "output_type": "stream",
          "text": [
            "./notMNIST_large/F\n"
          ],
          "name": "stdout"
        },
        {
          "output_type": "display_data",
          "data": {
            "image/png": "[encoded data removed]",
            "text/plain": [
              "<IPython.core.display.Image object>"
            ]
          },
          "metadata": {
            "tags": []
          }
        },
        {
          "output_type": "display_data",
          "data": {
            "image/png": "[encoded data removed]",
            "text/plain": [
              "<IPython.core.display.Image object>"
            ]
          },
          "metadata": {
            "tags": []
          }
        },
        {
          "output_type": "display_data",
          "data": {
            "image/png": "[encoded data removed]",
            "text/plain": [
              "<IPython.core.display.Image object>"
            ]
          },
          "metadata": {
            "tags": []
          }
        },
        {
          "output_type": "stream",
          "text": [
            "./notMNIST_large/G\n"
          ],
          "name": "stdout"
        },
        {
          "output_type": "display_data",
          "data": {
            "image/png": "[encoded data removed]",
            "text/plain": [
              "<IPython.core.display.Image object>"
            ]
          },
          "metadata": {
            "tags": []
          }
        },
        {
          "output_type": "display_data",
          "data": {
            "image/png": "[encoded data removed]",
            "text/plain": [
              "<IPython.core.display.Image object>"
            ]
          },
          "metadata": {
            "tags": []
          }
        },
        {
          "output_type": "display_data",
          "data": {
            "image/png": "[encoded data removed]",
            "text/plain": [
              "<IPython.core.display.Image object>"
            ]
          },
          "metadata": {
            "tags": []
          }
        },
        {
          "output_type": "stream",
          "text": [
            "./notMNIST_large/H\n"
          ],
          "name": "stdout"
        },
        {
          "output_type": "display_data",
          "data": {
            "image/png": "[encoded data removed]",
            "text/plain": [
              "<IPython.core.display.Image object>"
            ]
          },
          "metadata": {
            "tags": []
          }
        },
        {
          "output_type": "display_data",
          "data": {
            "image/png": "[encoded data removed]",
            "text/plain": [
              "<IPython.core.display.Image object>"
            ]
          },
          "metadata": {
            "tags": []
          }
        },
        {
          "output_type": "display_data",
          "data": {
            "image/png": "[encoded data removed]",
            "text/plain": [
              "<IPython.core.display.Image object>"
            ]
          },
          "metadata": {
            "tags": []
          }
        },
        {
          "output_type": "stream",
          "text": [
            "./notMNIST_large/I\n"
          ],
          "name": "stdout"
        },
        {
          "output_type": "display_data",
          "data": {
            "image/png": "[encoded data removed]",
            "text/plain": [
              "<IPython.core.display.Image object>"
            ]
          },
          "metadata": {
            "tags": []
          }
        },
        {
          "output_type": "display_data",
          "data": {
            "image/png": "[encoded data removed]",
            "text/plain": [
              "<IPython.core.display.Image object>"
            ]
          },
          "metadata": {
            "tags": []
          }
        },
        {
          "output_type": "display_data",
          "data": {
            "image/png": "[encoded data removed]",
            "text/plain": [
              "<IPython.core.display.Image object>"
            ]
          },
          "metadata": {
            "tags": []
          }
        },
        {
          "output_type": "stream",
          "text": [
            "./notMNIST_large/J\n"
          ],
          "name": "stdout"
        },
        {
          "output_type": "display_data",
          "data": {
            "image/png": "[encoded data removed]",
            "text/plain": [
              "<IPython.core.display.Image object>"
            ]
          },
          "metadata": {
            "tags": []
          }
        },
        {
          "output_type": "display_data",
          "data": {
            "image/png": "[encoded data removed]",
            "text/plain": [
              "<IPython.core.display.Image object>"
            ]
          },
          "metadata": {
            "tags": []
          }
        },
        {
          "output_type": "display_data",
          "data": {
            "image/png": "[encoded data removed]",
            "text/plain": [
              "<IPython.core.display.Image object>"
            ]
          },
          "metadata": {
            "tags": []
          }
        }
      ]
    },
    {
      "metadata": {
        "id": "bsRcm-6o73Cu",
        "colab_type": "code",
        "outputId": "683c1016-48eb-414f-fd43-f16bf5304c00",
        "colab": {
          "base_uri": "https://localhost:8080/",
          "height": 1027
        }
      },
      "cell_type": "code",
      "source": [
        "# 展示3次测试数据，因为是随机取的，所以每次都不一样\n",
        "disp_samples(test_folders, 3)"
      ],
      "execution_count": 15,
      "outputs": [
        {
          "output_type": "stream",
          "text": [
            "./notMNIST_small/A\n"
          ],
          "name": "stdout"
        },
        {
          "output_type": "display_data",
          "data": {
            "image/png": "[encoded data removed]",
            "text/plain": [
              "<IPython.core.display.Image object>"
            ]
          },
          "metadata": {
            "tags": []
          }
        },
        {
          "output_type": "display_data",
          "data": {
            "image/png": "[encoded data removed]",
            "text/plain": [
              "<IPython.core.display.Image object>"
            ]
          },
          "metadata": {
            "tags": []
          }
        },
        {
          "output_type": "display_data",
          "data": {
            "image/png": "[encoded data removed]",
            "text/plain": [
              "<IPython.core.display.Image object>"
            ]
          },
          "metadata": {
            "tags": []
          }
        },
        {
          "output_type": "stream",
          "text": [
            "./notMNIST_small/B\n"
          ],
          "name": "stdout"
        },
        {
          "output_type": "display_data",
          "data": {
            "image/png": "[encoded data removed]",
            "text/plain": [
              "<IPython.core.display.Image object>"
            ]
          },
          "metadata": {
            "tags": []
          }
        },
        {
          "output_type": "display_data",
          "data": {
            "image/png": "[encoded data removed]",
            "text/plain": [
              "<IPython.core.display.Image object>"
            ]
          },
          "metadata": {
            "tags": []
          }
        },
        {
          "output_type": "display_data",
          "data": {
            "image/png": "[encoded data removed]",
            "text/plain": [
              "<IPython.core.display.Image object>"
            ]
          },
          "metadata": {
            "tags": []
          }
        },
        {
          "output_type": "stream",
          "text": [
            "./notMNIST_small/C\n"
          ],
          "name": "stdout"
        },
        {
          "output_type": "display_data",
          "data": {
            "image/png": "[encoded data removed]",
            "text/plain": [
              "<IPython.core.display.Image object>"
            ]
          },
          "metadata": {
            "tags": []
          }
        },
        {
          "output_type": "display_data",
          "data": {
            "image/png": "[encoded data removed]",
            "text/plain": [
              "<IPython.core.display.Image object>"
            ]
          },
          "metadata": {
            "tags": []
          }
        },
        {
          "output_type": "display_data",
          "data": {
            "image/png": "[encoded data removed]",
            "text/plain": [
              "<IPython.core.display.Image object>"
            ]
          },
          "metadata": {
            "tags": []
          }
        },
        {
          "output_type": "stream",
          "text": [
            "./notMNIST_small/D\n"
          ],
          "name": "stdout"
        },
        {
          "output_type": "display_data",
          "data": {
            "image/png": "[encoded data removed]",
            "text/plain": [
              "<IPython.core.display.Image object>"
            ]
          },
          "metadata": {
            "tags": []
          }
        },
        {
          "output_type": "display_data",
          "data": {
            "image/png": "[encoded data removed]",
            "text/plain": [
              "<IPython.core.display.Image object>"
            ]
          },
          "metadata": {
            "tags": []
          }
        },
        {
          "output_type": "display_data",
          "data": {
            "image/png": "[encoded data removed]",
            "text/plain": [
              "<IPython.core.display.Image object>"
            ]
          },
          "metadata": {
            "tags": []
          }
        },
        {
          "output_type": "stream",
          "text": [
            "./notMNIST_small/E\n"
          ],
          "name": "stdout"
        },
        {
          "output_type": "display_data",
          "data": {
            "image/png": "[encoded data removed]",
            "text/plain": [
              "<IPython.core.display.Image object>"
            ]
          },
          "metadata": {
            "tags": []
          }
        },
        {
          "output_type": "display_data",
          "data": {
            "image/png": "[encoded data removed]",
            "text/plain": [
              "<IPython.core.display.Image object>"
            ]
          },
          "metadata": {
            "tags": []
          }
        },
        {
          "output_type": "display_data",
          "data": {
            "image/png": "[encoded data removed]",
            "text/plain": [
              "<IPython.core.display.Image object>"
            ]
          },
          "metadata": {
            "tags": []
          }
        },
        {
          "output_type": "stream",
          "text": [
            "./notMNIST_small/F\n"
          ],
          "name": "stdout"
        },
        {
          "output_type": "display_data",
          "data": {
            "image/png": "[encoded data removed]",
            "text/plain": [
              "<IPython.core.display.Image object>"
            ]
          },
          "metadata": {
            "tags": []
          }
        },
        {
          "output_type": "display_data",
          "data": {
            "image/png": "[encoded data removed]",
            "text/plain": [
              "<IPython.core.display.Image object>"
            ]
          },
          "metadata": {
            "tags": []
          }
        },
        {
          "output_type": "display_data",
          "data": {
            "image/png": "[encoded data removed]",
            "text/plain": [
              "<IPython.core.display.Image object>"
            ]
          },
          "metadata": {
            "tags": []
          }
        },
        {
          "output_type": "stream",
          "text": [
            "./notMNIST_small/G\n"
          ],
          "name": "stdout"
        },
        {
          "output_type": "display_data",
          "data": {
            "image/png": "[encoded data removed]",
            "text/plain": [
              "<IPython.core.display.Image object>"
            ]
          },
          "metadata": {
            "tags": []
          }
        },
        {
          "output_type": "display_data",
          "data": {
            "image/png": "[encoded data removed]",
            "text/plain": [
              "<IPython.core.display.Image object>"
            ]
          },
          "metadata": {
            "tags": []
          }
        },
        {
          "output_type": "display_data",
          "data": {
            "image/png": "[encoded data removed]",
            "text/plain": [
              "<IPython.core.display.Image object>"
            ]
          },
          "metadata": {
            "tags": []
          }
        },
        {
          "output_type": "stream",
          "text": [
            "./notMNIST_small/H\n"
          ],
          "name": "stdout"
        },
        {
          "output_type": "display_data",
          "data": {
            "image/png": "[encoded data removed]",
            "text/plain": [
              "<IPython.core.display.Image object>"
            ]
          },
          "metadata": {
            "tags": []
          }
        },
        {
          "output_type": "display_data",
          "data": {
            "image/png": "[encoded data removed]",
            "text/plain": [
              "<IPython.core.display.Image object>"
            ]
          },
          "metadata": {
            "tags": []
          }
        },
        {
          "output_type": "display_data",
          "data": {
            "image/png": "[encoded data removed]",
            "text/plain": [
              "<IPython.core.display.Image object>"
            ]
          },
          "metadata": {
            "tags": []
          }
        },
        {
          "output_type": "stream",
          "text": [
            "./notMNIST_small/I\n"
          ],
          "name": "stdout"
        },
        {
          "output_type": "display_data",
          "data": {
            "image/png": "[encoded data removed]",
            "text/plain": [
              "<IPython.core.display.Image object>"
            ]
          },
          "metadata": {
            "tags": []
          }
        },
        {
          "output_type": "display_data",
          "data": {
            "image/png": "[encoded data removed]",
            "text/plain": [
              "<IPython.core.display.Image object>"
            ]
          },
          "metadata": {
            "tags": []
          }
        },
        {
          "output_type": "display_data",
          "data": {
            "image/png": "[encoded data removed]",
            "text/plain": [
              "<IPython.core.display.Image object>"
            ]
          },
          "metadata": {
            "tags": []
          }
        },
        {
          "output_type": "stream",
          "text": [
            "./notMNIST_small/J\n"
          ],
          "name": "stdout"
        },
        {
          "output_type": "display_data",
          "data": {
            "image/png": "[encoded data removed]",
            "text/plain": [
              "<IPython.core.display.Image object>"
            ]
          },
          "metadata": {
            "tags": []
          }
        },
        {
          "output_type": "display_data",
          "data": {
            "image/png": "[encoded data removed]",
            "text/plain": [
              "<IPython.core.display.Image object>"
            ]
          },
          "metadata": {
            "tags": []
          }
        },
        {
          "output_type": "display_data",
          "data": {
            "image/png": "[encoded data removed]",
            "text/plain": [
              "<IPython.core.display.Image object>"
            ]
          },
          "metadata": {
            "tags": []
          }
        }
      ]
    },
    {
      "metadata": {
        "id": "xynJd8nC9lVU",
        "colab_type": "code",
        "colab": {}
      },
      "cell_type": "code",
      "source": [
        "image_size = 28  # Pixel width and height.\n",
        "pixel_depth = 255.0  # Number of levels per pixel.\n",
        "\n",
        "def load_letter(folder, min_num_images):\n",
        "  \"\"\"Load the data for a single letter label.\"\"\"\n",
        "  image_files = os.listdir(folder)\n",
        "  dataset = np.ndarray(shape=(len(image_files), image_size, image_size),\n",
        "                         dtype=np.float32)\n",
        "  image_index = 0\n",
        "  print(folder)\n",
        "  for image in os.listdir(folder):\n",
        "    image_file = os.path.join(folder, image)\n",
        "    try:\n",
        "      image_data = (ndimage.imread(image_file).astype(float) - \n",
        "                    pixel_depth / 2) / pixel_depth\n",
        "      if image_data.shape != (image_size, image_size):\n",
        "        raise Exception('Unexpected image shape: %s' % str(image_data.shape))\n",
        "      dataset[image_index, :, :] = image_data\n",
        "      image_index += 1\n",
        "    except IOError as e:\n",
        "      print('Could not read:', image_file, ':', e, '- it\\'s ok, skipping.')\n",
        "    \n",
        "  num_images = image_index\n",
        "  dataset = dataset[0:num_images, :, :]\n",
        "  if num_images < min_num_images:\n",
        "    raise Exception('Many fewer images than expected: %d < %d' %\n",
        "                    (num_images, min_num_images))\n",
        "    \n",
        "  print('Full dataset tensor:', dataset.shape)\n",
        "  print('Mean:', np.mean(dataset))\n",
        "  print('Standard deviation:', np.std(dataset))\n",
        "  return dataset\n",
        "        \n",
        "def maybe_pickle(data_folders, min_num_images_per_class, force=False):\n",
        "  dataset_names = []\n",
        "  for folder in data_folders:\n",
        "    set_filename = folder + '.pickle'\n",
        "    dataset_names.append(set_filename)\n",
        "    if os.path.exists(set_filename) and not force:\n",
        "      # You may override by setting force=True.\n",
        "      print('%s already present - Skipping pickling.' % set_filename)\n",
        "    else:\n",
        "      print('Pickling %s.' % set_filename)\n",
        "      dataset = load_letter(folder, min_num_images_per_class)\n",
        "      try:\n",
        "        with open(set_filename, 'wb') as f:\n",
        "          pickle.dump(dataset, f, pickle.HIGHEST_PROTOCOL)\n",
        "      except Exception as e:\n",
        "        print('Unable to save data to', set_filename, ':', e)\n",
        "  \n",
        "  return dataset_names\n",
        "\n"
      ],
      "execution_count": 0,
      "outputs": []
    },
    {
      "metadata": {
        "id": "URT1zDrt9nc6",
        "colab_type": "code",
        "outputId": "eb12cba7-b065-47f2-d866-8953322db816",
        "colab": {
          "base_uri": "https://localhost:8080/",
          "height": 357
        }
      },
      "cell_type": "code",
      "source": [
        "train_datasets = maybe_pickle(train_folders, 45000)\n",
        "test_datasets = maybe_pickle(test_folders, 1800)"
      ],
      "execution_count": 18,
      "outputs": [
        {
          "output_type": "stream",
          "text": [
            "./notMNIST_large/A.pickle already present - Skipping pickling.\n",
            "./notMNIST_large/B.pickle already present - Skipping pickling.\n",
            "./notMNIST_large/C.pickle already present - Skipping pickling.\n",
            "./notMNIST_large/D.pickle already present - Skipping pickling.\n",
            "./notMNIST_large/E.pickle already present - Skipping pickling.\n",
            "./notMNIST_large/F.pickle already present - Skipping pickling.\n",
            "./notMNIST_large/G.pickle already present - Skipping pickling.\n",
            "./notMNIST_large/H.pickle already present - Skipping pickling.\n",
            "./notMNIST_large/I.pickle already present - Skipping pickling.\n",
            "./notMNIST_large/J.pickle already present - Skipping pickling.\n",
            "./notMNIST_small/A.pickle already present - Skipping pickling.\n",
            "./notMNIST_small/B.pickle already present - Skipping pickling.\n",
            "./notMNIST_small/C.pickle already present - Skipping pickling.\n",
            "./notMNIST_small/D.pickle already present - Skipping pickling.\n",
            "./notMNIST_small/E.pickle already present - Skipping pickling.\n",
            "./notMNIST_small/F.pickle already present - Skipping pickling.\n",
            "./notMNIST_small/G.pickle already present - Skipping pickling.\n",
            "./notMNIST_small/H.pickle already present - Skipping pickling.\n",
            "./notMNIST_small/I.pickle already present - Skipping pickling.\n",
            "./notMNIST_small/J.pickle already present - Skipping pickling.\n"
          ],
          "name": "stdout"
        }
      ]
    },
    {
      "metadata": {
        "id": "vUdbskYE2d87",
        "colab_type": "text"
      },
      "cell_type": "markdown",
      "source": [
        "---\n",
        "Problem 2\n",
        "---------\n",
        "\n",
        "Let's verify that the data still looks good. Displaying a sample of the labels and images from the ndarray. Hint: you can use matplotlib.pyplot.\n",
        "\n",
        "---"
      ]
    },
    {
      "metadata": {
        "id": "bJHjviFt9yAY",
        "colab_type": "code",
        "colab": {}
      },
      "cell_type": "code",
      "source": [
        "def disp_8_img(imgs, titles):\n",
        "  \"\"\"Display subplot with 8 images or less\"\"\"\n",
        "  for i, img in enumerate(imgs):\n",
        "    plt.subplot(2, 4, i+1)\n",
        "    plt.title(titles[i])\n",
        "    plt.axis('off')\n",
        "    plt.imshow(img)\n",
        "\n",
        "def disp_sample_pickles(data_folders):\n",
        "  folder = random.sample(data_folders, 1)\n",
        "  pickle_filename = ''.join(folder) + '.pickle'\n",
        "  try:\n",
        "    with open(pickle_filename, 'rb') as f:\n",
        "      dataset = pickle.load(f)\n",
        "  except Exception as e:\n",
        "    print('Unable to read data from', pickle_filename, ':', e)\n",
        "    return\n",
        "  # display\n",
        "  plt.suptitle(''.join(folder)[-1])\n",
        "  for i, img in enumerate(random.sample(list(dataset), 8)):\n",
        "    plt.subplot(2, 4, i+1)\n",
        "    plt.axis('off')\n",
        "    plt.imshow(img)"
      ],
      "execution_count": 0,
      "outputs": []
    },
    {
      "metadata": {
        "id": "C57Zixb391nP",
        "colab_type": "code",
        "outputId": "81a90cba-c26f-4784-e3ff-c5acd3b968c1",
        "colab": {
          "base_uri": "https://localhost:8080/",
          "height": 281
        }
      },
      "cell_type": "code",
      "source": [
        "disp_sample_pickles(train_folders) # 展示训练集"
      ],
      "execution_count": 21,
      "outputs": [
        {
          "output_type": "display_data",
          "data": {
            "image/png": "[encoded data removed]",
            "text/plain": [
              "<Figure size 432x288 with 8 Axes>"
            ]
          },
          "metadata": {
            "tags": []
          }
        }
      ]
    },
    {
      "metadata": {
        "id": "hIsmBQpR-F-D",
        "colab_type": "code",
        "outputId": "10bb4d1b-d61c-48c1-a498-5bf046bec864",
        "colab": {
          "base_uri": "https://localhost:8080/",
          "height": 281
        }
      },
      "cell_type": "code",
      "source": [
        "disp_sample_pickles(test_folders) #展示测试集"
      ],
      "execution_count": 23,
      "outputs": [
        {
          "output_type": "display_data",
          "data": {
            "image/png": "[encoded data removed]",
            "text/plain": [
              "<Figure size 432x288 with 8 Axes>"
            ]
          },
          "metadata": {
            "tags": []
          }
        }
      ]
    },
    {
      "metadata": {
        "id": "cYznx5jUwzoO",
        "colab_type": "text"
      },
      "cell_type": "markdown",
      "source": [
        "---\n",
        "Problem 3\n",
        "---------\n",
        "Another check: we expect the data to be balanced across classes. Verify that.\n",
        "\n",
        "---"
      ]
    },
    {
      "metadata": {
        "id": "LA7M7K22ynCt",
        "colab_type": "text"
      },
      "cell_type": "markdown",
      "source": [
        "Merge and prune the training data as needed. Depending on your computer setup, you might not be able to fit it all in memory, and you can tune `train_size` as needed. The labels will be stored into a separate array of integers 0 through 9.\n",
        "\n",
        "Also create a validation dataset for hyperparameter tuning."
      ]
    },
    {
      "metadata": {
        "id": "s3mWgZLpyuzq",
        "colab_type": "code",
        "cellView": "both",
        "outputId": "4830cb8b-db19-464f-8c54-6d9fb66cbbcf",
        "colab": {
          "base_uri": "https://localhost:8080/",
          "height": 68
        }
      },
      "cell_type": "code",
      "source": [
        "def make_arrays(nb_rows, img_size):\n",
        "  if nb_rows:\n",
        "    dataset = np.ndarray((nb_rows, img_size, img_size), dtype=np.float32)\n",
        "    labels = np.ndarray(nb_rows, dtype=np.int32)\n",
        "  else:\n",
        "    dataset, labels = None, None\n",
        "  return dataset, labels\n",
        "\n",
        "def merge_datasets(pickle_files, train_size, valid_size=0):\n",
        "  num_classes = len(pickle_files)\n",
        "  valid_dataset, valid_labels = make_arrays(valid_size, image_size)\n",
        "  train_dataset, train_labels = make_arrays(train_size, image_size)\n",
        "  vsize_per_class = valid_size // num_classes\n",
        "  tsize_per_class = train_size // num_classes\n",
        "    \n",
        "  start_v, start_t = 0, 0\n",
        "  end_v, end_t = vsize_per_class, tsize_per_class\n",
        "  end_l = vsize_per_class+tsize_per_class\n",
        "  for label, pickle_file in enumerate(pickle_files):       \n",
        "    try:\n",
        "      with open(pickle_file, 'rb') as f:\n",
        "        letter_set = pickle.load(f)\n",
        "        # let's shuffle the letters to have random validation and training set\n",
        "        np.random.shuffle(letter_set)\n",
        "        if valid_dataset is not None:\n",
        "          valid_letter = letter_set[:vsize_per_class, :, :]\n",
        "          valid_dataset[start_v:end_v, :, :] = valid_letter\n",
        "          valid_labels[start_v:end_v] = label\n",
        "          start_v += vsize_per_class\n",
        "          end_v += vsize_per_class\n",
        "                    \n",
        "        train_letter = letter_set[vsize_per_class:end_l, :, :]\n",
        "        train_dataset[start_t:end_t, :, :] = train_letter\n",
        "        train_labels[start_t:end_t] = label\n",
        "        start_t += tsize_per_class\n",
        "        end_t += tsize_per_class\n",
        "    except Exception as e:\n",
        "      print('Unable to process data from', pickle_file, ':', e)\n",
        "      raise\n",
        "    \n",
        "  return valid_dataset, valid_labels, train_dataset, train_labels\n",
        "            \n",
        "            \n",
        "train_size = 200000\n",
        "valid_size = 10000\n",
        "test_size = 10000\n",
        "\n",
        "valid_dataset, valid_labels, train_dataset, train_labels = merge_datasets(\n",
        "  train_datasets, train_size, valid_size)\n",
        "_, _, test_dataset, test_labels = merge_datasets(test_datasets, test_size)\n",
        "\n",
        "print('Training:', train_dataset.shape, train_labels.shape)\n",
        "print('Validation:', valid_dataset.shape, valid_labels.shape)\n",
        "print('Testing:', test_dataset.shape, test_labels.shape)"
      ],
      "execution_count": 25,
      "outputs": [
        {
          "output_type": "stream",
          "text": [
            "Training: (200000, 28, 28) (200000,)\n",
            "Validation: (10000, 28, 28) (10000,)\n",
            "Testing: (10000, 28, 28) (10000,)\n"
          ],
          "name": "stdout"
        }
      ]
    },
    {
      "metadata": {
        "id": "GPTCnjIcyuKN",
        "colab_type": "text"
      },
      "cell_type": "markdown",
      "source": [
        "Next, we'll randomize the data. It's important to have the labels well shuffled for the training and test distributions to match."
      ]
    },
    {
      "metadata": {
        "id": "-K2_9s0D-myt",
        "colab_type": "code",
        "outputId": "23607d72-1988-493c-c22b-e8c95d52e631",
        "colab": {
          "base_uri": "https://localhost:8080/",
          "height": 357
        }
      },
      "cell_type": "code",
      "source": [
        "def disp_number_images(data_folders):\n",
        "  for folder in data_folders:\n",
        "    pickle_filename = ''.join(folder) + '.pickle'\n",
        "    try:\n",
        "      with open(pickle_filename, 'rb') as f:\n",
        "        dataset = pickle.load(f)\n",
        "    except Exception as e:\n",
        "      print('Unable to read data from', pickle_filename, ':', e)\n",
        "      return\n",
        "    print('Number of images in ', folder, ' : ', len(dataset))\n",
        "    \n",
        "disp_number_images(train_folders)\n",
        "disp_number_images(test_folders)"
      ],
      "execution_count": 26,
      "outputs": [
        {
          "output_type": "stream",
          "text": [
            "Number of images in  ./notMNIST_large/A  :  52909\n",
            "Number of images in  ./notMNIST_large/B  :  52911\n",
            "Number of images in  ./notMNIST_large/C  :  52912\n",
            "Number of images in  ./notMNIST_large/D  :  52911\n",
            "Number of images in  ./notMNIST_large/E  :  52912\n",
            "Number of images in  ./notMNIST_large/F  :  52912\n",
            "Number of images in  ./notMNIST_large/G  :  52912\n",
            "Number of images in  ./notMNIST_large/H  :  52912\n",
            "Number of images in  ./notMNIST_large/I  :  52912\n",
            "Number of images in  ./notMNIST_large/J  :  52911\n",
            "Number of images in  ./notMNIST_small/A  :  1872\n",
            "Number of images in  ./notMNIST_small/B  :  1873\n",
            "Number of images in  ./notMNIST_small/C  :  1873\n",
            "Number of images in  ./notMNIST_small/D  :  1873\n",
            "Number of images in  ./notMNIST_small/E  :  1873\n",
            "Number of images in  ./notMNIST_small/F  :  1872\n",
            "Number of images in  ./notMNIST_small/G  :  1872\n",
            "Number of images in  ./notMNIST_small/H  :  1872\n",
            "Number of images in  ./notMNIST_small/I  :  1872\n",
            "Number of images in  ./notMNIST_small/J  :  1872\n"
          ],
          "name": "stdout"
        }
      ]
    },
    {
      "metadata": {
        "id": "uKpjJYdeCaKI",
        "colab_type": "code",
        "outputId": "1a543464-f501-4df0-cfba-4675cd049f5d",
        "colab": {
          "base_uri": "https://localhost:8080/",
          "height": 68
        }
      },
      "cell_type": "code",
      "source": [
        "def make_arrays(nb_rows, img_size):\n",
        "  if nb_rows:\n",
        "    dataset = np.ndarray((nb_rows, img_size, img_size), dtype=np.float32)\n",
        "    labels = np.ndarray(nb_rows, dtype=np.int32)\n",
        "  else:\n",
        "    dataset, labels = None, None\n",
        "  return dataset, labels\n",
        "\n",
        "def merge_datasets(pickle_files, train_size, valid_size=0):\n",
        "  num_classes = len(pickle_files)\n",
        "  valid_dataset, valid_labels = make_arrays(valid_size, image_size)\n",
        "  train_dataset, train_labels = make_arrays(train_size, image_size)\n",
        "  vsize_per_class = valid_size // num_classes\n",
        "  tsize_per_class = train_size // num_classes\n",
        "    \n",
        "  start_v, start_t = 0, 0\n",
        "  end_v, end_t = vsize_per_class, tsize_per_class\n",
        "  end_l = vsize_per_class+tsize_per_class\n",
        "  for label, pickle_file in enumerate(pickle_files):       \n",
        "    try:\n",
        "      with open(pickle_file, 'rb') as f:\n",
        "        letter_set = pickle.load(f)\n",
        "        # let's shuffle the letters to have random validation and training set\n",
        "        np.random.shuffle(letter_set)\n",
        "        if valid_dataset is not None:\n",
        "          valid_letter = letter_set[:vsize_per_class, :, :]\n",
        "          valid_dataset[start_v:end_v, :, :] = valid_letter\n",
        "          valid_labels[start_v:end_v] = label\n",
        "          start_v += vsize_per_class\n",
        "          end_v += vsize_per_class\n",
        "                    \n",
        "        train_letter = letter_set[vsize_per_class:end_l, :, :]\n",
        "        train_dataset[start_t:end_t, :, :] = train_letter\n",
        "        train_labels[start_t:end_t] = label\n",
        "        start_t += tsize_per_class\n",
        "        end_t += tsize_per_class\n",
        "    except Exception as e:\n",
        "      print('Unable to process data from', pickle_file, ':', e)\n",
        "      raise\n",
        "    \n",
        "  return valid_dataset, valid_labels, train_dataset, train_labels\n",
        "            \n",
        "            \n",
        "train_size = 200000\n",
        "valid_size = 10000\n",
        "test_size = 10000\n",
        "\n",
        "valid_dataset, valid_labels, train_dataset, train_labels = merge_datasets(\n",
        "  train_datasets, train_size, valid_size)\n",
        "_, _, test_dataset, test_labels = merge_datasets(test_datasets, test_size)\n",
        "\n",
        "print('Training:', train_dataset.shape, train_labels.shape)\n",
        "print('Validation:', valid_dataset.shape, valid_labels.shape)\n",
        "print('Testing:', test_dataset.shape, test_labels.shape)"
      ],
      "execution_count": 27,
      "outputs": [
        {
          "output_type": "stream",
          "text": [
            "Training: (200000, 28, 28) (200000,)\n",
            "Validation: (10000, 28, 28) (10000,)\n",
            "Testing: (10000, 28, 28) (10000,)\n"
          ],
          "name": "stdout"
        }
      ]
    },
    {
      "metadata": {
        "id": "6WZ2l2tN2zOL",
        "colab_type": "code",
        "cellView": "both",
        "colab": {}
      },
      "cell_type": "code",
      "source": [
        "def randomize(dataset, labels):\n",
        "  permutation = np.random.permutation(labels.shape[0])\n",
        "  shuffled_dataset = dataset[permutation,:,:]\n",
        "  shuffled_labels = labels[permutation]\n",
        "  return shuffled_dataset, shuffled_labels\n",
        "train_dataset, train_labels = randomize(train_dataset, train_labels)\n",
        "test_dataset, test_labels = randomize(test_dataset, test_labels)\n",
        "valid_dataset, valid_labels = randomize(valid_dataset, valid_labels)"
      ],
      "execution_count": 0,
      "outputs": []
    },
    {
      "metadata": {
        "id": "qOFCRlpyvXXc",
        "colab_type": "code",
        "colab": {
          "base_uri": "https://localhost:8080/",
          "height": 68
        },
        "outputId": "0b3c3b50-b93c-4a97-9e5d-0902c9ee41cc"
      },
      "cell_type": "code",
      "source": [
        "print('Training:', train_dataset.shape, train_labels.shape)\n",
        "print('Validation:', valid_dataset.shape, valid_labels.shape)\n",
        "print('Testing:', test_dataset.shape, test_labels.shape)\n"
      ],
      "execution_count": 33,
      "outputs": [
        {
          "output_type": "stream",
          "text": [
            "Training: (200000, 28, 28) (200000,)\n",
            "Validation: (10000, 28, 28) (10000,)\n",
            "Testing: (10000, 28, 28) (10000,)\n"
          ],
          "name": "stdout"
        }
      ]
    },
    {
      "metadata": {
        "id": "puDUTe6t6USl",
        "colab_type": "text"
      },
      "cell_type": "markdown",
      "source": [
        "---\n",
        "Problem 4\n",
        "---------\n",
        "Convince yourself that the data is still good after shuffling!\n",
        "\n",
        "---"
      ]
    },
    {
      "metadata": {
        "id": "tIQJaJuwg5Hw",
        "colab_type": "text"
      },
      "cell_type": "markdown",
      "source": [
        "Finally, let's save the data for later reuse:"
      ]
    },
    {
      "metadata": {
        "id": "8Lpbo9cICnQW",
        "colab_type": "code",
        "colab": {}
      },
      "cell_type": "code",
      "source": [
        "\n",
        "pretty_labels = {0: 'A', 1: 'B', 2: 'C', 3: 'D', 4: 'E', 5: 'F', 6: 'G', 7: 'H', 8: 'I', 9: 'J'}\n",
        "\n",
        "def disp_sample_dataset(dataset, labels):\n",
        "  items = random.sample(range(len(labels)), 8)\n",
        "  for i, item in enumerate(items):\n",
        "    plt.subplot(2, 4, i+1)\n",
        "    plt.axis('off')\n",
        "    plt.title(pretty_labels[labels[item]])\n",
        "    plt.imshow(dataset[item])"
      ],
      "execution_count": 0,
      "outputs": []
    },
    {
      "metadata": {
        "id": "fQ7863C_CrDe",
        "colab_type": "code",
        "outputId": "3e968644-9cab-4a39-9299-503c604fd619",
        "colab": {
          "base_uri": "https://localhost:8080/",
          "height": 254
        }
      },
      "cell_type": "code",
      "source": [
        "disp_sample_dataset(train_dataset, train_labels)"
      ],
      "execution_count": 35,
      "outputs": [
        {
          "output_type": "display_data",
          "data": {
            "image/png": "[encoded data removed]",
            "text/plain": [
              "<Figure size 432x288 with 8 Axes>"
            ]
          },
          "metadata": {
            "tags": []
          }
        }
      ]
    },
    {
      "metadata": {
        "id": "xuoiQFDLCvr9",
        "colab_type": "code",
        "outputId": "9351c4c9-7631-4c01-b2f7-7af348963538",
        "colab": {
          "base_uri": "https://localhost:8080/",
          "height": 254
        }
      },
      "cell_type": "code",
      "source": [
        "disp_sample_dataset(valid_dataset, valid_labels)"
      ],
      "execution_count": 36,
      "outputs": [
        {
          "output_type": "display_data",
          "data": {
            "image/png": "[encoded data removed]",
            "text/plain": [
              "<Figure size 432x288 with 8 Axes>"
            ]
          },
          "metadata": {
            "tags": []
          }
        }
      ]
    },
    {
      "metadata": {
        "id": "yfngPNeQCzWm",
        "colab_type": "code",
        "outputId": "0632dad0-269e-452b-adb9-2b570eeb1a4e",
        "colab": {
          "base_uri": "https://localhost:8080/",
          "height": 254
        }
      },
      "cell_type": "code",
      "source": [
        "disp_sample_dataset(test_dataset, test_labels)"
      ],
      "execution_count": 37,
      "outputs": [
        {
          "output_type": "display_data",
          "data": {
            "image/png": "[encoded data removed]",
            "text/plain": [
              "<Figure size 432x288 with 8 Axes>"
            ]
          },
          "metadata": {
            "tags": []
          }
        }
      ]
    },
    {
      "metadata": {
        "id": "QiR_rETzem6C",
        "colab_type": "code",
        "cellView": "both",
        "colab": {}
      },
      "cell_type": "code",
      "source": [
        "pickle_file = os.path.join(data_root, 'notMNIST.pickle')\n",
        "\n",
        "try:\n",
        "  f = open(pickle_file, 'wb')\n",
        "  save = {\n",
        "    'train_dataset': train_dataset,\n",
        "    'train_labels': train_labels,\n",
        "    'valid_dataset': valid_dataset,\n",
        "    'valid_labels': valid_labels,\n",
        "    'test_dataset': test_dataset,\n",
        "    'test_labels': test_labels,\n",
        "    }\n",
        "  pickle.dump(save, f, pickle.HIGHEST_PROTOCOL)\n",
        "  f.close()\n",
        "except Exception as e:\n",
        "  print('Unable to save data to', pickle_file, ':', e)\n",
        "  raise"
      ],
      "execution_count": 0,
      "outputs": []
    },
    {
      "metadata": {
        "id": "jHCp9GLnw1wP",
        "colab_type": "code",
        "colab": {
          "base_uri": "https://localhost:8080/",
          "height": 4338
        },
        "outputId": "42b2a789-b91b-47c6-b7b5-9b4f44e9b53e"
      },
      "cell_type": "code",
      "source": [
        "print(\"save\",save)"
      ],
      "execution_count": 40,
      "outputs": [
        {
          "output_type": "stream",
          "text": [
            "save {'train_labels': array([2, 2, 2, ..., 8, 7, 8], dtype=int32), 'valid_labels': array([7, 0, 0, ..., 1, 5, 8], dtype=int32), 'test_labels': array([1, 0, 1, ..., 9, 9, 1], dtype=int32), 'test_dataset': array([[[ 0.26862746,  0.5       ,  0.49607843, ..., -0.5       ,\n",
            "         -0.5       , -0.5       ],\n",
            "        [-0.0372549 ,  0.10784314,  0.26078433, ..., -0.5       ,\n",
            "         -0.5       , -0.5       ],\n",
            "        [-0.48039216, -0.5       , -0.1392157 , ..., -0.48431373,\n",
            "         -0.5       , -0.5       ],\n",
            "        ...,\n",
            "        [-0.48039216, -0.5       , -0.1392157 , ..., -0.5       ,\n",
            "         -0.49215686, -0.5       ],\n",
            "        [-0.0372549 ,  0.10784314,  0.26078433, ..., -0.49215686,\n",
            "         -0.5       , -0.5       ],\n",
            "        [ 0.26862746,  0.5       ,  0.49607843, ..., -0.5       ,\n",
            "         -0.5       , -0.5       ]],\n",
            "\n",
            "       [[-0.5       , -0.5       , -0.5       , ..., -0.5       ,\n",
            "         -0.5       , -0.5       ],\n",
            "        [-0.5       , -0.5       , -0.5       , ..., -0.5       ,\n",
            "         -0.5       , -0.5       ],\n",
            "        [-0.5       , -0.5       , -0.5       , ..., -0.5       ,\n",
            "         -0.5       , -0.5       ],\n",
            "        ...,\n",
            "        [ 0.48431373,  0.49215686,  0.49215686, ...,  0.4882353 ,\n",
            "          0.4882353 ,  0.48039216],\n",
            "        [ 0.5       ,  0.5       ,  0.5       , ...,  0.5       ,\n",
            "          0.5       ,  0.5       ],\n",
            "        [ 0.28431374,  0.327451  ,  0.327451  , ...,  0.15882353,\n",
            "          0.15882353,  0.15882353]],\n",
            "\n",
            "       [[-0.5       , -0.5       , -0.5       , ..., -0.49215686,\n",
            "         -0.49607843, -0.49607843],\n",
            "        [-0.5       , -0.5       , -0.5       , ..., -0.5       ,\n",
            "         -0.5       , -0.5       ],\n",
            "        [-0.5       , -0.5       , -0.5       , ...,  0.03333334,\n",
            "         -0.42156863, -0.38235295],\n",
            "        ...,\n",
            "        [-0.02941176, -0.13137256, -0.5       , ..., -0.5       ,\n",
            "         -0.5       , -0.5       ],\n",
            "        [-0.47254902,  0.02156863, -0.0372549 , ..., -0.5       ,\n",
            "         -0.5       , -0.5       ],\n",
            "        [-0.5       , -0.5       , -0.1392157 , ..., -0.5       ,\n",
            "         -0.5       , -0.5       ]],\n",
            "\n",
            "       ...,\n",
            "\n",
            "       [[-0.5       , -0.5       , -0.5       , ...,  0.5       ,\n",
            "          0.5       ,  0.5       ],\n",
            "        [-0.5       , -0.5       , -0.5       , ...,  0.5       ,\n",
            "          0.5       ,  0.5       ],\n",
            "        [-0.5       , -0.5       , -0.5       , ...,  0.5       ,\n",
            "          0.5       ,  0.5       ],\n",
            "        ...,\n",
            "        [-0.5       , -0.4882353 , -0.5       , ..., -0.5       ,\n",
            "         -0.49215686, -0.5       ],\n",
            "        [-0.5       , -0.5       , -0.4882353 , ..., -0.49215686,\n",
            "         -0.5       , -0.5       ],\n",
            "        [-0.5       , -0.5       , -0.5       , ..., -0.5       ,\n",
            "         -0.5       , -0.5       ]],\n",
            "\n",
            "       [[-0.5       , -0.5       , -0.5       , ...,  0.40588236,\n",
            "          0.40588236,  0.40588236],\n",
            "        [-0.5       , -0.5       , -0.5       , ...,  0.5       ,\n",
            "          0.5       ,  0.5       ],\n",
            "        [-0.5       , -0.5       , -0.5       , ...,  0.49607843,\n",
            "          0.49607843,  0.49607843],\n",
            "        ...,\n",
            "        [ 0.5       ,  0.49215686,  0.4882353 , ...,  0.4882353 ,\n",
            "          0.49215686,  0.5       ],\n",
            "        [ 0.3       ,  0.47254902,  0.5       , ...,  0.5       ,\n",
            "          0.46862745,  0.29215688],\n",
            "        [-0.45294118, -0.11960784,  0.1392157 , ...,  0.13529412,\n",
            "         -0.12352941, -0.45294118]],\n",
            "\n",
            "       [[ 0.5       ,  0.5       ,  0.5       , ..., -0.5       ,\n",
            "         -0.5       , -0.5       ],\n",
            "        [ 0.5       ,  0.5       ,  0.5       , ..., -0.4882353 ,\n",
            "         -0.4882353 , -0.4882353 ],\n",
            "        [ 0.5       ,  0.5       ,  0.5       , ..., -0.49607843,\n",
            "         -0.5       , -0.49607843],\n",
            "        ...,\n",
            "        [ 0.5       ,  0.5       ,  0.5       , ..., -0.49607843,\n",
            "         -0.5       , -0.49607843],\n",
            "        [ 0.5       ,  0.5       ,  0.5       , ..., -0.4882353 ,\n",
            "         -0.4882353 , -0.4882353 ],\n",
            "        [ 0.5       ,  0.5       ,  0.5       , ..., -0.5       ,\n",
            "         -0.5       , -0.5       ]]], dtype=float32), 'train_dataset': array([[[-0.5       , -0.5       , -0.5       , ...,  0.45294118,\n",
            "          0.35490197, -0.42156863],\n",
            "        [-0.5       , -0.5       , -0.5       , ...,  0.49607843,\n",
            "          0.5       , -0.13529412],\n",
            "        [-0.5       , -0.5       , -0.5       , ...,  0.48431373,\n",
            "          0.5       , -0.02156863],\n",
            "        ...,\n",
            "        [-0.5       , -0.4490196 ,  0.29215688, ..., -0.5       ,\n",
            "         -0.5       , -0.5       ],\n",
            "        [-0.49215686, -0.5       , -0.38627452, ..., -0.5       ,\n",
            "         -0.5       , -0.5       ],\n",
            "        [-0.5       , -0.49215686, -0.5       , ..., -0.5       ,\n",
            "         -0.5       , -0.5       ]],\n",
            "\n",
            "       [[-0.5       , -0.5       , -0.5       , ..., -0.5       ,\n",
            "         -0.5       , -0.49215686],\n",
            "        [-0.5       , -0.5       , -0.5       , ..., -0.29215688,\n",
            "         -0.48039216, -0.5       ],\n",
            "        [-0.5       , -0.5       , -0.49607843, ..., -0.01764706,\n",
            "         -0.0372549 , -0.2647059 ],\n",
            "        ...,\n",
            "        [-0.5       , -0.5       , -0.49607843, ...,  0.00196078,\n",
            "         -0.00196078, -0.24509804],\n",
            "        [-0.5       , -0.5       , -0.5       , ..., -0.26862746,\n",
            "         -0.46862745, -0.5       ],\n",
            "        [-0.5       , -0.5       , -0.5       , ..., -0.5       ,\n",
            "         -0.5       , -0.49215686]],\n",
            "\n",
            "       [[-0.5       , -0.5       , -0.5       , ...,  0.27254903,\n",
            "         -0.27254903, -0.5       ],\n",
            "        [-0.5       , -0.5       , -0.5       , ...,  0.5       ,\n",
            "         -0.0372549 , -0.5       ],\n",
            "        [-0.5       , -0.5       , -0.5       , ...,  0.5       ,\n",
            "          0.00196078, -0.5       ],\n",
            "        ...,\n",
            "        [-0.5       , -0.5       , -0.49607843, ..., -0.46078432,\n",
            "         -0.5       , -0.49215686],\n",
            "        [-0.5       , -0.5       , -0.5       , ..., -0.49215686,\n",
            "         -0.49215686, -0.5       ],\n",
            "        [-0.5       , -0.5       , -0.5       , ..., -0.49607843,\n",
            "         -0.5       , -0.5       ]],\n",
            "\n",
            "       ...,\n",
            "\n",
            "       [[-0.5       , -0.5       , -0.5       , ..., -0.06078431,\n",
            "          0.26862746, -0.22941177],\n",
            "        [-0.5       , -0.5       , -0.5       , ..., -0.5       ,\n",
            "          0.05686275,  0.33137256],\n",
            "        [-0.5       , -0.5       , -0.5       , ..., -0.5       ,\n",
            "         -0.0254902 ,  0.5       ],\n",
            "        ...,\n",
            "        [-0.2882353 ,  0.4137255 ,  0.12352941, ..., -0.5       ,\n",
            "         -0.5       , -0.5       ],\n",
            "        [-0.31176472,  0.11176471,  0.3627451 , ..., -0.5       ,\n",
            "         -0.5       , -0.5       ],\n",
            "        [-0.5       , -0.5       , -0.49607843, ..., -0.5       ,\n",
            "         -0.5       , -0.5       ]],\n",
            "\n",
            "       [[ 0.5       ,  0.5       ,  0.5       , ...,  0.5       ,\n",
            "          0.5       ,  0.5       ],\n",
            "        [ 0.5       ,  0.5       ,  0.5       , ...,  0.5       ,\n",
            "          0.5       ,  0.5       ],\n",
            "        [ 0.5       ,  0.5       ,  0.5       , ...,  0.5       ,\n",
            "          0.5       ,  0.5       ],\n",
            "        ...,\n",
            "        [ 0.5       ,  0.5       ,  0.5       , ...,  0.5       ,\n",
            "          0.5       ,  0.5       ],\n",
            "        [ 0.5       ,  0.5       ,  0.5       , ...,  0.5       ,\n",
            "          0.5       ,  0.5       ],\n",
            "        [ 0.5       ,  0.5       ,  0.5       , ...,  0.5       ,\n",
            "          0.5       ,  0.5       ]],\n",
            "\n",
            "       [[ 0.33137256,  0.4764706 ,  0.5       , ...,  0.5       ,\n",
            "          0.4764706 ,  0.33137256],\n",
            "        [ 0.33137256,  0.4764706 ,  0.5       , ...,  0.5       ,\n",
            "          0.4764706 ,  0.33137256],\n",
            "        [ 0.33137256,  0.4764706 ,  0.5       , ...,  0.5       ,\n",
            "          0.4764706 ,  0.33137256],\n",
            "        ...,\n",
            "        [ 0.33137256,  0.4764706 ,  0.5       , ...,  0.5       ,\n",
            "          0.4764706 ,  0.33137256],\n",
            "        [ 0.33137256,  0.4764706 ,  0.5       , ...,  0.5       ,\n",
            "          0.4764706 ,  0.33137256],\n",
            "        [ 0.33137256,  0.4764706 ,  0.5       , ...,  0.5       ,\n",
            "          0.4764706 ,  0.33137256]]], dtype=float32), 'valid_dataset': array([[[-0.5       , -0.5       , -0.5       , ..., -0.5       ,\n",
            "         -0.5       , -0.5       ],\n",
            "        [-0.5       , -0.5       , -0.5       , ..., -0.49215686,\n",
            "         -0.5       , -0.5       ],\n",
            "        [-0.5       , -0.5       , -0.5       , ..., -0.49607843,\n",
            "         -0.5       , -0.5       ],\n",
            "        ...,\n",
            "        [-0.5       , -0.5       , -0.49215686, ..., -0.5       ,\n",
            "         -0.5       , -0.5       ],\n",
            "        [-0.5       , -0.5       , -0.5       , ..., -0.5       ,\n",
            "         -0.5       , -0.5       ],\n",
            "        [-0.5       , -0.5       , -0.5       , ..., -0.5       ,\n",
            "         -0.5       , -0.5       ]],\n",
            "\n",
            "       [[-0.5       , -0.5       , -0.5       , ..., -0.5       ,\n",
            "         -0.5       , -0.5       ],\n",
            "        [-0.5       , -0.5       , -0.5       , ..., -0.5       ,\n",
            "         -0.5       , -0.5       ],\n",
            "        [-0.5       , -0.5       , -0.5       , ..., -0.5       ,\n",
            "         -0.5       , -0.5       ],\n",
            "        ...,\n",
            "        [-0.5       ,  0.15490197,  0.5       , ...,  0.5       ,\n",
            "         -0.12745099, -0.5       ],\n",
            "        [-0.26862746,  0.47254902,  0.49607843, ...,  0.5       ,\n",
            "          0.3156863 , -0.46470588],\n",
            "        [ 0.17843138,  0.5       ,  0.48431373, ...,  0.48039216,\n",
            "          0.5       , -0.10392157]],\n",
            "\n",
            "       [[-0.5       , -0.5       , -0.5       , ..., -0.5       ,\n",
            "         -0.5       , -0.5       ],\n",
            "        [-0.5       , -0.5       , -0.5       , ..., -0.5       ,\n",
            "         -0.5       , -0.5       ],\n",
            "        [-0.5       , -0.5       , -0.5       , ..., -0.5       ,\n",
            "         -0.5       , -0.5       ],\n",
            "        ...,\n",
            "        [-0.12745099,  0.5       ,  0.49215686, ...,  0.49215686,\n",
            "          0.5       , -0.12745099],\n",
            "        [ 0.1509804 ,  0.5       ,  0.4882353 , ...,  0.4882353 ,\n",
            "          0.5       ,  0.1509804 ],\n",
            "        [ 0.39019608,  0.5       ,  0.49607843, ...,  0.49607843,\n",
            "          0.5       ,  0.39019608]],\n",
            "\n",
            "       ...,\n",
            "\n",
            "       [[-0.5       , -0.5       , -0.48431373, ..., -0.5       ,\n",
            "         -0.49215686, -0.49607843],\n",
            "        [-0.5       , -0.5       , -0.49607843, ..., -0.04117647,\n",
            "         -0.48431373, -0.5       ],\n",
            "        [-0.5       , -0.5       , -0.5       , ...,  0.5       ,\n",
            "          0.14313726, -0.5       ],\n",
            "        ...,\n",
            "        [-0.5       , -0.5       , -0.5       , ..., -0.5       ,\n",
            "         -0.49607843, -0.5       ],\n",
            "        [-0.3       , -0.05686275,  0.22156863, ..., -0.49607843,\n",
            "         -0.5       , -0.5       ],\n",
            "        [ 0.20980392,  0.5       ,  0.4882353 , ..., -0.5       ,\n",
            "         -0.5       , -0.5       ]],\n",
            "\n",
            "       [[-0.10392157,  0.5       ,  0.49215686, ...,  0.49607843,\n",
            "          0.4882353 , -0.00196078],\n",
            "        [-0.33137256, -0.02156863,  0.00196078, ...,  0.49607843,\n",
            "          0.5       ,  0.27254903],\n",
            "        [-0.5       , -0.5       , -0.49215686, ...,  0.4882353 ,\n",
            "          0.5       ,  0.29607844],\n",
            "        ...,\n",
            "        [-0.5       , -0.5       , -0.4882353 , ..., -0.5       ,\n",
            "         -0.5       , -0.5       ],\n",
            "        [-0.14313726,  0.04901961,  0.06078431, ..., -0.5       ,\n",
            "         -0.5       , -0.5       ],\n",
            "        [ 0.35490197,  0.5       ,  0.49607843, ..., -0.5       ,\n",
            "         -0.5       , -0.5       ]],\n",
            "\n",
            "       [[-0.5       , -0.5       , -0.5       , ...,  0.39803922,\n",
            "          0.42941177, -0.1627451 ],\n",
            "        [-0.5       , -0.5       , -0.5       , ..., -0.40588236,\n",
            "         -0.4137255 , -0.48431373],\n",
            "        [-0.5       , -0.5       , -0.5       , ..., -0.5       ,\n",
            "         -0.5       , -0.5       ],\n",
            "        ...,\n",
            "        [-0.49607843, -0.5       , -0.5       , ..., -0.5       ,\n",
            "         -0.5       , -0.5       ],\n",
            "        [-0.46078432, -0.39803922, -0.40588236, ..., -0.5       ,\n",
            "         -0.5       , -0.5       ],\n",
            "        [ 0.06078431,  0.44509804,  0.39019608, ..., -0.5       ,\n",
            "         -0.5       , -0.5       ]]], dtype=float32)}\n"
          ],
          "name": "stdout"
        }
      ]
    },
    {
      "metadata": {
        "id": "hQbLjrW_iT39",
        "colab_type": "code",
        "cellView": "both",
        "outputId": "53c61c9a-739c-4c0b-b4f6-0f4977e1be63",
        "colab": {
          "base_uri": "https://localhost:8080/",
          "height": 34
        }
      },
      "cell_type": "code",
      "source": [
        "statinfo = os.stat(pickle_file)\n",
        "print('Compressed pickle size:', statinfo.st_size)"
      ],
      "execution_count": 41,
      "outputs": [
        {
          "output_type": "stream",
          "text": [
            "Compressed pickle size: 690800441\n"
          ],
          "name": "stdout"
        }
      ]
    },
    {
      "metadata": {
        "id": "gE_cRAQB33lk",
        "colab_type": "text"
      },
      "cell_type": "markdown",
      "source": [
        "---\n",
        "Problem 5\n",
        "---------\n",
        "\n",
        "By construction, this dataset might contain a lot of overlapping samples, including training data that's also contained in the validation and test set! Overlap between training and test can skew the results if you expect to use your model in an environment where there is never an overlap, but are actually ok if you expect to see training samples recur when you use it.\n",
        "Measure how much overlap there is between training, validation and test samples.\n",
        "\n",
        "Optional questions:\n",
        "- What about near duplicates between datasets? (images that are almost identical)\n",
        "- Create a sanitized validation and test set, and compare your accuracy on those in subsequent assignments.\n",
        "---"
      ]
    },
    {
      "metadata": {
        "id": "losd1-4PDOqt",
        "colab_type": "code",
        "colab": {}
      },
      "cell_type": "code",
      "source": [
        "def display_overlap(overlap, source_dataset, target_dataset):\n",
        "  item = random.choice(overlap.keys())\n",
        "  imgs = np.concatenate(([source_dataset[item]], target_dataset[overlap[item][0:7]]))\n",
        "  plt.suptitle(item)\n",
        "  for i, img in enumerate(imgs):\n",
        "    plt.subplot(2, 4, i+1)\n",
        "    plt.axis('off')\n",
        "    plt.imshow(img)"
      ],
      "execution_count": 0,
      "outputs": []
    },
    {
      "metadata": {
        "id": "WLjaeMS-DW-v",
        "colab_type": "code",
        "colab": {}
      },
      "cell_type": "code",
      "source": [
        "def extract_overlap(dataset_1, dataset_2):\n",
        "  overlap = {}\n",
        "  for i, img_1 in enumerate(dataset_1):\n",
        "    for j, img_2 in enumerate(dataset_2):     \n",
        "      if np.array_equal(img_1, img_2):\n",
        "        if not i in overlap.keys():\n",
        "          overlap[i] = []\n",
        "        overlap[i].append(j)\n",
        "  return overlap"
      ],
      "execution_count": 0,
      "outputs": []
    },
    {
      "metadata": {
        "id": "JWWlhpsSDbcX",
        "colab_type": "code",
        "outputId": "cb4a0669-fc8b-4e36-f82a-f8152fd28823",
        "colab": {
          "base_uri": "https://localhost:8080/",
          "height": 51
        }
      },
      "cell_type": "code",
      "source": [
        "%time overlap_test_train = extract_overlap(test_dataset[:200], train_dataset)"
      ],
      "execution_count": 44,
      "outputs": [
        {
          "output_type": "stream",
          "text": [
            "CPU times: user 3min 22s, sys: 0 ns, total: 3min 22s\n",
            "Wall time: 3min 22s\n"
          ],
          "name": "stdout"
        }
      ]
    },
    {
      "metadata": {
        "id": "51F_436lHKt4",
        "colab_type": "code",
        "outputId": "86c0fc1f-ec0c-4e22-f1b7-d862d9c32b12",
        "colab": {
          "base_uri": "https://localhost:8080/",
          "height": 180
        }
      },
      "cell_type": "code",
      "source": [
        "print('Number of overlaps:', len(overlap_test_train.keys()))\n",
        "display_overlap(overlap_test_train, test_dataset[:200], train_dataset)"
      ],
      "execution_count": 50,
      "outputs": [
        {
          "output_type": "stream",
          "text": [
            "Number of overlaps: 22\n"
          ],
          "name": "stdout"
        },
        {
          "output_type": "display_data",
          "data": {
            "image/png": "[encoded data removed]",
            "text/plain": [
              "<Figure size 432x288 with 2 Axes>"
            ]
          },
          "metadata": {
            "tags": []
          }
        }
      ]
    },
    {
      "metadata": {
        "id": "kTVf4OrYHPz8",
        "colab_type": "code",
        "colab": {}
      },
      "cell_type": "code",
      "source": [
        "MAX_MANHATTAN_NORM = 10\n",
        "\n",
        "def extract_overlap_near(dataset_1, dataset_2):\n",
        "  overlap = {}\n",
        "  for i, img_1 in enumerate(dataset_1):\n",
        "    for j, img_2 in enumerate(dataset_2):\n",
        "      diff = img_1 - img_2\n",
        "      m_norm = np.sum(np.abs(diff))\n",
        "      if m_norm < MAX_MANHATTAN_NORM:\n",
        "        if not i in overlap.keys():\n",
        "          overlap[i] = []\n",
        "        overlap[i].append(j)\n",
        "  return overlap"
      ],
      "execution_count": 0,
      "outputs": []
    },
    {
      "metadata": {
        "id": "-qnQHKQYHYde",
        "colab_type": "code",
        "outputId": "d094f24e-15dd-45ad-9886-79e4cb85943e",
        "colab": {
          "base_uri": "https://localhost:8080/",
          "height": 51
        }
      },
      "cell_type": "code",
      "source": [
        "%time overlap_test_train_near = extract_overlap_near(test_dataset[:200], train_dataset)"
      ],
      "execution_count": 52,
      "outputs": [
        {
          "output_type": "stream",
          "text": [
            "CPU times: user 5min 26s, sys: 26.5 ms, total: 5min 26s\n",
            "Wall time: 5min 26s\n"
          ],
          "name": "stdout"
        }
      ]
    },
    {
      "metadata": {
        "id": "OZuUL9qMJ_jr",
        "colab_type": "code",
        "outputId": "d3f5ffb7-5229-41af-e83c-882e728b1134",
        "colab": {
          "base_uri": "https://localhost:8080/",
          "height": 180
        }
      },
      "cell_type": "code",
      "source": [
        "print('Number of near overlaps:', len(overlap_test_train_near.keys()))\n",
        "display_overlap(overlap_test_train_near, test_dataset[:200], train_dataset)"
      ],
      "execution_count": 0,
      "outputs": [
        {
          "output_type": "stream",
          "text": [
            "Number of near overlaps: 53\n"
          ],
          "name": "stdout"
        },
        {
          "output_type": "display_data",
          "data": {
            "image/png": "[encoded data removed]",
            "text/plain": [
              "<Figure size 432x288 with 2 Axes>"
            ]
          },
          "metadata": {
            "tags": []
          }
        }
      ]
    },
    {
      "metadata": {
        "id": "EH5RgPXbKDfq",
        "colab_type": "code",
        "colab": {}
      },
      "cell_type": "code",
      "source": [
        "def extract_overlap_stop(dataset_1, dataset_2):\n",
        "  overlap = {}\n",
        "  for i, img_1 in enumerate(dataset_1):\n",
        "    for j, img_2 in enumerate(dataset_2):     \n",
        "      if np.array_equal(img_1, img_2):\n",
        "        overlap[i] = [j]\n",
        "        break\n",
        "  return overlap"
      ],
      "execution_count": 0,
      "outputs": []
    },
    {
      "metadata": {
        "id": "9ojKycXXKI5f",
        "colab_type": "code",
        "outputId": "a2048278-514e-4c23-8720-15d345e73a67",
        "colab": {
          "base_uri": "https://localhost:8080/",
          "height": 51
        }
      },
      "cell_type": "code",
      "source": [
        "%time overlap_test_train = extract_overlap_stop(test_dataset[:200], train_dataset)"
      ],
      "execution_count": 0,
      "outputs": [
        {
          "output_type": "stream",
          "text": [
            "CPU times: user 3min 4s, sys: 14.9 ms, total: 3min 4s\n",
            "Wall time: 3min 4s\n"
          ],
          "name": "stdout"
        }
      ]
    },
    {
      "metadata": {
        "id": "AGDhAezBKLlP",
        "colab_type": "code",
        "outputId": "36cd042b-1e5e-4aa7-bd14-af688a0321a3",
        "colab": {
          "base_uri": "https://localhost:8080/",
          "height": 180
        }
      },
      "cell_type": "code",
      "source": [
        "print('Number of overlaps:', len(overlap_test_train.keys()))\n",
        "display_overlap(overlap_test_train, test_dataset[:200], train_dataset)"
      ],
      "execution_count": 0,
      "outputs": [
        {
          "output_type": "stream",
          "text": [
            "Number of overlaps: 22\n"
          ],
          "name": "stdout"
        },
        {
          "output_type": "display_data",
          "data": {
            "image/png": "[encoded data removed]",
            "text/plain": [
              "<Figure size 432x288 with 2 Axes>"
            ]
          },
          "metadata": {
            "tags": []
          }
        }
      ]
    },
    {
      "metadata": {
        "id": "Ae2_mHbeNFPE",
        "colab_type": "code",
        "colab": {}
      },
      "cell_type": "code",
      "source": [
        "MAX_MANHATTAN_NORM = 10\n",
        "\n",
        "def extract_overlap_where(dataset_1, dataset_2):\n",
        "  overlap = {}\n",
        "  for i, img_1 in enumerate(dataset_1):\n",
        "    diff = dataset_2 - img_1\n",
        "    norm = np.sum(np.abs(diff), axis=1)\n",
        "    duplicates = np.where(norm < MAX_MANHATTAN_NORM)\n",
        "    if len(duplicates[0]):\n",
        "      overlap[i] = duplicates[0]\n",
        "  return overlap"
      ],
      "execution_count": 0,
      "outputs": []
    },
    {
      "metadata": {
        "id": "c0RH3ROeNKG0",
        "colab_type": "code",
        "outputId": "be3f179b-32da-4d30-e4b5-d7420f22cc0e",
        "colab": {
          "base_uri": "https://localhost:8080/",
          "height": 51
        }
      },
      "cell_type": "code",
      "source": [
        "test_flat = test_dataset.reshape(test_dataset.shape[0], 28 * 28)\n",
        "train_flat = train_dataset.reshape(train_dataset.shape[0], 28 * 28)\n",
        "%time overlap_test_train = extract_overlap_where(test_flat[:200], train_flat)"
      ],
      "execution_count": 0,
      "outputs": [
        {
          "output_type": "stream",
          "text": [
            "CPU times: user 1min 38s, sys: 2 s, total: 1min 40s\n",
            "Wall time: 1min 40s\n"
          ],
          "name": "stdout"
        }
      ]
    },
    {
      "metadata": {
        "id": "rhPKd_wcNLoo",
        "colab_type": "code",
        "outputId": "a706d60b-74f9-4f1f-a334-f500844315a6",
        "colab": {
          "base_uri": "https://localhost:8080/",
          "height": 180
        }
      },
      "cell_type": "code",
      "source": [
        "print('Number of overlaps:', len(overlap_test_train.keys()))\n",
        "display_overlap(overlap_test_train, test_dataset[:200], train_dataset)"
      ],
      "execution_count": 0,
      "outputs": [
        {
          "output_type": "stream",
          "text": [
            "Number of overlaps: 53\n"
          ],
          "name": "stdout"
        },
        {
          "output_type": "display_data",
          "data": {
            "image/png": "[encoded data removed]",
            "text/plain": [
              "<Figure size 432x288 with 2 Axes>"
            ]
          },
          "metadata": {
            "tags": []
          }
        }
      ]
    },
    {
      "metadata": {
        "id": "CzjMrIDUOavn",
        "colab_type": "code",
        "colab": {}
      },
      "cell_type": "code",
      "source": [
        "def extract_overlap_hash(dataset_1, dataset_2):\n",
        "  dataset_hash_1 = [hashlib.sha256(img).hexdigest() for img in dataset_1]\n",
        "  dataset_hash_2 = [hashlib.sha256(img).hexdigest() for img in dataset_2]\n",
        "  overlap = {}\n",
        "  for i, hash1 in enumerate(dataset_hash_1):\n",
        "    for j, hash2 in enumerate(dataset_hash_2):\n",
        "      if hash1 == hash2:\n",
        "        if not i in overlap.keys():\n",
        "          overlap[i] = []\n",
        "        overlap[i].append(j) ## use np.where\n",
        "  return overlap"
      ],
      "execution_count": 0,
      "outputs": []
    },
    {
      "metadata": {
        "id": "C7rXuP4mOfpd",
        "colab_type": "code",
        "outputId": "9c796b96-1905-4874-9d78-86045531de8d",
        "colab": {
          "base_uri": "https://localhost:8080/",
          "height": 51
        }
      },
      "cell_type": "code",
      "source": [
        "%time overlap_test_train = extract_overlap_hash(test_dataset[:200], train_dataset)"
      ],
      "execution_count": 0,
      "outputs": [
        {
          "output_type": "stream",
          "text": [
            "CPU times: user 5.53 s, sys: 17 ms, total: 5.54 s\n",
            "Wall time: 5.54 s\n"
          ],
          "name": "stdout"
        }
      ]
    },
    {
      "metadata": {
        "id": "JIOYH3PcOkhu",
        "colab_type": "code",
        "outputId": "29d6a6d7-7328-4877-e168-db362a10fbd4",
        "colab": {
          "base_uri": "https://localhost:8080/",
          "height": 180
        }
      },
      "cell_type": "code",
      "source": [
        "print('Number of overlaps:', len(overlap_test_train.keys()))\n",
        "display_overlap(overlap_test_train, test_dataset[:200], train_dataset)"
      ],
      "execution_count": 0,
      "outputs": [
        {
          "output_type": "stream",
          "text": [
            "Number of overlaps: 25\n"
          ],
          "name": "stdout"
        },
        {
          "output_type": "display_data",
          "data": {
            "image/png": "[encoded data removed]",
            "text/plain": [
              "<Figure size 432x288 with 2 Axes>"
            ]
          },
          "metadata": {
            "tags": []
          }
        }
      ]
    },
    {
      "metadata": {
        "id": "iuh5cvmYOogn",
        "colab_type": "code",
        "colab": {}
      },
      "cell_type": "code",
      "source": [
        "def extract_overlap_hash_where(dataset_1, dataset_2):\n",
        "  dataset_hash_1 = np.array([hashlib.sha256(img).hexdigest() for img in dataset_1])\n",
        "  dataset_hash_2 = np.array([hashlib.sha256(img).hexdigest() for img in dataset_2])\n",
        "  overlap = {}\n",
        "  for i, hash1 in enumerate(dataset_hash_1):\n",
        "    duplicates = np.where(dataset_hash_2 == hash1)\n",
        "    if len(duplicates[0]):\n",
        "      overlap[i] = duplicates[0]\n",
        "  return overlap"
      ],
      "execution_count": 0,
      "outputs": []
    },
    {
      "metadata": {
        "id": "w8yaSQIfOr2u",
        "colab_type": "code",
        "outputId": "d693c432-51cb-405b-d777-6bd92f8800c1",
        "colab": {
          "base_uri": "https://localhost:8080/",
          "height": 51
        }
      },
      "cell_type": "code",
      "source": [
        "%time overlap_test_train = extract_overlap_hash_where(test_dataset[:200], train_dataset)"
      ],
      "execution_count": 0,
      "outputs": [
        {
          "output_type": "stream",
          "text": [
            "CPU times: user 2.59 s, sys: 22.9 ms, total: 2.61 s\n",
            "Wall time: 2.61 s\n"
          ],
          "name": "stdout"
        }
      ]
    },
    {
      "metadata": {
        "id": "-9Z-iDeROu_z",
        "colab_type": "code",
        "outputId": "fa6f644c-6483-4a97-d346-93a4bb52c4a5",
        "colab": {
          "base_uri": "https://localhost:8080/",
          "height": 180
        }
      },
      "cell_type": "code",
      "source": [
        "print('Number of overlaps:', len(overlap_test_train.keys()))\n",
        "display_overlap(overlap_test_train, test_dataset[:200], train_dataset)"
      ],
      "execution_count": 0,
      "outputs": [
        {
          "output_type": "stream",
          "text": [
            "Number of overlaps: 25\n"
          ],
          "name": "stdout"
        },
        {
          "output_type": "display_data",
          "data": {
            "image/png": "[encoded data removed]",
            "text/plain": [
              "<Figure size 432x288 with 2 Axes>"
            ]
          },
          "metadata": {
            "tags": []
          }
        }
      ]
    },
    {
      "metadata": {
        "id": "_viHhyXEO0tI",
        "colab_type": "code",
        "colab": {}
      },
      "cell_type": "code",
      "source": [
        "def sanetize(dataset_1, dataset_2, labels_1):\n",
        "  dataset_hash_1 = np.array([hashlib.sha256(img).hexdigest() for img in dataset_1])\n",
        "  dataset_hash_2 = np.array([hashlib.sha256(img).hexdigest() for img in dataset_2])\n",
        "  overlap = [] # list of indexes\n",
        "  for i, hash1 in enumerate(dataset_hash_1):\n",
        "    duplicates = np.where(dataset_hash_2 == hash1)\n",
        "    if len(duplicates[0]):\n",
        "      overlap.append(i) \n",
        "  return np.delete(dataset_1, overlap, 0), np.delete(labels_1, overlap, None)"
      ],
      "execution_count": 0,
      "outputs": []
    },
    {
      "metadata": {
        "id": "H9EggAl0O3iE",
        "colab_type": "code",
        "outputId": "f8c99d32-8aff-4958-94e6-f14ff2ec07c2",
        "colab": {
          "base_uri": "https://localhost:8080/",
          "height": 68
        }
      },
      "cell_type": "code",
      "source": [
        "%time test_dataset_sanit, test_labels_sanit = sanetize(test_dataset[:200], train_dataset, test_labels[:200])\n",
        "print('Overlapping images removed: ', len(test_dataset[:200]) - len(test_dataset_sanit))"
      ],
      "execution_count": 0,
      "outputs": [
        {
          "output_type": "stream",
          "text": [
            "CPU times: user 2.57 s, sys: 10.1 ms, total: 2.58 s\n",
            "Wall time: 2.59 s\n",
            "Overlapping images removed:  25\n"
          ],
          "name": "stdout"
        }
      ]
    },
    {
      "metadata": {
        "id": "NkUvNR1eO8Ac",
        "colab_type": "code",
        "outputId": "0180137e-3c0f-469e-9f90-9b28468c8d02",
        "colab": {
          "base_uri": "https://localhost:8080/",
          "height": 68
        }
      },
      "cell_type": "code",
      "source": [
        "%time test_dataset_sanit, test_labels_sanit = sanetize(test_dataset, train_dataset, test_labels)\n",
        "print('Overlapping images removed: ', len(test_dataset) - len(test_dataset_sanit))"
      ],
      "execution_count": 0,
      "outputs": [
        {
          "output_type": "stream",
          "text": [
            "CPU times: user 19.9 s, sys: 15.8 ms, total: 19.9 s\n",
            "Wall time: 20 s\n",
            "Overlapping images removed:  1315\n"
          ],
          "name": "stdout"
        }
      ]
    },
    {
      "metadata": {
        "id": "4MjAdyBlPA6T",
        "colab_type": "code",
        "outputId": "be1fc211-05ad-489d-947e-69891569d8b7",
        "colab": {
          "base_uri": "https://localhost:8080/",
          "height": 68
        }
      },
      "cell_type": "code",
      "source": [
        "%time valid_dataset_sanit, valid_labels_sanit = sanetize(valid_dataset, train_dataset, valid_labels)\n",
        "print('Overlapping images removed: ', len(valid_dataset) - len(valid_dataset_sanit))"
      ],
      "execution_count": 0,
      "outputs": [
        {
          "output_type": "stream",
          "text": [
            "CPU times: user 20 s, sys: 13.8 ms, total: 20 s\n",
            "Wall time: 20 s\n",
            "Overlapping images removed:  1054\n"
          ],
          "name": "stdout"
        }
      ]
    },
    {
      "metadata": {
        "id": "B9VZ2LlVPEGX",
        "colab_type": "code",
        "colab": {}
      },
      "cell_type": "code",
      "source": [
        "pickle_file_sanit = 'notMNIST_sanit.pickle'\n",
        "\n",
        "try:\n",
        "  f = open(pickle_file_sanit, 'wb')\n",
        "  save = {\n",
        "    'train_dataset': train_dataset,\n",
        "    'train_labels': train_labels,\n",
        "    'valid_dataset': valid_dataset_sanit,\n",
        "    'valid_labels': valid_labels_sanit,\n",
        "    'test_dataset': test_dataset_sanit,\n",
        "    'test_labels': test_labels_sanit,\n",
        "    }\n",
        "  pickle.dump(save, f, pickle.HIGHEST_PROTOCOL)\n",
        "  f.close()\n",
        "except Exception as e:\n",
        "  print('Unable to save data to', pickle_file, ':', e)\n",
        "  raise"
      ],
      "execution_count": 0,
      "outputs": []
    },
    {
      "metadata": {
        "id": "LlLyGEmpPHk2",
        "colab_type": "code",
        "outputId": "4eaffcc3-7ed6-4508-c8eb-6979331659bb",
        "colab": {
          "base_uri": "https://localhost:8080/",
          "height": 34
        }
      },
      "cell_type": "code",
      "source": [
        "statinfo = os.stat(pickle_file_sanit)\n",
        "print('Compressed pickle size:', statinfo.st_size)"
      ],
      "execution_count": 0,
      "outputs": [
        {
          "output_type": "stream",
          "text": [
            "Compressed pickle size: 683361781\n"
          ],
          "name": "stdout"
        }
      ]
    },
    {
      "metadata": {
        "id": "L8oww1s4JMQx",
        "colab_type": "text"
      },
      "cell_type": "markdown",
      "source": [
        "---\n",
        "Problem 6\n",
        "---------\n",
        "\n",
        "Let's get an idea of what an off-the-shelf classifier can give you on this data. It's always good to check that there is something to learn, and that it's a problem that is not so trivial that a canned solution solves it.\n",
        "\n",
        "Train a simple model on this data using 50, 100, 1000 and 5000 training samples. Hint: you can use the LogisticRegression model from sklearn.linear_model.\n",
        "\n",
        "Optional question: train an off-the-shelf model on all the data!\n",
        "\n",
        "---"
      ]
    },
    {
      "metadata": {
        "id": "YqjGP5qU5Cba",
        "colab_type": "code",
        "colab": {}
      },
      "cell_type": "code",
      "source": [
        "regr = LogisticRegression()\n",
        "X_test = test_dataset.reshape(test_dataset.shape[0], 28 * 28)\n",
        "y_test = test_labels"
      ],
      "execution_count": 0,
      "outputs": []
    },
    {
      "metadata": {
        "id": "smxX61GR5Eta",
        "colab_type": "code",
        "outputId": "19feef37-32ad-4511-f442-f9d6ec5be156",
        "colab": {
          "base_uri": "https://localhost:8080/",
          "height": 136
        }
      },
      "cell_type": "code",
      "source": [
        "sample_size = 50\n",
        "X_train = train_dataset[:sample_size].reshape(sample_size, 784)\n",
        "y_train = train_labels[:sample_size]\n",
        "%time regr.fit(X_train, y_train)\n",
        "regr.score(X_test, y_test)"
      ],
      "execution_count": 0,
      "outputs": [
        {
          "output_type": "stream",
          "text": [
            "CPU times: user 110 ms, sys: 1.07 ms, total: 111 ms\n",
            "Wall time: 130 ms\n"
          ],
          "name": "stdout"
        },
        {
          "output_type": "stream",
          "text": [
            "/usr/local/lib/python2.7/dist-packages/sklearn/linear_model/logistic.py:433: FutureWarning: Default solver will be changed to 'lbfgs' in 0.22. Specify a solver to silence this warning.\n",
            "  FutureWarning)\n",
            "/usr/local/lib/python2.7/dist-packages/sklearn/linear_model/logistic.py:460: FutureWarning: Default multi_class will be changed to 'auto' in 0.22. Specify the multi_class option to silence this warning.\n",
            "  \"this warning.\", FutureWarning)\n"
          ],
          "name": "stderr"
        },
        {
          "output_type": "execute_result",
          "data": {
            "text/plain": [
              "0.6064"
            ]
          },
          "metadata": {
            "tags": []
          },
          "execution_count": 70
        }
      ]
    },
    {
      "metadata": {
        "id": "2WEu795t5IlO",
        "colab_type": "code",
        "outputId": "d519ccab-743a-4eb8-862f-6f58251927e8",
        "colab": {
          "base_uri": "https://localhost:8080/",
          "height": 254
        }
      },
      "cell_type": "code",
      "source": [
        "pred_labels = regr.predict(X_test)\n",
        "disp_sample_dataset(test_dataset, pred_labels)"
      ],
      "execution_count": 0,
      "outputs": [
        {
          "output_type": "display_data",
          "data": {
            "image/png": "[encoded data removed]",
            "text/plain": [
              "<Figure size 432x288 with 8 Axes>"
            ]
          },
          "metadata": {
            "tags": []
          }
        }
      ]
    },
    {
      "metadata": {
        "id": "nMwG0fiT5GoR",
        "colab_type": "code",
        "outputId": "8f181adf-c1b1-40b8-f102-71c16eee19dd",
        "colab": {
          "base_uri": "https://localhost:8080/",
          "height": 68
        }
      },
      "cell_type": "code",
      "source": [
        "sample_size = 100\n",
        "X_train = train_dataset[:sample_size].reshape(sample_size, 784)\n",
        "y_train = train_labels[:sample_size]\n",
        "%time regr.fit(X_train, y_train)\n",
        "regr.score(X_test, y_test)"
      ],
      "execution_count": 0,
      "outputs": [
        {
          "output_type": "stream",
          "text": [
            "CPU times: user 247 ms, sys: 1.95 ms, total: 249 ms\n",
            "Wall time: 251 ms\n"
          ],
          "name": "stdout"
        },
        {
          "output_type": "execute_result",
          "data": {
            "text/plain": [
              "0.7089"
            ]
          },
          "metadata": {
            "tags": []
          },
          "execution_count": 73
        }
      ]
    },
    {
      "metadata": {
        "id": "kDu-gwz45Nj_",
        "colab_type": "code",
        "outputId": "84e33fac-1868-41fd-bacd-9c4eceef8548",
        "colab": {
          "base_uri": "https://localhost:8080/",
          "height": 68
        }
      },
      "cell_type": "code",
      "source": [
        "sample_size = 1000\n",
        "X_train = train_dataset[:sample_size].reshape(sample_size, 784)\n",
        "y_train = train_labels[:sample_size]\n",
        "%time regr.fit(X_train, y_train)\n",
        "regr.score(X_test, y_test)"
      ],
      "execution_count": 0,
      "outputs": [
        {
          "output_type": "stream",
          "text": [
            "CPU times: user 4.05 s, sys: 10.9 ms, total: 4.06 s\n",
            "Wall time: 4.06 s\n"
          ],
          "name": "stdout"
        },
        {
          "output_type": "execute_result",
          "data": {
            "text/plain": [
              "0.8315"
            ]
          },
          "metadata": {
            "tags": []
          },
          "execution_count": 74
        }
      ]
    },
    {
      "metadata": {
        "id": "IIRFm6qv5Qh6",
        "colab_type": "code",
        "outputId": "5b5f23c3-ce4d-4bda-ce6e-6b460af6864a",
        "colab": {
          "base_uri": "https://localhost:8080/",
          "height": 34
        }
      },
      "cell_type": "code",
      "source": [
        "X_valid = valid_dataset[:sample_size].reshape(sample_size, 784)\n",
        "y_valid = valid_labels[:sample_size]\n",
        "regr.score(X_valid, y_valid)"
      ],
      "execution_count": 0,
      "outputs": [
        {
          "output_type": "execute_result",
          "data": {
            "text/plain": [
              "0.757"
            ]
          },
          "metadata": {
            "tags": []
          },
          "execution_count": 75
        }
      ]
    },
    {
      "metadata": {
        "id": "RTiQHJZl5SoG",
        "colab_type": "code",
        "outputId": "33b45cd9-b847-4978-ffab-01c79fc8006c",
        "colab": {
          "base_uri": "https://localhost:8080/",
          "height": 254
        }
      },
      "cell_type": "code",
      "source": [
        "\n",
        "pred_labels = regr.predict(X_valid)\n",
        "disp_sample_dataset(valid_dataset, pred_labels)"
      ],
      "execution_count": 0,
      "outputs": [
        {
          "output_type": "display_data",
          "data": {
            "image/png": "[encoded data removed]",
            "text/plain": [
              "<Figure size 432x288 with 8 Axes>"
            ]
          },
          "metadata": {
            "tags": []
          }
        }
      ]
    },
    {
      "metadata": {
        "id": "NINZvrgy5Vuw",
        "colab_type": "code",
        "outputId": "dfba0194-8665-41d5-abd2-cc21bbc8fe15",
        "colab": {
          "base_uri": "https://localhost:8080/",
          "height": 68
        }
      },
      "cell_type": "code",
      "source": [
        "sample_size = 5000\n",
        "X_train = train_dataset[:sample_size].reshape(sample_size, 784)\n",
        "y_train = train_labels[:sample_size]\n",
        "%time regr.fit(X_train, y_train)\n",
        "regr.score(X_test, y_test)"
      ],
      "execution_count": 0,
      "outputs": [
        {
          "output_type": "stream",
          "text": [
            "CPU times: user 40.7 s, sys: 39.4 ms, total: 40.8 s\n",
            "Wall time: 40.8 s\n"
          ],
          "name": "stdout"
        },
        {
          "output_type": "execute_result",
          "data": {
            "text/plain": [
              "0.8513"
            ]
          },
          "metadata": {
            "tags": []
          },
          "execution_count": 77
        }
      ]
    },
    {
      "metadata": {
        "id": "R0VJY4195YTP",
        "colab_type": "code",
        "colab": {}
      },
      "cell_type": "code",
      "source": [
        "regr2 = LogisticRegression(solver='sag')\n",
        "sample_size = len(train_dataset)\n",
        "X_train = train_dataset[:sample_size].reshape(sample_size, 784)\n",
        "y_train = train_labels[:sample_size]\n",
        "%time regr2.fit(X_train, y_train)\n",
        "regr2.score(X_test, y_test)"
      ],
      "execution_count": 0,
      "outputs": []
    },
    {
      "metadata": {
        "id": "HVt3oP5r5ae_",
        "colab_type": "code",
        "colab": {}
      },
      "cell_type": "code",
      "source": [
        "\n",
        "pred_labels = regr.predict(X_test)\n",
        "disp_sample_dataset(test_dataset, pred_labels)"
      ],
      "execution_count": 0,
      "outputs": []
    }
  ]
}