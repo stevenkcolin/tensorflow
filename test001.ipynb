{
  "nbformat": 4,
  "nbformat_minor": 0,
  "metadata": {
    "colab": {
      "name": "test001.ipynb",
      "version": "0.3.2",
      "provenance": [],
      "collapsed_sections": [],
      "include_colab_link": true
    },
    "kernelspec": {
      "name": "python3",
      "display_name": "Python 3"
    }
  },
  "cells": [
    {
      "cell_type": "markdown",
      "metadata": {
        "id": "view-in-github",
        "colab_type": "text"
      },
      "source": [
        "<a href=\"https://colab.research.google.com/github/stevenkcolin/tensorflow/blob/master/test001.ipynb\" target=\"_parent\"><img src=\"https://colab.research.google.com/assets/colab-badge.svg\" alt=\"Open In Colab\"/></a>"
      ]
    },
    {
      "metadata": {
        "id": "yx7PtUjdNe1C",
        "colab_type": "code",
        "outputId": "9fddf1c9-ba2b-45f2-f557-654f3cb8f8b0",
        "colab": {
          "base_uri": "https://localhost:8080/",
          "height": 34
        }
      },
      "cell_type": "code",
      "source": [
        "print (\"aaa\")"
      ],
      "execution_count": 1,
      "outputs": [
        {
          "output_type": "stream",
          "text": [
            "aaa\n"
          ],
          "name": "stdout"
        }
      ]
    },
    {
      "metadata": {
        "id": "PDCqm2bGL4mP",
        "colab_type": "code",
        "colab": {}
      },
      "cell_type": "code",
      "source": [
        "# Step 1\n",
        "import pickle\n",
        "data = {'remote_hostname': 'google.com', 'remote_port': 80, \"address\":\"hello world\"}\n",
        "# Step 2\n",
        "with open('config.dictionary', 'wb') as config_dictionary_file:\n",
        "   \n",
        "  # Step 3\n",
        "  pickle.dump(data, config_dictionary_file)\n"
      ],
      "execution_count": 0,
      "outputs": []
    },
    {
      "metadata": {
        "id": "k6-hbCzWP9NE",
        "colab_type": "code",
        "outputId": "8dc3b422-50a4-4d9d-b693-b20efdc782b4",
        "colab": {
          "base_uri": "https://localhost:8080/",
          "height": 34
        }
      },
      "cell_type": "code",
      "source": [
        "import pickle\n",
        "with open('config.dictionary', 'rb') as config_dictionary_file:\n",
        " \n",
        "    # Step 3\n",
        "    data = pickle.load(config_dictionary_file)\n",
        " \n",
        "    # After config_dictionary is read from file\n",
        "    print(data)"
      ],
      "execution_count": 3,
      "outputs": [
        {
          "output_type": "stream",
          "text": [
            "{'remote_hostname': 'google.com', 'remote_port': 80, 'address': 'stevenkcolin.github.io'}\n"
          ],
          "name": "stdout"
        }
      ]
    }
  ]
}